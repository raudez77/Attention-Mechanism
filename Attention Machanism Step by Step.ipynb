{
 "cells": [
  {
   "cell_type": "markdown",
   "metadata": {},
   "source": [
    "### $Library$"
   ]
  },
  {
   "cell_type": "code",
   "execution_count": 233,
   "metadata": {},
   "outputs": [],
   "source": [
    "# Torch\n",
    "import torch\n",
    "import torch.nn as nn \n",
    "import torch.nn.functional as F\n",
    "import torch.utils.data as data \n",
    "from torch.autograd import Variable\n",
    "\n",
    "# Machine Learning \n",
    "from sklearn.decomposition import PCA\n",
    "\n",
    "\n",
    "# Numpy \n",
    "import numpy as np \n",
    "import math \n",
    "\n",
    "\n",
    "# Matplotlib\n",
    "import matplotlib.pyplot as plt\n",
    "import plotly.graph_objects as go\n",
    "import seaborn as sns\n",
    "plt.set_cmap('viridis')\n",
    "%matplotlib inline\n",
    "\n",
    "# Keras\n",
    "import tensorflow as tf\n",
    "\n",
    "# W2V\n",
    "from gensim.models.word2vec import Word2Vec\n",
    "\n",
    "# Plotting\n",
    "import plotly.express as px\n",
    "\n",
    "# Classes and Parameters\n",
    "from typing import Optional, Tuple\n",
    "\n",
    "\n",
    "DEVICE = torch.device(\"gpu\" if torch.cuda.is_available() else \"cpu\")"
   ]
  },
  {
   "cell_type": "markdown",
   "metadata": {},
   "source": [
    "### $Embedding \\:Layer$"
   ]
  },
  {
   "cell_type": "code",
   "execution_count": 116,
   "metadata": {},
   "outputs": [],
   "source": [
    "class EmbeddingLayer (nn.Module):\n",
    "    \"\"\" Embedding layer which map and transform tokens into Vectors\n",
    "    Pad Sequences must have the Same Length\"\"\"\n",
    "    def __init__(self, VocSize:int, EmbDim:int):\n",
    "        \"\"\"\n",
    "        Parameters\n",
    "        -------------------------------------------------------------\n",
    "        Args:\n",
    "            VocSize: Total Unique Words in Corpus: such as tf.keras.text.preprocessing.Tokenizer.word_index\n",
    "            Emb_Dim : Embedding Dimension to map each of the Given sentences (Original Paper suggests 512)\n",
    "            \n",
    "        Return:\n",
    "            nn.Embedding : shape [batch_size, seq.Length, Emb_Dim]\n",
    "        \"\"\"\n",
    "        super(EmbeddingLayer,self).__init__()\n",
    "        self.Normalizer = math.sqrt(EmbDim)\n",
    "\n",
    "        # Embedding Layer : Other Options could be tf.keras.layer.Embedding\n",
    "        self.EmbLayer = nn.Embedding(num_embeddings = VocSize, embedding_dim = EmbDim)\n",
    "\n",
    "    def forward (self, x:torch.Tensor)-> nn.Embedding:\n",
    "        \"Return Embedding Matrix , shape : [batch_size, seq.Length, Emb_Dim]\"\n",
    "        # check the notes to understand why Sqrt\n",
    "        return self.EmbLayer(x) * self.Normalizer "
   ]
  },
  {
   "cell_type": "markdown",
   "metadata": {},
   "source": [
    "##### $Embedding \\: Example$ : I am using a Embedding = 4, and then using PCA to pass from 4 Dimension to 3 Dimension"
   ]
  },
  {
   "cell_type": "code",
   "execution_count": 113,
   "metadata": {},
   "outputs": [
    {
     "name": "stdout",
     "output_type": "stream",
     "text": [
      "Corpus VocSize : 10\n",
      "Token2Seq : [array([2, 3, 1, 4, 0, 0]), array([5, 6, 1, 7, 8, 9])]\n"
     ]
    }
   ],
   "source": [
    "import tensorflow as tf\n",
    "import pandas as pd\n",
    "\n",
    "# Original Sentences\n",
    "MySentences = [[\"Hello\", \"this\", \"is\", \"Marvin\"], \n",
    "                [\"explaining\", \"attention\" ,\"is\" ,\"all\" ,\"you\" ,\"need\"]]\n",
    "\n",
    "# Settings Word into Vector \n",
    "MinWords , EmbDim , MaxLength = 1, 4,6\n",
    "INDEX = MySentences[0] + [\"<pad>\"] * 2 + MySentences[1]\n",
    "COLS = [f\"Dim_{dimension+1}\" for dimension in range(EmbDim)]\n",
    "\n",
    "# Tokenizing and Transforming\n",
    "Tokenizer = tf.keras.preprocessing.text.Tokenizer()\n",
    "Tokenizer.fit_on_texts(MySentences)\n",
    "\n",
    "# Word2Token\n",
    "W2Token = Tokenizer.texts_to_sequences(MySentences)\n",
    "Token2Seq = tf.keras.utils.pad_sequences(sequences  = W2Token,maxlen= MaxLength, padding ='post')\n",
    "print(f\"Corpus VocSize : {len(Tokenizer.word_index) + 1}\")\n",
    "print(f\"Token2Seq : {list(Token2Seq)}\")"
   ]
  },
  {
   "cell_type": "code",
   "execution_count": 114,
   "metadata": {},
   "outputs": [
    {
     "name": "stdout",
     "output_type": "stream",
     "text": [
      "Original Output shape `EmbOutput`; torch.Size([2, 6, 4])\n"
     ]
    },
    {
     "data": {
      "text/html": [
       "<div>\n",
       "<style scoped>\n",
       "    .dataframe tbody tr th:only-of-type {\n",
       "        vertical-align: middle;\n",
       "    }\n",
       "\n",
       "    .dataframe tbody tr th {\n",
       "        vertical-align: top;\n",
       "    }\n",
       "\n",
       "    .dataframe thead th {\n",
       "        text-align: right;\n",
       "    }\n",
       "</style>\n",
       "<table border=\"1\" class=\"dataframe\">\n",
       "  <thead>\n",
       "    <tr style=\"text-align: right;\">\n",
       "      <th></th>\n",
       "      <th>Dim_1</th>\n",
       "      <th>Dim_2</th>\n",
       "      <th>Dim_3</th>\n",
       "      <th>Dim_4</th>\n",
       "    </tr>\n",
       "  </thead>\n",
       "  <tbody>\n",
       "    <tr>\n",
       "      <th>Hello</th>\n",
       "      <td>1.440728</td>\n",
       "      <td>2.973674</td>\n",
       "      <td>-1.430465</td>\n",
       "      <td>0.848117</td>\n",
       "    </tr>\n",
       "    <tr>\n",
       "      <th>this</th>\n",
       "      <td>0.541911</td>\n",
       "      <td>-2.988358</td>\n",
       "      <td>0.928725</td>\n",
       "      <td>0.479676</td>\n",
       "    </tr>\n",
       "    <tr>\n",
       "      <th>is</th>\n",
       "      <td>0.416919</td>\n",
       "      <td>-1.006722</td>\n",
       "      <td>-1.224518</td>\n",
       "      <td>2.233092</td>\n",
       "    </tr>\n",
       "    <tr>\n",
       "      <th>Marvin</th>\n",
       "      <td>0.347694</td>\n",
       "      <td>0.448656</td>\n",
       "      <td>-1.068523</td>\n",
       "      <td>1.702791</td>\n",
       "    </tr>\n",
       "    <tr>\n",
       "      <th>&lt;pad&gt;</th>\n",
       "      <td>-0.819999</td>\n",
       "      <td>-2.927366</td>\n",
       "      <td>-1.938664</td>\n",
       "      <td>1.094274</td>\n",
       "    </tr>\n",
       "    <tr>\n",
       "      <th>&lt;pad&gt;</th>\n",
       "      <td>-0.819999</td>\n",
       "      <td>-2.927366</td>\n",
       "      <td>-1.938664</td>\n",
       "      <td>1.094274</td>\n",
       "    </tr>\n",
       "    <tr>\n",
       "      <th>explaining</th>\n",
       "      <td>1.866949</td>\n",
       "      <td>-1.135921</td>\n",
       "      <td>0.918973</td>\n",
       "      <td>0.535263</td>\n",
       "    </tr>\n",
       "    <tr>\n",
       "      <th>attention</th>\n",
       "      <td>-1.573473</td>\n",
       "      <td>1.415533</td>\n",
       "      <td>-0.277066</td>\n",
       "      <td>-0.100730</td>\n",
       "    </tr>\n",
       "    <tr>\n",
       "      <th>is</th>\n",
       "      <td>0.416919</td>\n",
       "      <td>-1.006722</td>\n",
       "      <td>-1.224518</td>\n",
       "      <td>2.233092</td>\n",
       "    </tr>\n",
       "    <tr>\n",
       "      <th>all</th>\n",
       "      <td>-1.644863</td>\n",
       "      <td>-0.696444</td>\n",
       "      <td>-1.084596</td>\n",
       "      <td>-3.644011</td>\n",
       "    </tr>\n",
       "    <tr>\n",
       "      <th>you</th>\n",
       "      <td>1.267145</td>\n",
       "      <td>-0.484774</td>\n",
       "      <td>-3.763792</td>\n",
       "      <td>1.213998</td>\n",
       "    </tr>\n",
       "    <tr>\n",
       "      <th>need</th>\n",
       "      <td>-1.714827</td>\n",
       "      <td>-5.781738</td>\n",
       "      <td>-1.370173</td>\n",
       "      <td>-1.989886</td>\n",
       "    </tr>\n",
       "  </tbody>\n",
       "</table>\n",
       "</div>"
      ],
      "text/plain": [
       "               Dim_1     Dim_2     Dim_3     Dim_4\n",
       "Hello       1.440728  2.973674 -1.430465  0.848117\n",
       "this        0.541911 -2.988358  0.928725  0.479676\n",
       "is          0.416919 -1.006722 -1.224518  2.233092\n",
       "Marvin      0.347694  0.448656 -1.068523  1.702791\n",
       "<pad>      -0.819999 -2.927366 -1.938664  1.094274\n",
       "<pad>      -0.819999 -2.927366 -1.938664  1.094274\n",
       "explaining  1.866949 -1.135921  0.918973  0.535263\n",
       "attention  -1.573473  1.415533 -0.277066 -0.100730\n",
       "is          0.416919 -1.006722 -1.224518  2.233092\n",
       "all        -1.644863 -0.696444 -1.084596 -3.644011\n",
       "you         1.267145 -0.484774 -3.763792  1.213998\n",
       "need       -1.714827 -5.781738 -1.370173 -1.989886"
      ]
     },
     "execution_count": 114,
     "metadata": {},
     "output_type": "execute_result"
    }
   ],
   "source": [
    "# Initiating and Fitting\n",
    "EmbeddingLayer_ = EmbeddingLayer(VocSize=len(Tokenizer.word_index) + 1, EmbDim= EmbDim) \n",
    "EmbOutput = EmbeddingLayer_(torch.from_numpy(Token2Seq))\n",
    "print(f\"Original Output shape `EmbOutput`; {EmbOutput.size()}\")\n",
    "\n",
    "# Pandas Representation \n",
    "Data4Pandas = EmbOutput.view(12,EmbDim).detach().numpy()  # ::atr:: `PCA` Handle 2D Array : Passing From [2 batches, Seq.MaxLength, EmbeddingDimension] -> [2 batches, Seq.MaxLength, EmbeddingDimension]\n",
    "pd.DataFrame( index = INDEX , data = Data4Pandas, columns = COLS)"
   ]
  },
  {
   "cell_type": "code",
   "execution_count": 115,
   "metadata": {},
   "outputs": [
    {
     "data": {
      "application/vnd.plotly.v1+json": {
       "config": {
        "plotlyServerURL": "https://plot.ly"
       },
       "data": [
        {
         "hovertemplate": "Dim_1=%{x}<br>Dim_2=%{y}<br>Dim_3=%{z}<br>text=%{text}<extra></extra>",
         "legendgroup": "",
         "marker": {
          "color": "#636efa",
          "symbol": "circle"
         },
         "mode": "markers+text",
         "name": "",
         "scene": "scene",
         "showlegend": false,
         "text": [
          "Hello",
          "this",
          "is",
          "Marvin",
          "<pad>",
          "<pad>",
          "explaining",
          "attention",
          "is",
          "all",
          "you",
          "need"
         ],
         "type": "scatter3d",
         "x": [
          -4.2003583908081055,
          1.4212979078292847,
          -0.9805852174758911,
          -1.9977271556854248,
          1.5036399364471436,
          1.5036399364471436,
          -0.6267483234405518,
          -1.4750503301620483,
          -0.9805850982666016,
          1.7314225435256958,
          -1.3706058263778687,
          5.471661567687988
         ],
         "y": [
          1.2201995849609375,
          -0.8258159756660461,
          -1.472815752029419,
          -0.2927227020263672,
          -1.1909430027008057,
          -1.1909430027008057,
          -0.4002782702445984,
          2.3542442321777344,
          -1.4728155136108398,
          4.053977966308594,
          -1.0068609714508057,
          0.22477251291275024
         ],
         "z": [
          -0.19025006890296936,
          2.2565550804138184,
          -0.011403852142393589,
          0.017136992886662483,
          -0.8865752816200256,
          -0.8865752816200256,
          2.488007068634033,
          0.17763234674930573,
          -0.01140372920781374,
          -0.39989492297172546,
          -2.215033531188965,
          -0.3381946384906769
         ]
        }
       ],
       "layout": {
        "height": 600,
        "legend": {
         "tracegroupgap": 0
        },
        "scene": {
         "domain": {
          "x": [
           0,
           1
          ],
          "y": [
           0,
           1
          ]
         },
         "xaxis": {
          "title": {
           "text": "Dim_1"
          }
         },
         "yaxis": {
          "title": {
           "text": "Dim_2"
          }
         },
         "zaxis": {
          "title": {
           "text": "Dim_3"
          }
         }
        },
        "template": {
         "data": {
          "bar": [
           {
            "error_x": {
             "color": "#2a3f5f"
            },
            "error_y": {
             "color": "#2a3f5f"
            },
            "marker": {
             "line": {
              "color": "#E5ECF6",
              "width": 0.5
             },
             "pattern": {
              "fillmode": "overlay",
              "size": 10,
              "solidity": 0.2
             }
            },
            "type": "bar"
           }
          ],
          "barpolar": [
           {
            "marker": {
             "line": {
              "color": "#E5ECF6",
              "width": 0.5
             },
             "pattern": {
              "fillmode": "overlay",
              "size": 10,
              "solidity": 0.2
             }
            },
            "type": "barpolar"
           }
          ],
          "carpet": [
           {
            "aaxis": {
             "endlinecolor": "#2a3f5f",
             "gridcolor": "white",
             "linecolor": "white",
             "minorgridcolor": "white",
             "startlinecolor": "#2a3f5f"
            },
            "baxis": {
             "endlinecolor": "#2a3f5f",
             "gridcolor": "white",
             "linecolor": "white",
             "minorgridcolor": "white",
             "startlinecolor": "#2a3f5f"
            },
            "type": "carpet"
           }
          ],
          "choropleth": [
           {
            "colorbar": {
             "outlinewidth": 0,
             "ticks": ""
            },
            "type": "choropleth"
           }
          ],
          "contour": [
           {
            "colorbar": {
             "outlinewidth": 0,
             "ticks": ""
            },
            "colorscale": [
             [
              0,
              "#0d0887"
             ],
             [
              0.1111111111111111,
              "#46039f"
             ],
             [
              0.2222222222222222,
              "#7201a8"
             ],
             [
              0.3333333333333333,
              "#9c179e"
             ],
             [
              0.4444444444444444,
              "#bd3786"
             ],
             [
              0.5555555555555556,
              "#d8576b"
             ],
             [
              0.6666666666666666,
              "#ed7953"
             ],
             [
              0.7777777777777778,
              "#fb9f3a"
             ],
             [
              0.8888888888888888,
              "#fdca26"
             ],
             [
              1,
              "#f0f921"
             ]
            ],
            "type": "contour"
           }
          ],
          "contourcarpet": [
           {
            "colorbar": {
             "outlinewidth": 0,
             "ticks": ""
            },
            "type": "contourcarpet"
           }
          ],
          "heatmap": [
           {
            "colorbar": {
             "outlinewidth": 0,
             "ticks": ""
            },
            "colorscale": [
             [
              0,
              "#0d0887"
             ],
             [
              0.1111111111111111,
              "#46039f"
             ],
             [
              0.2222222222222222,
              "#7201a8"
             ],
             [
              0.3333333333333333,
              "#9c179e"
             ],
             [
              0.4444444444444444,
              "#bd3786"
             ],
             [
              0.5555555555555556,
              "#d8576b"
             ],
             [
              0.6666666666666666,
              "#ed7953"
             ],
             [
              0.7777777777777778,
              "#fb9f3a"
             ],
             [
              0.8888888888888888,
              "#fdca26"
             ],
             [
              1,
              "#f0f921"
             ]
            ],
            "type": "heatmap"
           }
          ],
          "heatmapgl": [
           {
            "colorbar": {
             "outlinewidth": 0,
             "ticks": ""
            },
            "colorscale": [
             [
              0,
              "#0d0887"
             ],
             [
              0.1111111111111111,
              "#46039f"
             ],
             [
              0.2222222222222222,
              "#7201a8"
             ],
             [
              0.3333333333333333,
              "#9c179e"
             ],
             [
              0.4444444444444444,
              "#bd3786"
             ],
             [
              0.5555555555555556,
              "#d8576b"
             ],
             [
              0.6666666666666666,
              "#ed7953"
             ],
             [
              0.7777777777777778,
              "#fb9f3a"
             ],
             [
              0.8888888888888888,
              "#fdca26"
             ],
             [
              1,
              "#f0f921"
             ]
            ],
            "type": "heatmapgl"
           }
          ],
          "histogram": [
           {
            "marker": {
             "pattern": {
              "fillmode": "overlay",
              "size": 10,
              "solidity": 0.2
             }
            },
            "type": "histogram"
           }
          ],
          "histogram2d": [
           {
            "colorbar": {
             "outlinewidth": 0,
             "ticks": ""
            },
            "colorscale": [
             [
              0,
              "#0d0887"
             ],
             [
              0.1111111111111111,
              "#46039f"
             ],
             [
              0.2222222222222222,
              "#7201a8"
             ],
             [
              0.3333333333333333,
              "#9c179e"
             ],
             [
              0.4444444444444444,
              "#bd3786"
             ],
             [
              0.5555555555555556,
              "#d8576b"
             ],
             [
              0.6666666666666666,
              "#ed7953"
             ],
             [
              0.7777777777777778,
              "#fb9f3a"
             ],
             [
              0.8888888888888888,
              "#fdca26"
             ],
             [
              1,
              "#f0f921"
             ]
            ],
            "type": "histogram2d"
           }
          ],
          "histogram2dcontour": [
           {
            "colorbar": {
             "outlinewidth": 0,
             "ticks": ""
            },
            "colorscale": [
             [
              0,
              "#0d0887"
             ],
             [
              0.1111111111111111,
              "#46039f"
             ],
             [
              0.2222222222222222,
              "#7201a8"
             ],
             [
              0.3333333333333333,
              "#9c179e"
             ],
             [
              0.4444444444444444,
              "#bd3786"
             ],
             [
              0.5555555555555556,
              "#d8576b"
             ],
             [
              0.6666666666666666,
              "#ed7953"
             ],
             [
              0.7777777777777778,
              "#fb9f3a"
             ],
             [
              0.8888888888888888,
              "#fdca26"
             ],
             [
              1,
              "#f0f921"
             ]
            ],
            "type": "histogram2dcontour"
           }
          ],
          "mesh3d": [
           {
            "colorbar": {
             "outlinewidth": 0,
             "ticks": ""
            },
            "type": "mesh3d"
           }
          ],
          "parcoords": [
           {
            "line": {
             "colorbar": {
              "outlinewidth": 0,
              "ticks": ""
             }
            },
            "type": "parcoords"
           }
          ],
          "pie": [
           {
            "automargin": true,
            "type": "pie"
           }
          ],
          "scatter": [
           {
            "fillpattern": {
             "fillmode": "overlay",
             "size": 10,
             "solidity": 0.2
            },
            "type": "scatter"
           }
          ],
          "scatter3d": [
           {
            "line": {
             "colorbar": {
              "outlinewidth": 0,
              "ticks": ""
             }
            },
            "marker": {
             "colorbar": {
              "outlinewidth": 0,
              "ticks": ""
             }
            },
            "type": "scatter3d"
           }
          ],
          "scattercarpet": [
           {
            "marker": {
             "colorbar": {
              "outlinewidth": 0,
              "ticks": ""
             }
            },
            "type": "scattercarpet"
           }
          ],
          "scattergeo": [
           {
            "marker": {
             "colorbar": {
              "outlinewidth": 0,
              "ticks": ""
             }
            },
            "type": "scattergeo"
           }
          ],
          "scattergl": [
           {
            "marker": {
             "colorbar": {
              "outlinewidth": 0,
              "ticks": ""
             }
            },
            "type": "scattergl"
           }
          ],
          "scattermapbox": [
           {
            "marker": {
             "colorbar": {
              "outlinewidth": 0,
              "ticks": ""
             }
            },
            "type": "scattermapbox"
           }
          ],
          "scatterpolar": [
           {
            "marker": {
             "colorbar": {
              "outlinewidth": 0,
              "ticks": ""
             }
            },
            "type": "scatterpolar"
           }
          ],
          "scatterpolargl": [
           {
            "marker": {
             "colorbar": {
              "outlinewidth": 0,
              "ticks": ""
             }
            },
            "type": "scatterpolargl"
           }
          ],
          "scatterternary": [
           {
            "marker": {
             "colorbar": {
              "outlinewidth": 0,
              "ticks": ""
             }
            },
            "type": "scatterternary"
           }
          ],
          "surface": [
           {
            "colorbar": {
             "outlinewidth": 0,
             "ticks": ""
            },
            "colorscale": [
             [
              0,
              "#0d0887"
             ],
             [
              0.1111111111111111,
              "#46039f"
             ],
             [
              0.2222222222222222,
              "#7201a8"
             ],
             [
              0.3333333333333333,
              "#9c179e"
             ],
             [
              0.4444444444444444,
              "#bd3786"
             ],
             [
              0.5555555555555556,
              "#d8576b"
             ],
             [
              0.6666666666666666,
              "#ed7953"
             ],
             [
              0.7777777777777778,
              "#fb9f3a"
             ],
             [
              0.8888888888888888,
              "#fdca26"
             ],
             [
              1,
              "#f0f921"
             ]
            ],
            "type": "surface"
           }
          ],
          "table": [
           {
            "cells": {
             "fill": {
              "color": "#EBF0F8"
             },
             "line": {
              "color": "white"
             }
            },
            "header": {
             "fill": {
              "color": "#C8D4E3"
             },
             "line": {
              "color": "white"
             }
            },
            "type": "table"
           }
          ]
         },
         "layout": {
          "annotationdefaults": {
           "arrowcolor": "#2a3f5f",
           "arrowhead": 0,
           "arrowwidth": 1
          },
          "autotypenumbers": "strict",
          "coloraxis": {
           "colorbar": {
            "outlinewidth": 0,
            "ticks": ""
           }
          },
          "colorscale": {
           "diverging": [
            [
             0,
             "#8e0152"
            ],
            [
             0.1,
             "#c51b7d"
            ],
            [
             0.2,
             "#de77ae"
            ],
            [
             0.3,
             "#f1b6da"
            ],
            [
             0.4,
             "#fde0ef"
            ],
            [
             0.5,
             "#f7f7f7"
            ],
            [
             0.6,
             "#e6f5d0"
            ],
            [
             0.7,
             "#b8e186"
            ],
            [
             0.8,
             "#7fbc41"
            ],
            [
             0.9,
             "#4d9221"
            ],
            [
             1,
             "#276419"
            ]
           ],
           "sequential": [
            [
             0,
             "#0d0887"
            ],
            [
             0.1111111111111111,
             "#46039f"
            ],
            [
             0.2222222222222222,
             "#7201a8"
            ],
            [
             0.3333333333333333,
             "#9c179e"
            ],
            [
             0.4444444444444444,
             "#bd3786"
            ],
            [
             0.5555555555555556,
             "#d8576b"
            ],
            [
             0.6666666666666666,
             "#ed7953"
            ],
            [
             0.7777777777777778,
             "#fb9f3a"
            ],
            [
             0.8888888888888888,
             "#fdca26"
            ],
            [
             1,
             "#f0f921"
            ]
           ],
           "sequentialminus": [
            [
             0,
             "#0d0887"
            ],
            [
             0.1111111111111111,
             "#46039f"
            ],
            [
             0.2222222222222222,
             "#7201a8"
            ],
            [
             0.3333333333333333,
             "#9c179e"
            ],
            [
             0.4444444444444444,
             "#bd3786"
            ],
            [
             0.5555555555555556,
             "#d8576b"
            ],
            [
             0.6666666666666666,
             "#ed7953"
            ],
            [
             0.7777777777777778,
             "#fb9f3a"
            ],
            [
             0.8888888888888888,
             "#fdca26"
            ],
            [
             1,
             "#f0f921"
            ]
           ]
          },
          "colorway": [
           "#636efa",
           "#EF553B",
           "#00cc96",
           "#ab63fa",
           "#FFA15A",
           "#19d3f3",
           "#FF6692",
           "#B6E880",
           "#FF97FF",
           "#FECB52"
          ],
          "font": {
           "color": "#2a3f5f"
          },
          "geo": {
           "bgcolor": "white",
           "lakecolor": "white",
           "landcolor": "#E5ECF6",
           "showlakes": true,
           "showland": true,
           "subunitcolor": "white"
          },
          "hoverlabel": {
           "align": "left"
          },
          "hovermode": "closest",
          "mapbox": {
           "style": "light"
          },
          "paper_bgcolor": "white",
          "plot_bgcolor": "#E5ECF6",
          "polar": {
           "angularaxis": {
            "gridcolor": "white",
            "linecolor": "white",
            "ticks": ""
           },
           "bgcolor": "#E5ECF6",
           "radialaxis": {
            "gridcolor": "white",
            "linecolor": "white",
            "ticks": ""
           }
          },
          "scene": {
           "xaxis": {
            "backgroundcolor": "#E5ECF6",
            "gridcolor": "white",
            "gridwidth": 2,
            "linecolor": "white",
            "showbackground": true,
            "ticks": "",
            "zerolinecolor": "white"
           },
           "yaxis": {
            "backgroundcolor": "#E5ECF6",
            "gridcolor": "white",
            "gridwidth": 2,
            "linecolor": "white",
            "showbackground": true,
            "ticks": "",
            "zerolinecolor": "white"
           },
           "zaxis": {
            "backgroundcolor": "#E5ECF6",
            "gridcolor": "white",
            "gridwidth": 2,
            "linecolor": "white",
            "showbackground": true,
            "ticks": "",
            "zerolinecolor": "white"
           }
          },
          "shapedefaults": {
           "line": {
            "color": "#2a3f5f"
           }
          },
          "ternary": {
           "aaxis": {
            "gridcolor": "white",
            "linecolor": "white",
            "ticks": ""
           },
           "baxis": {
            "gridcolor": "white",
            "linecolor": "white",
            "ticks": ""
           },
           "bgcolor": "#E5ECF6",
           "caxis": {
            "gridcolor": "white",
            "linecolor": "white",
            "ticks": ""
           }
          },
          "title": {
           "x": 0.05
          },
          "xaxis": {
           "automargin": true,
           "gridcolor": "white",
           "linecolor": "white",
           "ticks": "",
           "title": {
            "standoff": 15
           },
           "zerolinecolor": "white",
           "zerolinewidth": 2
          },
          "yaxis": {
           "automargin": true,
           "gridcolor": "white",
           "linecolor": "white",
           "ticks": "",
           "title": {
            "standoff": 15
           },
           "zerolinecolor": "white",
           "zerolinewidth": 2
          }
         }
        },
        "title": {
         "text": "W2V in 3 Dimension"
        },
        "width": 700
       }
      }
     },
     "metadata": {},
     "output_type": "display_data"
    }
   ],
   "source": [
    "# Reducing Dimensionality for Visualization Passing From 4D to 3D\n",
    "D3 = PCA(n_components=3)\n",
    "D3Data = D3.fit_transform(Data4Pandas)\n",
    "Pandas3D = pd.DataFrame( index = INDEX, data = D3Data, columns = COLS[:-1]) # -1 because I dont need the last columns \n",
    "\n",
    "# Plotting W2V\n",
    "fig = px.scatter_3d(data_frame = Pandas3D, x=COLS[0], y=COLS[1], z=COLS[2],  title=\"W2V in 3 Dimension\", width=700, height=600, text = INDEX)\n",
    "fig.show()"
   ]
  },
  {
   "cell_type": "markdown",
   "metadata": {},
   "source": [
    "___________________________________________________"
   ]
  },
  {
   "cell_type": "markdown",
   "metadata": {},
   "source": [
    "### $Positional \\:  Encoding$"
   ]
  },
  {
   "cell_type": "markdown",
   "metadata": {},
   "source": [
    "1. Positional Encoder doest not depend on the feature of any given word\n",
    "2. First implement a **PE Matrix** with shape :$${Seq.Length.\\times Embedding Dimension}$$\n",
    "3. Create a **Indexposition** with length equal to $${Seq.Length.}$$ and reshape to $${Size = [Seq.Length, 1]}$$\n",
    "4. Take the **IndexPosition** , if index % 2 = 0, apply **Sine** Otherwise **Cosine** (Follow the Formula)\n",
    "\n",
    "\\begin{split}PE_{(pos,i)} = \\begin{cases}\n",
    "    \\sin\\left(\\frac{pos}{10000^{i/d_{\\text{model}}}}\\right) & \\text{if}\\hspace{3mm} i \\text{ mod } 2=0\\\\\n",
    "    \\cos\\left(\\frac{pos}{10000^{(i-1)/d_{\\text{model}}}}\\right) & \\text{otherwise}\\\\\n",
    "\\end{cases}\\end{split}"
   ]
  },
  {
   "cell_type": "code",
   "execution_count": 117,
   "metadata": {},
   "outputs": [],
   "source": [
    "class PositionalEncoderLayer (nn.Module):\n",
    "    \"\"\" Generate Positional Encoding 'No trainable'\"\"\"\n",
    "    def __init__(self, EmbDim:int, Dropout:float, MaxLength:int=5000) -> None:\n",
    "        \"\"\"\n",
    "        Parameters\n",
    "        -------------------------------------------------------------\n",
    "        Args:\n",
    "            MaxLength :  Sequence.Length from Embedding Layers. (Original Paper suggests 512)\n",
    "            Dropout: If a number is given , this dropout would be added at the end of the calculation\n",
    "            \n",
    "        Return:\n",
    "            EmbOutput : Tensor \n",
    "     \n",
    "        \"\"\"\n",
    "        super(PositionalEncoderLayer, self).__init__()\n",
    "        assert (EmbDim % 2 == 0) , \"Embedding dimension Must be divisible by 2,two time-steps should be consistent across sentences with different lengths\"\n",
    "        self.Dropout = Dropout\n",
    "        self.DropoutLayer = nn.Dropout(p = Dropout)\n",
    "\n",
    "        # Positional Encoder Matrix : Other Codes calls it \"pe\", shape:[Batch_size, Seq.MaxLength, Emd_Dimension]\n",
    "        self.PositionEncoder = torch.zeros((1,MaxLength, EmbDim), dtype = torch.float32, device  = DEVICE)\n",
    "\n",
    "        # Positional Index shape:[Seq.MaxLength, 1]\n",
    "        self.PositionalIndex = torch.arange(start = 0, end = MaxLength, dtype=torch.float32).reshape(-1,1)\n",
    "\n",
    "        #Internal Calculations\n",
    "        self.Position_i = self.PositionalIndex / torch.pow(10000, torch.arange(start = 0, end = EmbDim, step =2)/EmbDim)\n",
    "\n",
    "        # Replacing Position into Positional Encoder shape:[Batch_size, Seq.MaxLength, Emd_Dimension]\n",
    "        self.PositionEncoder[:, :, 0::2] = torch.sin(self.Position_i) # Replace [batch_size, all_rows, Even-th Cols]\n",
    "        self.PositionEncoder[:, :, 1::2] = torch.cos(self.Position_i) # Replace [batch_size, all_rows, Odd-th Cols] \n",
    "\n",
    "\n",
    "        # Keep in Memory  \n",
    "        self.register_buffer(\"PositionalEncoder\", self.PositionEncoder) # No trainable\n",
    "\n",
    "    def forward(self, X) -> torch.Tensor:\n",
    "        \"\"\"\n",
    "        Args:\n",
    "            X = must be the Word Vector from Embedding Layer with shape : [batch_size, Seq.MaxLength, Emd_Dimension]\n",
    "        \"\"\"\n",
    "\n",
    "\n",
    "        # [:, X.size(1), :] do this EmbeddingLayer + Positional Encoder\n",
    "        X = X + self.PositionEncoder[:, :X.shape[1], :].to(DEVICE) # [all batches, rows in batches_size , all columns]\n",
    "\n",
    "        if (self.Dropout) or (self.Dropout != 0):\n",
    "            return self.DropoutLayer(X)\n",
    "        else:\n",
    "            return X"
   ]
  },
  {
   "cell_type": "markdown",
   "metadata": {},
   "source": [
    "##### $PE, Pe \\: or \\: Positional Enconder$\n"
   ]
  },
  {
   "cell_type": "markdown",
   "metadata": {},
   "source": [
    "\n",
    "![Matrix](https://miro.medium.com/max/828/1*R3U8xOrxuYRYNLe961n7bg.png)"
   ]
  },
  {
   "cell_type": "markdown",
   "metadata": {},
   "source": [
    "_____________________________________________________"
   ]
  },
  {
   "cell_type": "code",
   "execution_count": 118,
   "metadata": {},
   "outputs": [
    {
     "name": "stdout",
     "output_type": "stream",
     "text": [
      "shape:(6, 4), row : 6, cols : 4\n"
     ]
    },
    {
     "data": {
      "text/html": [
       "<div>\n",
       "<style scoped>\n",
       "    .dataframe tbody tr th:only-of-type {\n",
       "        vertical-align: middle;\n",
       "    }\n",
       "\n",
       "    .dataframe tbody tr th {\n",
       "        vertical-align: top;\n",
       "    }\n",
       "\n",
       "    .dataframe thead th {\n",
       "        text-align: right;\n",
       "    }\n",
       "</style>\n",
       "<table border=\"1\" class=\"dataframe\">\n",
       "  <thead>\n",
       "    <tr style=\"text-align: right;\">\n",
       "      <th></th>\n",
       "      <th>Dim_1</th>\n",
       "      <th>Dim_2</th>\n",
       "      <th>Dim_3</th>\n",
       "      <th>Dim_4</th>\n",
       "    </tr>\n",
       "  </thead>\n",
       "  <tbody>\n",
       "    <tr>\n",
       "      <th>Hello</th>\n",
       "      <td>1.440728</td>\n",
       "      <td>2.973674</td>\n",
       "      <td>-1.430465</td>\n",
       "      <td>0.848117</td>\n",
       "    </tr>\n",
       "    <tr>\n",
       "      <th>this</th>\n",
       "      <td>0.541911</td>\n",
       "      <td>-2.988358</td>\n",
       "      <td>0.928725</td>\n",
       "      <td>0.479676</td>\n",
       "    </tr>\n",
       "    <tr>\n",
       "      <th>is</th>\n",
       "      <td>0.416919</td>\n",
       "      <td>-1.006722</td>\n",
       "      <td>-1.224518</td>\n",
       "      <td>2.233092</td>\n",
       "    </tr>\n",
       "    <tr>\n",
       "      <th>Marvin</th>\n",
       "      <td>0.347694</td>\n",
       "      <td>0.448656</td>\n",
       "      <td>-1.068523</td>\n",
       "      <td>1.702791</td>\n",
       "    </tr>\n",
       "    <tr>\n",
       "      <th>&lt;pad&gt;</th>\n",
       "      <td>-0.819999</td>\n",
       "      <td>-2.927366</td>\n",
       "      <td>-1.938664</td>\n",
       "      <td>1.094274</td>\n",
       "    </tr>\n",
       "    <tr>\n",
       "      <th>&lt;pad&gt;</th>\n",
       "      <td>-0.819999</td>\n",
       "      <td>-2.927366</td>\n",
       "      <td>-1.938664</td>\n",
       "      <td>1.094274</td>\n",
       "    </tr>\n",
       "  </tbody>\n",
       "</table>\n",
       "</div>"
      ],
      "text/plain": [
       "           Dim_1     Dim_2     Dim_3     Dim_4\n",
       "Hello   1.440728  2.973674 -1.430465  0.848117\n",
       "this    0.541911 -2.988358  0.928725  0.479676\n",
       "is      0.416919 -1.006722 -1.224518  2.233092\n",
       "Marvin  0.347694  0.448656 -1.068523  1.702791\n",
       "<pad>  -0.819999 -2.927366 -1.938664  1.094274\n",
       "<pad>  -0.819999 -2.927366 -1.938664  1.094274"
      ]
     },
     "execution_count": 118,
     "metadata": {},
     "output_type": "execute_result"
    }
   ],
   "source": [
    "# Data from Embeddings \n",
    "EmbDim , MaxLength = 4,6\n",
    "FromEmb = EmbOutput # shape [batch_size,MaxLength, EmbDim ] ~ [2,6,4]\n",
    "StepByStepData = pd.DataFrame( index = INDEX[:6] , data = Data4Pandas[:6,:], columns = COLS[:6]) # Take only the First 6th-Rows and all Dimension \n",
    "\n",
    "\n",
    "print(f\"shape:{StepByStepData.shape}, row : {StepByStepData.shape[0]}, cols : {StepByStepData.shape[1]}\")\n",
    "StepByStepData"
   ]
  },
  {
   "cell_type": "markdown",
   "metadata": {},
   "source": [
    "-------------------------------------------------------"
   ]
  },
  {
   "cell_type": "markdown",
   "metadata": {},
   "source": [
    "The paper explains that Each word in the corpus is given a index (0 to TotalWordsCorpus) then this index is transformed into binary encoding that is why we need a matrix \n",
    "**`PE Matrix`** with shape :$${Seq.Length.\\times Embedding Dimension}$$\n",
    "\n"
   ]
  },
  {
   "cell_type": "code",
   "execution_count": 119,
   "metadata": {},
   "outputs": [
    {
     "data": {
      "text/html": [
       "<div>\n",
       "<style scoped>\n",
       "    .dataframe tbody tr th:only-of-type {\n",
       "        vertical-align: middle;\n",
       "    }\n",
       "\n",
       "    .dataframe tbody tr th {\n",
       "        vertical-align: top;\n",
       "    }\n",
       "\n",
       "    .dataframe thead th {\n",
       "        text-align: right;\n",
       "    }\n",
       "</style>\n",
       "<table border=\"1\" class=\"dataframe\">\n",
       "  <thead>\n",
       "    <tr style=\"text-align: right;\">\n",
       "      <th></th>\n",
       "      <th>0</th>\n",
       "      <th>1</th>\n",
       "      <th>2</th>\n",
       "      <th>3</th>\n",
       "    </tr>\n",
       "  </thead>\n",
       "  <tbody>\n",
       "    <tr>\n",
       "      <th>Hello</th>\n",
       "      <td>0.0</td>\n",
       "      <td>0.0</td>\n",
       "      <td>0.0</td>\n",
       "      <td>0.0</td>\n",
       "    </tr>\n",
       "    <tr>\n",
       "      <th>this</th>\n",
       "      <td>0.0</td>\n",
       "      <td>0.0</td>\n",
       "      <td>0.0</td>\n",
       "      <td>0.0</td>\n",
       "    </tr>\n",
       "    <tr>\n",
       "      <th>is</th>\n",
       "      <td>0.0</td>\n",
       "      <td>0.0</td>\n",
       "      <td>0.0</td>\n",
       "      <td>0.0</td>\n",
       "    </tr>\n",
       "    <tr>\n",
       "      <th>Marvin</th>\n",
       "      <td>0.0</td>\n",
       "      <td>0.0</td>\n",
       "      <td>0.0</td>\n",
       "      <td>0.0</td>\n",
       "    </tr>\n",
       "    <tr>\n",
       "      <th>&lt;pad&gt;</th>\n",
       "      <td>0.0</td>\n",
       "      <td>0.0</td>\n",
       "      <td>0.0</td>\n",
       "      <td>0.0</td>\n",
       "    </tr>\n",
       "    <tr>\n",
       "      <th>&lt;pad&gt;</th>\n",
       "      <td>0.0</td>\n",
       "      <td>0.0</td>\n",
       "      <td>0.0</td>\n",
       "      <td>0.0</td>\n",
       "    </tr>\n",
       "  </tbody>\n",
       "</table>\n",
       "</div>"
      ],
      "text/plain": [
       "          0    1    2    3\n",
       "Hello   0.0  0.0  0.0  0.0\n",
       "this    0.0  0.0  0.0  0.0\n",
       "is      0.0  0.0  0.0  0.0\n",
       "Marvin  0.0  0.0  0.0  0.0\n",
       "<pad>   0.0  0.0  0.0  0.0\n",
       "<pad>   0.0  0.0  0.0  0.0"
      ]
     },
     "execution_count": 119,
     "metadata": {},
     "output_type": "execute_result"
    }
   ],
   "source": [
    "# We Create a Tensor With Equal Dimension \n",
    "PositionalEncoder = torch.zeros(StepByStepData.shape[0], StepByStepData.shape[1])\n",
    "pd.DataFrame(index = StepByStepData.index, data= PositionalEncoder)"
   ]
  },
  {
   "cell_type": "markdown",
   "metadata": {},
   "source": [
    "##### $Index \\ Position$\n"
   ]
  },
  {
   "cell_type": "markdown",
   "metadata": {},
   "source": [
    "\n",
    "Now , we have to find the total number of sample by batches known as **Indexposition** with length equal to $${batch.size \\times  seq.len.\\times   1}$$\n",
    "\n",
    "![Vector](https://miro.medium.com/max/442/1*22CQ8yD0W97QRg4YW86PGw.png)\n",
    "\n",
    "\n",
    "![Using Un-Squeeze](https://i.stack.imgur.com/NiJu4.png)"
   ]
  },
  {
   "cell_type": "code",
   "execution_count": 120,
   "metadata": {},
   "outputs": [
    {
     "name": "stdout",
     "output_type": "stream",
     "text": [
      "Index Position: tensor([0, 1, 2, 3, 4, 5]) , index goes from 0 to 5\n",
      "Index Position shape : torch.Size([6])\n",
      "Index Position Reshaped : torch.Size([6, 1])\n"
     ]
    },
    {
     "data": {
      "text/html": [
       "<div>\n",
       "<style scoped>\n",
       "    .dataframe tbody tr th:only-of-type {\n",
       "        vertical-align: middle;\n",
       "    }\n",
       "\n",
       "    .dataframe tbody tr th {\n",
       "        vertical-align: top;\n",
       "    }\n",
       "\n",
       "    .dataframe thead th {\n",
       "        text-align: right;\n",
       "    }\n",
       "</style>\n",
       "<table border=\"1\" class=\"dataframe\">\n",
       "  <thead>\n",
       "    <tr style=\"text-align: right;\">\n",
       "      <th></th>\n",
       "      <th>0</th>\n",
       "    </tr>\n",
       "  </thead>\n",
       "  <tbody>\n",
       "    <tr>\n",
       "      <th>0</th>\n",
       "      <td>0</td>\n",
       "    </tr>\n",
       "    <tr>\n",
       "      <th>1</th>\n",
       "      <td>1</td>\n",
       "    </tr>\n",
       "    <tr>\n",
       "      <th>2</th>\n",
       "      <td>2</td>\n",
       "    </tr>\n",
       "    <tr>\n",
       "      <th>3</th>\n",
       "      <td>3</td>\n",
       "    </tr>\n",
       "    <tr>\n",
       "      <th>4</th>\n",
       "      <td>4</td>\n",
       "    </tr>\n",
       "    <tr>\n",
       "      <th>5</th>\n",
       "      <td>5</td>\n",
       "    </tr>\n",
       "  </tbody>\n",
       "</table>\n",
       "</div>"
      ],
      "text/plain": [
       "   0\n",
       "0  0\n",
       "1  1\n",
       "2  2\n",
       "3  3\n",
       "4  4\n",
       "5  5"
      ]
     },
     "execution_count": 120,
     "metadata": {},
     "output_type": "execute_result"
    }
   ],
   "source": [
    "# Creating Index Position\n",
    "IndexPosition = torch.arange(start = 0, end = len(StepByStepData.index), device= DEVICE)\n",
    "print(f\"Index Position: {IndexPosition} , index goes from 0 to {max(IndexPosition)}\")\n",
    "\n",
    "\n",
    "# Reshaping \n",
    "IndexPositionReshape = IndexPosition.reshape(IndexPosition.shape[0],1)\n",
    "print(f\"Index Position shape : {IndexPosition.shape}\")\n",
    "print(f\"Index Position Reshaped : {IndexPosition.unsqueeze(1).size()}\") # Original Post: https://stackoverflow.com/questions/57237352/what-does-unsqueeze-do-in-pytorch\n",
    "\n",
    "# We use unsqueeze(1) : to add one extra dimmension to each row\n",
    "pd.DataFrame(IndexPosition.unsqueeze(1))"
   ]
  },
  {
   "cell_type": "markdown",
   "metadata": {},
   "source": [
    "##### $Transformation $\n",
    "\n",
    "\n",
    "\n",
    "Take the **IndexPosition Matrix indices**, if index % 2 = 0, apply **Sine** Otherwise **Cosine** (Follow the Formula)\n",
    "\n",
    "\\begin{split}PE_{(pos,i)} = \\begin{cases}\n",
    "    \\sin\\left(\\frac{pos}{10000^{i/d_{\\text{model}}}}\\right) & \\text{if}\\hspace{3mm} i \\text{ mod } 2=0\\\\\n",
    "    \\cos\\left(\\frac{pos}{10000^{(i-1)/d_{\\text{model}}}}\\right) & \\text{otherwise}\\\\\n",
    "\\end{cases}\\end{split}\n",
    "\n",
    "where **d_model** = **Embedding Dimension** , **i** = **IndexPosition** and **pos** is the position in the Indexposition Matrix\n",
    "there for even-th index will be encoded using Sin, and odd-th will be encoded with cosine\n"
   ]
  },
  {
   "cell_type": "code",
   "execution_count": 121,
   "metadata": {},
   "outputs": [
    {
     "data": {
      "text/html": [
       "<div>\n",
       "<style scoped>\n",
       "    .dataframe tbody tr th:only-of-type {\n",
       "        vertical-align: middle;\n",
       "    }\n",
       "\n",
       "    .dataframe tbody tr th {\n",
       "        vertical-align: top;\n",
       "    }\n",
       "\n",
       "    .dataframe thead th {\n",
       "        text-align: right;\n",
       "    }\n",
       "</style>\n",
       "<table border=\"1\" class=\"dataframe\">\n",
       "  <thead>\n",
       "    <tr style=\"text-align: right;\">\n",
       "      <th></th>\n",
       "      <th>0</th>\n",
       "      <th>1</th>\n",
       "      <th>2</th>\n",
       "      <th>3</th>\n",
       "    </tr>\n",
       "  </thead>\n",
       "  <tbody>\n",
       "    <tr>\n",
       "      <th>Hello</th>\n",
       "      <td>0.000000</td>\n",
       "      <td>1.000000</td>\n",
       "      <td>0.000000</td>\n",
       "      <td>1.000000</td>\n",
       "    </tr>\n",
       "    <tr>\n",
       "      <th>this</th>\n",
       "      <td>0.841471</td>\n",
       "      <td>0.995004</td>\n",
       "      <td>0.010000</td>\n",
       "      <td>1.000000</td>\n",
       "    </tr>\n",
       "    <tr>\n",
       "      <th>is</th>\n",
       "      <td>0.909297</td>\n",
       "      <td>0.980067</td>\n",
       "      <td>0.019999</td>\n",
       "      <td>0.999998</td>\n",
       "    </tr>\n",
       "    <tr>\n",
       "      <th>Marvin</th>\n",
       "      <td>0.141120</td>\n",
       "      <td>0.955337</td>\n",
       "      <td>0.029996</td>\n",
       "      <td>0.999996</td>\n",
       "    </tr>\n",
       "    <tr>\n",
       "      <th>&lt;pad&gt;</th>\n",
       "      <td>-0.756802</td>\n",
       "      <td>0.921061</td>\n",
       "      <td>0.039989</td>\n",
       "      <td>0.999992</td>\n",
       "    </tr>\n",
       "    <tr>\n",
       "      <th>&lt;pad&gt;</th>\n",
       "      <td>-0.958924</td>\n",
       "      <td>0.877583</td>\n",
       "      <td>0.049979</td>\n",
       "      <td>0.999987</td>\n",
       "    </tr>\n",
       "  </tbody>\n",
       "</table>\n",
       "</div>"
      ],
      "text/plain": [
       "               0         1         2         3\n",
       "Hello   0.000000  1.000000  0.000000  1.000000\n",
       "this    0.841471  0.995004  0.010000  1.000000\n",
       "is      0.909297  0.980067  0.019999  0.999998\n",
       "Marvin  0.141120  0.955337  0.029996  0.999996\n",
       "<pad>  -0.756802  0.921061  0.039989  0.999992\n",
       "<pad>  -0.958924  0.877583  0.049979  0.999987"
      ]
     },
     "execution_count": 121,
     "metadata": {},
     "output_type": "execute_result"
    }
   ],
   "source": [
    "for pos in range(0,MaxLength): \n",
    "    for i in range(0,EmbDim):\n",
    "        if i % 2 == 0:\n",
    "            PositionalEncoder[pos, i] = np.sin(pos/10000**(i/EmbDim))\n",
    "        if i % 2 == 1:\n",
    "            PositionalEncoder[pos, i] = np.cos(pos/10000**(i/EmbDim))\n",
    "\n",
    "pd.DataFrame(index = StepByStepData.index, data = PositionalEncoder)\n"
   ]
  },
  {
   "cell_type": "markdown",
   "metadata": {},
   "source": [
    "##### $Plotting \\ {Sin} \\ and\\ {Cosine} $ : Using Internal Positional Encoder + Embedding and New Postional Embedding (for visualization only)\n",
    "\n",
    "-  Displaying with Embedding of 0, to check Sin, Cos \n",
    "-  Create use the previous Embedding and check the Transformation "
   ]
  },
  {
   "cell_type": "code",
   "execution_count": 122,
   "metadata": {},
   "outputs": [
    {
     "data": {
      "text/plain": [
       "Text(0.5, 1.0, 'Sin Cos Using Positional Encoder Only')"
      ]
     },
     "execution_count": 122,
     "metadata": {},
     "output_type": "execute_result"
    },
    {
     "data": {
      "image/png": "[encoded data removed]",
      "text/plain": [
       "<Figure size 1500x500 with 1 Axes>"
      ]
     },
     "metadata": {},
     "output_type": "display_data"
    }
   ],
   "source": [
    "# 2D plotting \n",
    "plt.figure(figsize=(15, 5))\n",
    "plt.plot(np.arange(MaxLength)+1, PositionalEncoder[:,:].data.numpy())\n",
    "plt.legend([\"dim %d\"%p for p in range(4)])\n",
    "plt.title(\"Sin Cos Using Positional Encoder Only\")"
   ]
  },
  {
   "cell_type": "markdown",
   "metadata": {},
   "source": [
    "Note : The Tensor used to fit the Embedding Layer is only a matrix of Zeros, therefore nothing is added to the Positional Encoder that is why is going from -1 to +1"
   ]
  },
  {
   "cell_type": "code",
   "execution_count": 123,
   "metadata": {},
   "outputs": [
    {
     "data": {
      "image/png": "[encoded data removed]",
      "text/plain": [
       "<Figure size 1500x500 with 1 Axes>"
      ]
     },
     "metadata": {},
     "output_type": "display_data"
    }
   ],
   "source": [
    "# Testing with a embedding composed of \n",
    "batch, dimension = 1, 20\n",
    "vc_size = 150\n",
    "\n",
    "SinCosPosEnc = PositionalEncoderLayer(EmbDim =dimension,  Dropout =0.0 , MaxLength=150)\n",
    "SinCosPosEncOuput = SinCosPosEnc(torch.zeros(batch, vc_size, dimension)) # Embedding  nn.Embedding(num_embeddings = VocSize, embedding_dim = Emb_Dim)\n",
    "\n",
    "\n",
    "# Plotting \n",
    "plt.figure(figsize=(15, 5))\n",
    "plt.plot(np.arange(vc_size), SinCosPosEncOuput[0, :,4:].data.numpy())\n",
    "plt.legend([\"dim %d\"%p for p in [4,5,6]]);"
   ]
  },
  {
   "cell_type": "markdown",
   "metadata": {},
   "source": [
    "In here we are Evaluating the PositionalEncoderLayer , which is fit with the Embedding Output"
   ]
  },
  {
   "cell_type": "code",
   "execution_count": 124,
   "metadata": {},
   "outputs": [
    {
     "data": {
      "image/png": "[encoded data removed]",
      "text/plain": [
       "<Figure size 1500x500 with 1 Axes>"
      ]
     },
     "metadata": {},
     "output_type": "display_data"
    }
   ],
   "source": [
    "# Testing with a embedding composed of \n",
    "\n",
    "PosEnc = PositionalEncoderLayer(EmbDim =EmbDim,  Dropout =0.0 , MaxLength=MaxLength)\n",
    "OutPosEnc = PosEnc(FromEmb) # Embedding  nn.Embedding(num_embeddings = VocSize, embedding_dim = Emb_Dim)\n",
    "\n",
    "\n",
    "# Plotting \n",
    "plt.figure(figsize=(15, 5))\n",
    "plt.plot(np.arange(MaxLength), OutPosEnc[0, :, :].data.numpy())\n",
    "\n",
    "plt.legend([\"dim %d\"%p for p in [4,5,6,7,8]]);"
   ]
  },
  {
   "cell_type": "markdown",
   "metadata": {},
   "source": [
    "#### $3D\\ Graph\\ Showing\\ the\\ Sin\\ ,\\ Cos\\ Wave\\ and\\ the\\ Word\\ position$"
   ]
  },
  {
   "cell_type": "markdown",
   "metadata": {},
   "source": [
    "##### 3D Plotting Large Embedding Model"
   ]
  },
  {
   "cell_type": "code",
   "execution_count": 125,
   "metadata": {},
   "outputs": [
    {
     "data": {
      "text/html": [
       "<div>\n",
       "<style scoped>\n",
       "    .dataframe tbody tr th:only-of-type {\n",
       "        vertical-align: middle;\n",
       "    }\n",
       "\n",
       "    .dataframe tbody tr th {\n",
       "        vertical-align: top;\n",
       "    }\n",
       "\n",
       "    .dataframe thead th {\n",
       "        text-align: right;\n",
       "    }\n",
       "</style>\n",
       "<table border=\"1\" class=\"dataframe\">\n",
       "  <thead>\n",
       "    <tr style=\"text-align: right;\">\n",
       "      <th></th>\n",
       "      <th>Word_0</th>\n",
       "      <th>Word_1</th>\n",
       "      <th>Word_2</th>\n",
       "      <th>Word_3</th>\n",
       "      <th>Word_4</th>\n",
       "      <th>Word_5</th>\n",
       "      <th>Word_6</th>\n",
       "      <th>Word_7</th>\n",
       "      <th>Word_8</th>\n",
       "      <th>Word_9</th>\n",
       "      <th>...</th>\n",
       "      <th>Word_140</th>\n",
       "      <th>Word_141</th>\n",
       "      <th>Word_142</th>\n",
       "      <th>Word_143</th>\n",
       "      <th>Word_144</th>\n",
       "      <th>Word_145</th>\n",
       "      <th>Word_146</th>\n",
       "      <th>Word_147</th>\n",
       "      <th>Word_148</th>\n",
       "      <th>Word_149</th>\n",
       "    </tr>\n",
       "  </thead>\n",
       "  <tbody>\n",
       "    <tr>\n",
       "      <th>Dim_0</th>\n",
       "      <td>0.0</td>\n",
       "      <td>0.841471</td>\n",
       "      <td>0.909297</td>\n",
       "      <td>0.141120</td>\n",
       "      <td>-0.756802</td>\n",
       "      <td>-0.958924</td>\n",
       "      <td>-0.279415</td>\n",
       "      <td>0.656987</td>\n",
       "      <td>0.989358</td>\n",
       "      <td>0.412118</td>\n",
       "      <td>...</td>\n",
       "      <td>0.980240</td>\n",
       "      <td>0.363171</td>\n",
       "      <td>-0.587795</td>\n",
       "      <td>-0.998345</td>\n",
       "      <td>-0.491022</td>\n",
       "      <td>0.467745</td>\n",
       "      <td>0.996469</td>\n",
       "      <td>0.609044</td>\n",
       "      <td>-0.338333</td>\n",
       "      <td>-0.974649</td>\n",
       "    </tr>\n",
       "    <tr>\n",
       "      <th>Dim_1</th>\n",
       "      <td>1.0</td>\n",
       "      <td>0.540302</td>\n",
       "      <td>-0.416147</td>\n",
       "      <td>-0.989992</td>\n",
       "      <td>-0.653644</td>\n",
       "      <td>0.283662</td>\n",
       "      <td>0.960170</td>\n",
       "      <td>0.753902</td>\n",
       "      <td>-0.145500</td>\n",
       "      <td>-0.911130</td>\n",
       "      <td>...</td>\n",
       "      <td>-0.197814</td>\n",
       "      <td>-0.931722</td>\n",
       "      <td>-0.809010</td>\n",
       "      <td>0.057503</td>\n",
       "      <td>0.871147</td>\n",
       "      <td>0.883863</td>\n",
       "      <td>0.083959</td>\n",
       "      <td>-0.793136</td>\n",
       "      <td>-0.941026</td>\n",
       "      <td>-0.223741</td>\n",
       "    </tr>\n",
       "    <tr>\n",
       "      <th>Dim_2</th>\n",
       "      <td>0.0</td>\n",
       "      <td>0.387674</td>\n",
       "      <td>0.714713</td>\n",
       "      <td>0.929966</td>\n",
       "      <td>0.999766</td>\n",
       "      <td>0.913195</td>\n",
       "      <td>0.683794</td>\n",
       "      <td>0.347443</td>\n",
       "      <td>-0.043251</td>\n",
       "      <td>-0.427180</td>\n",
       "      <td>...</td>\n",
       "      <td>-0.726808</td>\n",
       "      <td>-0.403697</td>\n",
       "      <td>-0.017447</td>\n",
       "      <td>0.371534</td>\n",
       "      <td>0.702402</td>\n",
       "      <td>0.923410</td>\n",
       "      <td>0.999991</td>\n",
       "      <td>0.920166</td>\n",
       "      <td>0.696419</td>\n",
       "      <td>0.363750</td>\n",
       "    </tr>\n",
       "    <tr>\n",
       "      <th>Dim_3</th>\n",
       "      <td>1.0</td>\n",
       "      <td>0.921796</td>\n",
       "      <td>0.699417</td>\n",
       "      <td>0.367644</td>\n",
       "      <td>-0.021631</td>\n",
       "      <td>-0.407523</td>\n",
       "      <td>-0.729675</td>\n",
       "      <td>-0.937701</td>\n",
       "      <td>-0.999064</td>\n",
       "      <td>-0.904166</td>\n",
       "      <td>...</td>\n",
       "      <td>0.686840</td>\n",
       "      <td>0.914893</td>\n",
       "      <td>0.999848</td>\n",
       "      <td>0.928419</td>\n",
       "      <td>0.711780</td>\n",
       "      <td>0.383815</td>\n",
       "      <td>-0.004185</td>\n",
       "      <td>-0.391528</td>\n",
       "      <td>-0.717635</td>\n",
       "      <td>-0.931497</td>\n",
       "    </tr>\n",
       "    <tr>\n",
       "      <th>Dim_4</th>\n",
       "      <td>0.0</td>\n",
       "      <td>0.157827</td>\n",
       "      <td>0.311697</td>\n",
       "      <td>0.457755</td>\n",
       "      <td>0.592338</td>\n",
       "      <td>0.712073</td>\n",
       "      <td>0.813960</td>\n",
       "      <td>0.895443</td>\n",
       "      <td>0.954481</td>\n",
       "      <td>0.989594</td>\n",
       "      <td>...</td>\n",
       "      <td>-0.196076</td>\n",
       "      <td>-0.348382</td>\n",
       "      <td>-0.491954</td>\n",
       "      <td>-0.623197</td>\n",
       "      <td>-0.738817</td>\n",
       "      <td>-0.835918</td>\n",
       "      <td>-0.912065</td>\n",
       "      <td>-0.965350</td>\n",
       "      <td>-0.994437</td>\n",
       "      <td>-0.998598</td>\n",
       "    </tr>\n",
       "    <tr>\n",
       "      <th>Dim_5</th>\n",
       "      <td>1.0</td>\n",
       "      <td>0.987467</td>\n",
       "      <td>0.950181</td>\n",
       "      <td>0.889079</td>\n",
       "      <td>0.805690</td>\n",
       "      <td>0.702105</td>\n",
       "      <td>0.580922</td>\n",
       "      <td>0.445176</td>\n",
       "      <td>0.298272</td>\n",
       "      <td>0.143891</td>\n",
       "      <td>...</td>\n",
       "      <td>-0.980589</td>\n",
       "      <td>-0.937353</td>\n",
       "      <td>-0.870621</td>\n",
       "      <td>-0.782065</td>\n",
       "      <td>-0.673906</td>\n",
       "      <td>-0.548855</td>\n",
       "      <td>-0.410046</td>\n",
       "      <td>-0.260959</td>\n",
       "      <td>-0.105330</td>\n",
       "      <td>0.052939</td>\n",
       "    </tr>\n",
       "    <tr>\n",
       "      <th>Dim_6</th>\n",
       "      <td>0.0</td>\n",
       "      <td>0.063054</td>\n",
       "      <td>0.125857</td>\n",
       "      <td>0.188159</td>\n",
       "      <td>0.249712</td>\n",
       "      <td>0.310272</td>\n",
       "      <td>0.369596</td>\n",
       "      <td>0.427450</td>\n",
       "      <td>0.483602</td>\n",
       "      <td>0.537830</td>\n",
       "      <td>...</td>\n",
       "      <td>0.557504</td>\n",
       "      <td>0.504049</td>\n",
       "      <td>0.448587</td>\n",
       "      <td>0.391342</td>\n",
       "      <td>0.332538</td>\n",
       "      <td>0.272410</td>\n",
       "      <td>0.211199</td>\n",
       "      <td>0.149147</td>\n",
       "      <td>0.086502</td>\n",
       "      <td>0.023513</td>\n",
       "    </tr>\n",
       "    <tr>\n",
       "      <th>Dim_7</th>\n",
       "      <td>1.0</td>\n",
       "      <td>0.998010</td>\n",
       "      <td>0.992048</td>\n",
       "      <td>0.982139</td>\n",
       "      <td>0.968320</td>\n",
       "      <td>0.950648</td>\n",
       "      <td>0.929192</td>\n",
       "      <td>0.904039</td>\n",
       "      <td>0.875288</td>\n",
       "      <td>0.843053</td>\n",
       "      <td>...</td>\n",
       "      <td>-0.830174</td>\n",
       "      <td>-0.863675</td>\n",
       "      <td>-0.893739</td>\n",
       "      <td>-0.920245</td>\n",
       "      <td>-0.943090</td>\n",
       "      <td>-0.962181</td>\n",
       "      <td>-0.977443</td>\n",
       "      <td>-0.988815</td>\n",
       "      <td>-0.996252</td>\n",
       "      <td>-0.999724</td>\n",
       "    </tr>\n",
       "    <tr>\n",
       "      <th>Dim_8</th>\n",
       "      <td>0.0</td>\n",
       "      <td>0.025116</td>\n",
       "      <td>0.050217</td>\n",
       "      <td>0.075285</td>\n",
       "      <td>0.100306</td>\n",
       "      <td>0.125264</td>\n",
       "      <td>0.150143</td>\n",
       "      <td>0.174927</td>\n",
       "      <td>0.199601</td>\n",
       "      <td>0.224149</td>\n",
       "      <td>...</td>\n",
       "      <td>-0.366317</td>\n",
       "      <td>-0.389572</td>\n",
       "      <td>-0.412581</td>\n",
       "      <td>-0.435330</td>\n",
       "      <td>-0.457804</td>\n",
       "      <td>-0.479989</td>\n",
       "      <td>-0.501872</td>\n",
       "      <td>-0.523438</td>\n",
       "      <td>-0.544673</td>\n",
       "      <td>-0.565565</td>\n",
       "    </tr>\n",
       "    <tr>\n",
       "      <th>Dim_9</th>\n",
       "      <td>1.0</td>\n",
       "      <td>0.999685</td>\n",
       "      <td>0.998738</td>\n",
       "      <td>0.997162</td>\n",
       "      <td>0.994957</td>\n",
       "      <td>0.992123</td>\n",
       "      <td>0.988664</td>\n",
       "      <td>0.984581</td>\n",
       "      <td>0.979877</td>\n",
       "      <td>0.974555</td>\n",
       "      <td>...</td>\n",
       "      <td>-0.930490</td>\n",
       "      <td>-0.920996</td>\n",
       "      <td>-0.910921</td>\n",
       "      <td>-0.900271</td>\n",
       "      <td>-0.889053</td>\n",
       "      <td>-0.877274</td>\n",
       "      <td>-0.864942</td>\n",
       "      <td>-0.852064</td>\n",
       "      <td>-0.838649</td>\n",
       "      <td>-0.824704</td>\n",
       "    </tr>\n",
       "    <tr>\n",
       "      <th>Dim_10</th>\n",
       "      <td>0.0</td>\n",
       "      <td>0.010000</td>\n",
       "      <td>0.019999</td>\n",
       "      <td>0.029995</td>\n",
       "      <td>0.039989</td>\n",
       "      <td>0.049979</td>\n",
       "      <td>0.059964</td>\n",
       "      <td>0.069943</td>\n",
       "      <td>0.079915</td>\n",
       "      <td>0.089879</td>\n",
       "      <td>...</td>\n",
       "      <td>0.985450</td>\n",
       "      <td>0.987100</td>\n",
       "      <td>0.988652</td>\n",
       "      <td>0.990105</td>\n",
       "      <td>0.991458</td>\n",
       "      <td>0.992713</td>\n",
       "      <td>0.993868</td>\n",
       "      <td>0.994924</td>\n",
       "      <td>0.995881</td>\n",
       "      <td>0.996738</td>\n",
       "    </tr>\n",
       "    <tr>\n",
       "      <th>Dim_11</th>\n",
       "      <td>1.0</td>\n",
       "      <td>0.999950</td>\n",
       "      <td>0.999800</td>\n",
       "      <td>0.999550</td>\n",
       "      <td>0.999200</td>\n",
       "      <td>0.998750</td>\n",
       "      <td>0.998201</td>\n",
       "      <td>0.997551</td>\n",
       "      <td>0.996802</td>\n",
       "      <td>0.995953</td>\n",
       "      <td>...</td>\n",
       "      <td>0.169967</td>\n",
       "      <td>0.160104</td>\n",
       "      <td>0.150226</td>\n",
       "      <td>0.140332</td>\n",
       "      <td>0.130424</td>\n",
       "      <td>0.120503</td>\n",
       "      <td>0.110570</td>\n",
       "      <td>0.100626</td>\n",
       "      <td>0.090672</td>\n",
       "      <td>0.080708</td>\n",
       "    </tr>\n",
       "    <tr>\n",
       "      <th>Dim_12</th>\n",
       "      <td>0.0</td>\n",
       "      <td>0.003981</td>\n",
       "      <td>0.007962</td>\n",
       "      <td>0.011943</td>\n",
       "      <td>0.015924</td>\n",
       "      <td>0.019904</td>\n",
       "      <td>0.023884</td>\n",
       "      <td>0.027864</td>\n",
       "      <td>0.031843</td>\n",
       "      <td>0.035822</td>\n",
       "      <td>...</td>\n",
       "      <td>0.528939</td>\n",
       "      <td>0.532313</td>\n",
       "      <td>0.535679</td>\n",
       "      <td>0.539037</td>\n",
       "      <td>0.542386</td>\n",
       "      <td>0.545726</td>\n",
       "      <td>0.549058</td>\n",
       "      <td>0.552381</td>\n",
       "      <td>0.555695</td>\n",
       "      <td>0.559000</td>\n",
       "    </tr>\n",
       "    <tr>\n",
       "      <th>Dim_13</th>\n",
       "      <td>1.0</td>\n",
       "      <td>0.999992</td>\n",
       "      <td>0.999968</td>\n",
       "      <td>0.999929</td>\n",
       "      <td>0.999873</td>\n",
       "      <td>0.999802</td>\n",
       "      <td>0.999715</td>\n",
       "      <td>0.999612</td>\n",
       "      <td>0.999493</td>\n",
       "      <td>0.999358</td>\n",
       "      <td>...</td>\n",
       "      <td>0.848660</td>\n",
       "      <td>0.846547</td>\n",
       "      <td>0.844422</td>\n",
       "      <td>0.842282</td>\n",
       "      <td>0.840130</td>\n",
       "      <td>0.837964</td>\n",
       "      <td>0.835784</td>\n",
       "      <td>0.833592</td>\n",
       "      <td>0.831386</td>\n",
       "      <td>0.829167</td>\n",
       "    </tr>\n",
       "    <tr>\n",
       "      <th>Dim_14</th>\n",
       "      <td>0.0</td>\n",
       "      <td>0.001585</td>\n",
       "      <td>0.003170</td>\n",
       "      <td>0.004755</td>\n",
       "      <td>0.006340</td>\n",
       "      <td>0.007924</td>\n",
       "      <td>0.009509</td>\n",
       "      <td>0.011094</td>\n",
       "      <td>0.012679</td>\n",
       "      <td>0.014264</td>\n",
       "      <td>...</td>\n",
       "      <td>0.220069</td>\n",
       "      <td>0.221615</td>\n",
       "      <td>0.223160</td>\n",
       "      <td>0.224704</td>\n",
       "      <td>0.226249</td>\n",
       "      <td>0.227792</td>\n",
       "      <td>0.229335</td>\n",
       "      <td>0.230877</td>\n",
       "      <td>0.232419</td>\n",
       "      <td>0.233960</td>\n",
       "    </tr>\n",
       "    <tr>\n",
       "      <th>Dim_15</th>\n",
       "      <td>1.0</td>\n",
       "      <td>0.999999</td>\n",
       "      <td>0.999995</td>\n",
       "      <td>0.999989</td>\n",
       "      <td>0.999980</td>\n",
       "      <td>0.999969</td>\n",
       "      <td>0.999955</td>\n",
       "      <td>0.999938</td>\n",
       "      <td>0.999920</td>\n",
       "      <td>0.999898</td>\n",
       "      <td>...</td>\n",
       "      <td>0.975484</td>\n",
       "      <td>0.975134</td>\n",
       "      <td>0.974782</td>\n",
       "      <td>0.974427</td>\n",
       "      <td>0.974070</td>\n",
       "      <td>0.973710</td>\n",
       "      <td>0.973348</td>\n",
       "      <td>0.972983</td>\n",
       "      <td>0.972616</td>\n",
       "      <td>0.972246</td>\n",
       "    </tr>\n",
       "    <tr>\n",
       "      <th>Dim_16</th>\n",
       "      <td>0.0</td>\n",
       "      <td>0.000631</td>\n",
       "      <td>0.001262</td>\n",
       "      <td>0.001893</td>\n",
       "      <td>0.002524</td>\n",
       "      <td>0.003155</td>\n",
       "      <td>0.003786</td>\n",
       "      <td>0.004417</td>\n",
       "      <td>0.005048</td>\n",
       "      <td>0.005679</td>\n",
       "      <td>...</td>\n",
       "      <td>0.088219</td>\n",
       "      <td>0.088848</td>\n",
       "      <td>0.089476</td>\n",
       "      <td>0.090105</td>\n",
       "      <td>0.090733</td>\n",
       "      <td>0.091361</td>\n",
       "      <td>0.091990</td>\n",
       "      <td>0.092618</td>\n",
       "      <td>0.093246</td>\n",
       "      <td>0.093874</td>\n",
       "    </tr>\n",
       "    <tr>\n",
       "      <th>Dim_17</th>\n",
       "      <td>1.0</td>\n",
       "      <td>1.000000</td>\n",
       "      <td>0.999999</td>\n",
       "      <td>0.999998</td>\n",
       "      <td>0.999997</td>\n",
       "      <td>0.999995</td>\n",
       "      <td>0.999993</td>\n",
       "      <td>0.999990</td>\n",
       "      <td>0.999987</td>\n",
       "      <td>0.999984</td>\n",
       "      <td>...</td>\n",
       "      <td>0.996101</td>\n",
       "      <td>0.996045</td>\n",
       "      <td>0.995989</td>\n",
       "      <td>0.995932</td>\n",
       "      <td>0.995875</td>\n",
       "      <td>0.995818</td>\n",
       "      <td>0.995760</td>\n",
       "      <td>0.995702</td>\n",
       "      <td>0.995643</td>\n",
       "      <td>0.995584</td>\n",
       "    </tr>\n",
       "    <tr>\n",
       "      <th>Dim_18</th>\n",
       "      <td>0.0</td>\n",
       "      <td>0.000251</td>\n",
       "      <td>0.000502</td>\n",
       "      <td>0.000754</td>\n",
       "      <td>0.001005</td>\n",
       "      <td>0.001256</td>\n",
       "      <td>0.001507</td>\n",
       "      <td>0.001758</td>\n",
       "      <td>0.002010</td>\n",
       "      <td>0.002261</td>\n",
       "      <td>...</td>\n",
       "      <td>0.035159</td>\n",
       "      <td>0.035410</td>\n",
       "      <td>0.035661</td>\n",
       "      <td>0.035912</td>\n",
       "      <td>0.036163</td>\n",
       "      <td>0.036414</td>\n",
       "      <td>0.036665</td>\n",
       "      <td>0.036916</td>\n",
       "      <td>0.037167</td>\n",
       "      <td>0.037418</td>\n",
       "    </tr>\n",
       "    <tr>\n",
       "      <th>Dim_19</th>\n",
       "      <td>1.0</td>\n",
       "      <td>1.000000</td>\n",
       "      <td>1.000000</td>\n",
       "      <td>1.000000</td>\n",
       "      <td>1.000000</td>\n",
       "      <td>0.999999</td>\n",
       "      <td>0.999999</td>\n",
       "      <td>0.999998</td>\n",
       "      <td>0.999998</td>\n",
       "      <td>0.999997</td>\n",
       "      <td>...</td>\n",
       "      <td>0.999382</td>\n",
       "      <td>0.999373</td>\n",
       "      <td>0.999364</td>\n",
       "      <td>0.999355</td>\n",
       "      <td>0.999346</td>\n",
       "      <td>0.999337</td>\n",
       "      <td>0.999328</td>\n",
       "      <td>0.999318</td>\n",
       "      <td>0.999309</td>\n",
       "      <td>0.999300</td>\n",
       "    </tr>\n",
       "  </tbody>\n",
       "</table>\n",
       "<p>20 rows × 150 columns</p>\n",
       "</div>"
      ],
      "text/plain": [
       "        Word_0    Word_1    Word_2    Word_3    Word_4    Word_5    Word_6  \\\n",
       "Dim_0      0.0  0.841471  0.909297  0.141120 -0.756802 -0.958924 -0.279415   \n",
       "Dim_1      1.0  0.540302 -0.416147 -0.989992 -0.653644  0.283662  0.960170   \n",
       "Dim_2      0.0  0.387674  0.714713  0.929966  0.999766  0.913195  0.683794   \n",
       "Dim_3      1.0  0.921796  0.699417  0.367644 -0.021631 -0.407523 -0.729675   \n",
       "Dim_4      0.0  0.157827  0.311697  0.457755  0.592338  0.712073  0.813960   \n",
       "Dim_5      1.0  0.987467  0.950181  0.889079  0.805690  0.702105  0.580922   \n",
       "Dim_6      0.0  0.063054  0.125857  0.188159  0.249712  0.310272  0.369596   \n",
       "Dim_7      1.0  0.998010  0.992048  0.982139  0.968320  0.950648  0.929192   \n",
       "Dim_8      0.0  0.025116  0.050217  0.075285  0.100306  0.125264  0.150143   \n",
       "Dim_9      1.0  0.999685  0.998738  0.997162  0.994957  0.992123  0.988664   \n",
       "Dim_10     0.0  0.010000  0.019999  0.029995  0.039989  0.049979  0.059964   \n",
       "Dim_11     1.0  0.999950  0.999800  0.999550  0.999200  0.998750  0.998201   \n",
       "Dim_12     0.0  0.003981  0.007962  0.011943  0.015924  0.019904  0.023884   \n",
       "Dim_13     1.0  0.999992  0.999968  0.999929  0.999873  0.999802  0.999715   \n",
       "Dim_14     0.0  0.001585  0.003170  0.004755  0.006340  0.007924  0.009509   \n",
       "Dim_15     1.0  0.999999  0.999995  0.999989  0.999980  0.999969  0.999955   \n",
       "Dim_16     0.0  0.000631  0.001262  0.001893  0.002524  0.003155  0.003786   \n",
       "Dim_17     1.0  1.000000  0.999999  0.999998  0.999997  0.999995  0.999993   \n",
       "Dim_18     0.0  0.000251  0.000502  0.000754  0.001005  0.001256  0.001507   \n",
       "Dim_19     1.0  1.000000  1.000000  1.000000  1.000000  0.999999  0.999999   \n",
       "\n",
       "          Word_7    Word_8    Word_9  ...  Word_140  Word_141  Word_142  \\\n",
       "Dim_0   0.656987  0.989358  0.412118  ...  0.980240  0.363171 -0.587795   \n",
       "Dim_1   0.753902 -0.145500 -0.911130  ... -0.197814 -0.931722 -0.809010   \n",
       "Dim_2   0.347443 -0.043251 -0.427180  ... -0.726808 -0.403697 -0.017447   \n",
       "Dim_3  -0.937701 -0.999064 -0.904166  ...  0.686840  0.914893  0.999848   \n",
       "Dim_4   0.895443  0.954481  0.989594  ... -0.196076 -0.348382 -0.491954   \n",
       "Dim_5   0.445176  0.298272  0.143891  ... -0.980589 -0.937353 -0.870621   \n",
       "Dim_6   0.427450  0.483602  0.537830  ...  0.557504  0.504049  0.448587   \n",
       "Dim_7   0.904039  0.875288  0.843053  ... -0.830174 -0.863675 -0.893739   \n",
       "Dim_8   0.174927  0.199601  0.224149  ... -0.366317 -0.389572 -0.412581   \n",
       "Dim_9   0.984581  0.979877  0.974555  ... -0.930490 -0.920996 -0.910921   \n",
       "Dim_10  0.069943  0.079915  0.089879  ...  0.985450  0.987100  0.988652   \n",
       "Dim_11  0.997551  0.996802  0.995953  ...  0.169967  0.160104  0.150226   \n",
       "Dim_12  0.027864  0.031843  0.035822  ...  0.528939  0.532313  0.535679   \n",
       "Dim_13  0.999612  0.999493  0.999358  ...  0.848660  0.846547  0.844422   \n",
       "Dim_14  0.011094  0.012679  0.014264  ...  0.220069  0.221615  0.223160   \n",
       "Dim_15  0.999938  0.999920  0.999898  ...  0.975484  0.975134  0.974782   \n",
       "Dim_16  0.004417  0.005048  0.005679  ...  0.088219  0.088848  0.089476   \n",
       "Dim_17  0.999990  0.999987  0.999984  ...  0.996101  0.996045  0.995989   \n",
       "Dim_18  0.001758  0.002010  0.002261  ...  0.035159  0.035410  0.035661   \n",
       "Dim_19  0.999998  0.999998  0.999997  ...  0.999382  0.999373  0.999364   \n",
       "\n",
       "        Word_143  Word_144  Word_145  Word_146  Word_147  Word_148  Word_149  \n",
       "Dim_0  -0.998345 -0.491022  0.467745  0.996469  0.609044 -0.338333 -0.974649  \n",
       "Dim_1   0.057503  0.871147  0.883863  0.083959 -0.793136 -0.941026 -0.223741  \n",
       "Dim_2   0.371534  0.702402  0.923410  0.999991  0.920166  0.696419  0.363750  \n",
       "Dim_3   0.928419  0.711780  0.383815 -0.004185 -0.391528 -0.717635 -0.931497  \n",
       "Dim_4  -0.623197 -0.738817 -0.835918 -0.912065 -0.965350 -0.994437 -0.998598  \n",
       "Dim_5  -0.782065 -0.673906 -0.548855 -0.410046 -0.260959 -0.105330  0.052939  \n",
       "Dim_6   0.391342  0.332538  0.272410  0.211199  0.149147  0.086502  0.023513  \n",
       "Dim_7  -0.920245 -0.943090 -0.962181 -0.977443 -0.988815 -0.996252 -0.999724  \n",
       "Dim_8  -0.435330 -0.457804 -0.479989 -0.501872 -0.523438 -0.544673 -0.565565  \n",
       "Dim_9  -0.900271 -0.889053 -0.877274 -0.864942 -0.852064 -0.838649 -0.824704  \n",
       "Dim_10  0.990105  0.991458  0.992713  0.993868  0.994924  0.995881  0.996738  \n",
       "Dim_11  0.140332  0.130424  0.120503  0.110570  0.100626  0.090672  0.080708  \n",
       "Dim_12  0.539037  0.542386  0.545726  0.549058  0.552381  0.555695  0.559000  \n",
       "Dim_13  0.842282  0.840130  0.837964  0.835784  0.833592  0.831386  0.829167  \n",
       "Dim_14  0.224704  0.226249  0.227792  0.229335  0.230877  0.232419  0.233960  \n",
       "Dim_15  0.974427  0.974070  0.973710  0.973348  0.972983  0.972616  0.972246  \n",
       "Dim_16  0.090105  0.090733  0.091361  0.091990  0.092618  0.093246  0.093874  \n",
       "Dim_17  0.995932  0.995875  0.995818  0.995760  0.995702  0.995643  0.995584  \n",
       "Dim_18  0.035912  0.036163  0.036414  0.036665  0.036916  0.037167  0.037418  \n",
       "Dim_19  0.999355  0.999346  0.999337  0.999328  0.999318  0.999309  0.999300  \n",
       "\n",
       "[20 rows x 150 columns]"
      ]
     },
     "execution_count": 125,
     "metadata": {},
     "output_type": "execute_result"
    }
   ],
   "source": [
    "# Plotting  \n",
    "SinCosPosEncOutput = pd.DataFrame(index = [f\"Word_{n}\" for n in range(SinCosPosEncOuput.shape[1])],\n",
    "                                data = SinCosPosEncOuput.view(150,-1), \n",
    "                                columns = [f\"Dim_{n}\" for n in range(SinCosPosEncOuput.shape[2])]).T\n",
    "SinCosPosEncOutput"
   ]
  },
  {
   "cell_type": "code",
   "execution_count": 126,
   "metadata": {},
   "outputs": [],
   "source": [
    "# Creating Coor for 3D Graphics\n",
    "Word_i_SinCos = {f\"W_{key}\":{'x':[],'y':[] ,'z':[]} for _, key in enumerate(SinCosPosEncOutput.index)}\n",
    "pad_ = 0\n",
    "for index_, key_ in enumerate(Word_i_SinCos.keys()):\n",
    "    for position_ in range(len(SinCosPosEncOutput.columns)):\n",
    "        Word_i_SinCos[key_]['z'].append(SinCosPosEncOutput.iloc[index_,position_])\n",
    "        Word_i_SinCos[key_]['x'].append(position_)\n",
    "        Word_i_SinCos[key_]['y'].append(index_)"
   ]
  },
  {
   "cell_type": "code",
   "execution_count": 127,
   "metadata": {},
   "outputs": [
    {
     "data": {
      "application/vnd.plotly.v1+json": {
       "config": {
        "plotlyServerURL": "https://plot.ly"
       },
       "data": [
        {
         "mode": "lines+text",
         "name": "Dimension 0",
         "text": [
          "W_Dim_4Po0",
          "W_Dim_4Po2",
          "W_Dim_4Po4",
          "W_Dim_4Po6",
          "W_Dim_4Po8",
          "W_Dim_4Po10",
          "W_Dim_4Po12",
          "W_Dim_4Po14",
          "W_Dim_4Po16",
          "W_Dim_4Po18",
          "W_Dim_4Po20",
          "W_Dim_4Po22",
          "W_Dim_4Po24",
          "W_Dim_4Po26",
          "W_Dim_4Po28",
          "W_Dim_4Po30",
          "W_Dim_4Po32",
          "W_Dim_4Po34",
          "W_Dim_4Po36",
          "W_Dim_4Po38",
          "W_Dim_4Po40",
          "W_Dim_4Po42",
          "W_Dim_4Po44",
          "W_Dim_4Po46",
          "W_Dim_4Po48",
          "W_Dim_4Po50",
          "W_Dim_4Po52",
          "W_Dim_4Po54",
          "W_Dim_4Po56",
          "W_Dim_4Po58",
          "W_Dim_4Po60",
          "W_Dim_4Po62",
          "W_Dim_4Po64",
          "W_Dim_4Po66",
          "W_Dim_4Po68",
          "W_Dim_4Po70",
          "W_Dim_4Po72",
          "W_Dim_4Po74",
          "W_Dim_4Po76",
          "W_Dim_4Po78",
          "W_Dim_4Po80",
          "W_Dim_4Po82",
          "W_Dim_4Po84",
          "W_Dim_4Po86",
          "W_Dim_4Po88",
          "W_Dim_4Po90",
          "W_Dim_4Po92",
          "W_Dim_4Po94",
          "W_Dim_4Po96",
          "W_Dim_4Po98",
          "W_Dim_4Po100",
          "W_Dim_4Po102",
          "W_Dim_4Po104",
          "W_Dim_4Po106",
          "W_Dim_4Po108",
          "W_Dim_4Po110",
          "W_Dim_4Po112",
          "W_Dim_4Po114",
          "W_Dim_4Po116",
          "W_Dim_4Po118",
          "W_Dim_4Po120",
          "W_Dim_4Po122",
          "W_Dim_4Po124",
          "W_Dim_4Po126",
          "W_Dim_4Po128",
          "W_Dim_4Po130",
          "W_Dim_4Po132",
          "W_Dim_4Po134",
          "W_Dim_4Po136",
          "W_Dim_4Po138",
          "W_Dim_4Po140",
          "W_Dim_4Po142",
          "W_Dim_4Po144",
          "W_Dim_4Po146",
          "W_Dim_4Po148"
         ],
         "type": "scatter3d",
         "x": [
          0,
          1,
          2,
          3,
          4,
          5,
          6,
          7,
          8,
          9,
          10,
          11,
          12,
          13,
          14,
          15,
          16,
          17,
          18,
          19,
          20,
          21,
          22,
          23,
          24,
          25,
          26,
          27,
          28,
          29,
          30,
          31,
          32,
          33,
          34,
          35,
          36,
          37,
          38,
          39,
          40,
          41,
          42,
          43,
          44,
          45,
          46,
          47,
          48,
          49,
          50,
          51,
          52,
          53,
          54,
          55,
          56,
          57,
          58,
          59,
          60,
          61,
          62,
          63,
          64,
          65,
          66,
          67,
          68,
          69,
          70,
          71,
          72,
          73,
          74,
          75,
          76,
          77,
          78,
          79,
          80,
          81,
          82,
          83,
          84,
          85,
          86,
          87,
          88,
          89,
          90,
          91,
          92,
          93,
          94,
          95,
          96,
          97,
          98,
          99,
          100,
          101,
          102,
          103,
          104,
          105,
          106,
          107,
          108,
          109,
          110,
          111,
          112,
          113,
          114,
          115,
          116,
          117,
          118,
          119,
          120,
          121,
          122,
          123,
          124,
          125,
          126,
          127,
          128,
          129,
          130,
          131,
          132,
          133,
          134,
          135,
          136,
          137,
          138,
          139,
          140,
          141,
          142,
          143,
          144,
          145,
          146,
          147,
          148,
          149
         ],
         "y": [
          4,
          4,
          4,
          4,
          4,
          4,
          4,
          4,
          4,
          4,
          4,
          4,
          4,
          4,
          4,
          4,
          4,
          4,
          4,
          4,
          4,
          4,
          4,
          4,
          4,
          4,
          4,
          4,
          4,
          4,
          4,
          4,
          4,
          4,
          4,
          4,
          4,
          4,
          4,
          4,
          4,
          4,
          4,
          4,
          4,
          4,
          4,
          4,
          4,
          4,
          4,
          4,
          4,
          4,
          4,
          4,
          4,
          4,
          4,
          4,
          4,
          4,
          4,
          4,
          4,
          4,
          4,
          4,
          4,
          4,
          4,
          4,
          4,
          4,
          4,
          4,
          4,
          4,
          4,
          4,
          4,
          4,
          4,
          4,
          4,
          4,
          4,
          4,
          4,
          4,
          4,
          4,
          4,
          4,
          4,
          4,
          4,
          4,
          4,
          4,
          4,
          4,
          4,
          4,
          4,
          4,
          4,
          4,
          4,
          4,
          4,
          4,
          4,
          4,
          4,
          4,
          4,
          4,
          4,
          4,
          4,
          4,
          4,
          4,
          4,
          4,
          4,
          4,
          4,
          4,
          4,
          4,
          4,
          4,
          4,
          4,
          4,
          4,
          4,
          4,
          4,
          4,
          4,
          4,
          4,
          4,
          4,
          4,
          4,
          4
         ],
         "z": [
          0,
          0.15782663226127625,
          0.3116971552371979,
          0.45775455236434937,
          0.5923377275466919,
          0.7120731472969055,
          0.813959538936615,
          0.8954429626464844,
          0.9544808864593506,
          0.989593505859375,
          0.9999006390571594,
          0.9851439595222473,
          0.94569331407547,
          0.8825376033782959,
          0.7972599267959595,
          0.6919979453086853,
          0.5693899393081665,
          0.4325096309185028,
          0.284787654876709,
          0.12992730736732483,
          -0.028189826756715775,
          -0.18560057878494263,
          -0.3383587896823883,
          -0.48263558745384216,
          -0.6148146390914917,
          -0.7315824031829834,
          -0.8300122618675232,
          -0.9076365828514099,
          -0.96250981092453,
          -0.9932565093040466,
          -0.9991058707237244,
          -0.9799113273620605,
          -0.9361540079116821,
          -0.8689308166503906,
          -0.7799267172813416,
          -0.6713727116584778,
          -0.5459895133972168,
          -0.40692076086997986,
          -0.2576519548892975,
          -0.10192479938268661,
          0.0563572458922863,
          0.21322663128376007,
          0.3647516369819641,
          0.5071332454681396,
          0.6368028521537781,
          0.7505101561546326,
          0.8454049825668335,
          0.9191088080406189,
          0.9697737693786621,
          0.9961300492286682,
          0.9975170493125916,
          0.9738998413085938,
          0.9258706569671631,
          0.8546332716941833,
          0.7619734406471252,
          0.6502137184143066,
          0.5221555233001709,
          0.38100889325141907,
          0.23031172156333923,
          0.07384151220321655,
          -0.08447963744401932,
          -0.2406841218471527,
          -0.3908545970916748,
          -0.5312277674674988,
          -0.6582850813865662,
          -0.768841564655304,
          -0.8601260781288147,
          -0.9298503994941711,
          -0.9762668013572693,
          -0.9982118010520935,
          -0.9951353073120117,
          -0.9671145081520081,
          -0.9148513078689575,
          -0.839656412601471,
          -0.7434144616127014,
          -0.6285378336906433,
          -0.4979061186313629,
          -0.3547937273979187,
          -0.20278796553611755,
          -0.04569905996322632,
          0.11253535002470016,
          0.2679489254951477,
          0.41664600372314453,
          0.5549001097679138,
          0.6792440414428711,
          0.7865618467330933,
          0.8741634488105774,
          0.9398530125617981,
          0.9819839596748352,
          0.9995002150535583,
          0.9919626712799072,
          0.9595602750778198,
          0.9031052589416504,
          0.8240127563476562,
          0.7242646217346191,
          0.6063624024391174,
          0.4732609689235687,
          0.32829657196998596,
          0.17510302364826202,
          0.01752028614282608,
          -0.14050161838531494,
          -0.2950025796890259,
          -0.4421079754829407,
          -0.578131377696991,
          -0.6996631622314453,
          -0.8036569356918335,
          -0.8875060677528381,
          -0.9491086602210999,
          -0.9869205951690674,
          -0.999994158744812,
          -0.9880015254020691,
          -0.9512433409690857,
          -0.8906409740447998,
          -0.8077135682106018,
          -0.7045398354530334,
          -0.5837058424949646,
          -0.4482404589653015,
          -0.3015393912792206,
          -0.14727984368801117,
          0.010671461001038551,
          0.16835527122020721,
          0.32182085514068604,
          0.46721768379211426,
          0.6009030938148499,
          0.7195261120796204,
          0.8201132416725159,
          0.9001432061195374,
          0.9576098918914795,
          0.9910728335380554,
          0.9996932744979858,
          0.9832550883293152,
          0.9421703219413757,
          0.8774688243865967,
          0.7907724380493164,
          0.6842543482780457,
          0.5605844855308533,
          0.42286285758018494,
          0.2745416462421417,
          0.11933866888284683,
          -0.03885567933320999,
          -0.19607606530189514,
          -0.34838154911994934,
          -0.49195438623428345,
          -0.6231972575187683,
          -0.7388171553611755,
          -0.8359177112579346,
          -0.9120649099349976,
          -0.9653499722480774,
          -0.9944372773170471,
          -0.9985977411270142
         ]
        },
        {
         "mode": "lines+text",
         "name": "Dimension 1",
         "text": [
          "W_Dim_5Po0",
          "W_Dim_5Po2",
          "W_Dim_5Po4",
          "W_Dim_5Po6",
          "W_Dim_5Po8",
          "W_Dim_5Po10",
          "W_Dim_5Po12",
          "W_Dim_5Po14",
          "W_Dim_5Po16",
          "W_Dim_5Po18",
          "W_Dim_5Po20",
          "W_Dim_5Po22",
          "W_Dim_5Po24",
          "W_Dim_5Po26",
          "W_Dim_5Po28",
          "W_Dim_5Po30",
          "W_Dim_5Po32",
          "W_Dim_5Po34",
          "W_Dim_5Po36",
          "W_Dim_5Po38",
          "W_Dim_5Po40",
          "W_Dim_5Po42",
          "W_Dim_5Po44",
          "W_Dim_5Po46",
          "W_Dim_5Po48",
          "W_Dim_5Po50",
          "W_Dim_5Po52",
          "W_Dim_5Po54",
          "W_Dim_5Po56",
          "W_Dim_5Po58",
          "W_Dim_5Po60",
          "W_Dim_5Po62",
          "W_Dim_5Po64",
          "W_Dim_5Po66",
          "W_Dim_5Po68",
          "W_Dim_5Po70",
          "W_Dim_5Po72",
          "W_Dim_5Po74",
          "W_Dim_5Po76",
          "W_Dim_5Po78",
          "W_Dim_5Po80",
          "W_Dim_5Po82",
          "W_Dim_5Po84",
          "W_Dim_5Po86",
          "W_Dim_5Po88",
          "W_Dim_5Po90",
          "W_Dim_5Po92",
          "W_Dim_5Po94",
          "W_Dim_5Po96",
          "W_Dim_5Po98",
          "W_Dim_5Po100",
          "W_Dim_5Po102",
          "W_Dim_5Po104",
          "W_Dim_5Po106",
          "W_Dim_5Po108",
          "W_Dim_5Po110",
          "W_Dim_5Po112",
          "W_Dim_5Po114",
          "W_Dim_5Po116",
          "W_Dim_5Po118",
          "W_Dim_5Po120",
          "W_Dim_5Po122",
          "W_Dim_5Po124",
          "W_Dim_5Po126",
          "W_Dim_5Po128",
          "W_Dim_5Po130",
          "W_Dim_5Po132",
          "W_Dim_5Po134",
          "W_Dim_5Po136",
          "W_Dim_5Po138",
          "W_Dim_5Po140",
          "W_Dim_5Po142",
          "W_Dim_5Po144",
          "W_Dim_5Po146",
          "W_Dim_5Po148"
         ],
         "type": "scatter3d",
         "x": [
          0,
          1,
          2,
          3,
          4,
          5,
          6,
          7,
          8,
          9,
          10,
          11,
          12,
          13,
          14,
          15,
          16,
          17,
          18,
          19,
          20,
          21,
          22,
          23,
          24,
          25,
          26,
          27,
          28,
          29,
          30,
          31,
          32,
          33,
          34,
          35,
          36,
          37,
          38,
          39,
          40,
          41,
          42,
          43,
          44,
          45,
          46,
          47,
          48,
          49,
          50,
          51,
          52,
          53,
          54,
          55,
          56,
          57,
          58,
          59,
          60,
          61,
          62,
          63,
          64,
          65,
          66,
          67,
          68,
          69,
          70,
          71,
          72,
          73,
          74,
          75,
          76,
          77,
          78,
          79,
          80,
          81,
          82,
          83,
          84,
          85,
          86,
          87,
          88,
          89,
          90,
          91,
          92,
          93,
          94,
          95,
          96,
          97,
          98,
          99,
          100,
          101,
          102,
          103,
          104,
          105,
          106,
          107,
          108,
          109,
          110,
          111,
          112,
          113,
          114,
          115,
          116,
          117,
          118,
          119,
          120,
          121,
          122,
          123,
          124,
          125,
          126,
          127,
          128,
          129,
          130,
          131,
          132,
          133,
          134,
          135,
          136,
          137,
          138,
          139,
          140,
          141,
          142,
          143,
          144,
          145,
          146,
          147,
          148,
          149
         ],
         "y": [
          5,
          5,
          5,
          5,
          5,
          5,
          5,
          5,
          5,
          5,
          5,
          5,
          5,
          5,
          5,
          5,
          5,
          5,
          5,
          5,
          5,
          5,
          5,
          5,
          5,
          5,
          5,
          5,
          5,
          5,
          5,
          5,
          5,
          5,
          5,
          5,
          5,
          5,
          5,
          5,
          5,
          5,
          5,
          5,
          5,
          5,
          5,
          5,
          5,
          5,
          5,
          5,
          5,
          5,
          5,
          5,
          5,
          5,
          5,
          5,
          5,
          5,
          5,
          5,
          5,
          5,
          5,
          5,
          5,
          5,
          5,
          5,
          5,
          5,
          5,
          5,
          5,
          5,
          5,
          5,
          5,
          5,
          5,
          5,
          5,
          5,
          5,
          5,
          5,
          5,
          5,
          5,
          5,
          5,
          5,
          5,
          5,
          5,
          5,
          5,
          5,
          5,
          5,
          5,
          5,
          5,
          5,
          5,
          5,
          5,
          5,
          5,
          5,
          5,
          5,
          5,
          5,
          5,
          5,
          5,
          5,
          5,
          5,
          5,
          5,
          5,
          5,
          5,
          5,
          5,
          5,
          5,
          5,
          5,
          5,
          5,
          5,
          5,
          5,
          5,
          5,
          5,
          5,
          5,
          5,
          5,
          5,
          5,
          5,
          5
         ],
         "z": [
          1,
          0.9874668121337891,
          0.9501814842224121,
          0.8890786170959473,
          0.8056897521018982,
          0.7021052837371826,
          0.5809215903282166,
          0.44517630338668823,
          0.2982720732688904,
          0.14389123022556305,
          -0.014096314087510109,
          -0.1717306226491928,
          -0.32506027817726135,
          -0.47024187445640564,
          -0.6036361455917358,
          -0.7218994498252869,
          -0.8220675587654114,
          -0.9016293287277222,
          -0.9585906267166138,
          -0.9915235042572021,
          -0.9996025562286377,
          -0.9826252460479736,
          -0.941017210483551,
          -0.8758212924003601,
          -0.788671612739563,
          -0.6817529797554016,
          -0.5577451586723328,
          -0.4197568893432617,
          -0.27124688029289246,
          -0.11593768745660782,
          0.04227761924266815,
          0.19943365454673767,
          0.3515901565551758,
          0.4949335753917694,
          0.6258708238601685,
          0.7411198616027832,
          0.8377919793128967,
          0.9134634733200073,
          0.9662377834320068,
          0.994792103767395,
          0.9984106421470642,
          0.9770027995109558,
          0.931104838848114,
          0.8618676662445068,
          0.7710266709327698,
          0.6608588695526123,
          0.534125804901123,
          0.3940037488937378,
          0.24400585889816284,
          0.08789165318012238,
          -0.07042567431926727,
          -0.2269781529903412,
          -0.37784066796302795,
          -0.5192320942878723,
          -0.6476082801818848,
          -0.7597513794898987,
          -0.8528502583503723,
          -0.9245713949203491,
          -0.973116934299469,
          -0.9972699880599976,
          -0.996425211429596,
          -0.9706035256385803,
          -0.9204524159431458,
          -0.8472290635108948,
          -0.7527687549591064,
          -0.6394393444061279,
          -0.5100815296173096,
          -0.3679378628730774,
          -0.2165713608264923,
          -0.05977622792124748,
          0.0985172837972641,
          0.25434133410453796,
          0.4037908613681793,
          0.543117880821228,
          0.6688309907913208,
          0.7777789831161499,
          0.8672309517860413,
          0.9349446296691895,
          0.9792226552963257,
          0.998955249786377,
          0.9936476945877075,
          0.9634331464767456,
          0.9090688228607178,
          0.8319169878959656,
          0.733912467956543,
          0.617511510848999,
          0.4856317937374115,
          0.3415791094303131,
          0.18896427750587463,
          0.0316128134727478,
          -0.12653106451034546,
          -0.28150326013565063,
          -0.42941924929618835,
          -0.5665712356567383,
          -0.6895220875740051,
          -0.7951884269714355,
          -0.880922257900238,
          -0.9445747137069702,
          -0.9845501184463501,
          -0.9998465180397034,
          -0.9900804758071899,
          -0.9554964303970337,
          -0.8969618082046509,
          -0.815943717956543,
          -0.7144728899002075,
          -0.5950928330421448,
          -0.4607960879802704,
          -0.31494882702827454,
          -0.16120699048042297,
          -0.0034242761321365833,
          0.15444426238536835,
          0.3084414601325989,
          0.45470717549324036,
          0.5895750522613525,
          0.7096644639968872,
          0.8119652271270752,
          0.8939130306243896,
          0.9534537196159363,
          0.9890948534011841,
          0.9999430775642395,
          0.9857263565063477,
          0.9468005895614624,
          0.8841423392295837,
          0.7993218898773193,
          0.6944653987884521,
          0.5722011923789978,
          0.4355940818786621,
          0.2880682349205017,
          0.13332155346870422,
          -0.024766983464360237,
          -0.1822347193956375,
          -0.33513450622558594,
          -0.4796336889266968,
          -0.6121102571487427,
          -0.7292434573173523,
          -0.8280972242355347,
          -0.9061936736106873,
          -0.9615752100944519,
          -0.992853581905365,
          -0.9992448091506958,
          -0.9805886745452881,
          -0.9373528361320496,
          -0.8706209659576416,
          -0.78206467628479,
          -0.6739059090614319,
          -0.5488547682762146,
          -0.41004589200019836,
          -0.2609586715698242,
          -0.10533016920089722,
          0.0529385581612587
         ]
        },
        {
         "mode": "lines+text",
         "name": "Dimension 2",
         "text": [
          "W_Dim_6Po0",
          "W_Dim_6Po2",
          "W_Dim_6Po4",
          "W_Dim_6Po6",
          "W_Dim_6Po8",
          "W_Dim_6Po10",
          "W_Dim_6Po12",
          "W_Dim_6Po14",
          "W_Dim_6Po16",
          "W_Dim_6Po18",
          "W_Dim_6Po20",
          "W_Dim_6Po22",
          "W_Dim_6Po24",
          "W_Dim_6Po26",
          "W_Dim_6Po28",
          "W_Dim_6Po30",
          "W_Dim_6Po32",
          "W_Dim_6Po34",
          "W_Dim_6Po36",
          "W_Dim_6Po38",
          "W_Dim_6Po40",
          "W_Dim_6Po42",
          "W_Dim_6Po44",
          "W_Dim_6Po46",
          "W_Dim_6Po48",
          "W_Dim_6Po50",
          "W_Dim_6Po52",
          "W_Dim_6Po54",
          "W_Dim_6Po56",
          "W_Dim_6Po58",
          "W_Dim_6Po60",
          "W_Dim_6Po62",
          "W_Dim_6Po64",
          "W_Dim_6Po66",
          "W_Dim_6Po68",
          "W_Dim_6Po70",
          "W_Dim_6Po72",
          "W_Dim_6Po74",
          "W_Dim_6Po76",
          "W_Dim_6Po78",
          "W_Dim_6Po80",
          "W_Dim_6Po82",
          "W_Dim_6Po84",
          "W_Dim_6Po86",
          "W_Dim_6Po88",
          "W_Dim_6Po90",
          "W_Dim_6Po92",
          "W_Dim_6Po94",
          "W_Dim_6Po96",
          "W_Dim_6Po98",
          "W_Dim_6Po100",
          "W_Dim_6Po102",
          "W_Dim_6Po104",
          "W_Dim_6Po106",
          "W_Dim_6Po108",
          "W_Dim_6Po110",
          "W_Dim_6Po112",
          "W_Dim_6Po114",
          "W_Dim_6Po116",
          "W_Dim_6Po118",
          "W_Dim_6Po120",
          "W_Dim_6Po122",
          "W_Dim_6Po124",
          "W_Dim_6Po126",
          "W_Dim_6Po128",
          "W_Dim_6Po130",
          "W_Dim_6Po132",
          "W_Dim_6Po134",
          "W_Dim_6Po136",
          "W_Dim_6Po138",
          "W_Dim_6Po140",
          "W_Dim_6Po142",
          "W_Dim_6Po144",
          "W_Dim_6Po146",
          "W_Dim_6Po148"
         ],
         "type": "scatter3d",
         "x": [
          0,
          1,
          2,
          3,
          4,
          5,
          6,
          7,
          8,
          9,
          10,
          11,
          12,
          13,
          14,
          15,
          16,
          17,
          18,
          19,
          20,
          21,
          22,
          23,
          24,
          25,
          26,
          27,
          28,
          29,
          30,
          31,
          32,
          33,
          34,
          35,
          36,
          37,
          38,
          39,
          40,
          41,
          42,
          43,
          44,
          45,
          46,
          47,
          48,
          49,
          50,
          51,
          52,
          53,
          54,
          55,
          56,
          57,
          58,
          59,
          60,
          61,
          62,
          63,
          64,
          65,
          66,
          67,
          68,
          69,
          70,
          71,
          72,
          73,
          74,
          75,
          76,
          77,
          78,
          79,
          80,
          81,
          82,
          83,
          84,
          85,
          86,
          87,
          88,
          89,
          90,
          91,
          92,
          93,
          94,
          95,
          96,
          97,
          98,
          99,
          100,
          101,
          102,
          103,
          104,
          105,
          106,
          107,
          108,
          109,
          110,
          111,
          112,
          113,
          114,
          115,
          116,
          117,
          118,
          119,
          120,
          121,
          122,
          123,
          124,
          125,
          126,
          127,
          128,
          129,
          130,
          131,
          132,
          133,
          134,
          135,
          136,
          137,
          138,
          139,
          140,
          141,
          142,
          143,
          144,
          145,
          146,
          147,
          148,
          149
         ],
         "y": [
          6,
          6,
          6,
          6,
          6,
          6,
          6,
          6,
          6,
          6,
          6,
          6,
          6,
          6,
          6,
          6,
          6,
          6,
          6,
          6,
          6,
          6,
          6,
          6,
          6,
          6,
          6,
          6,
          6,
          6,
          6,
          6,
          6,
          6,
          6,
          6,
          6,
          6,
          6,
          6,
          6,
          6,
          6,
          6,
          6,
          6,
          6,
          6,
          6,
          6,
          6,
          6,
          6,
          6,
          6,
          6,
          6,
          6,
          6,
          6,
          6,
          6,
          6,
          6,
          6,
          6,
          6,
          6,
          6,
          6,
          6,
          6,
          6,
          6,
          6,
          6,
          6,
          6,
          6,
          6,
          6,
          6,
          6,
          6,
          6,
          6,
          6,
          6,
          6,
          6,
          6,
          6,
          6,
          6,
          6,
          6,
          6,
          6,
          6,
          6,
          6,
          6,
          6,
          6,
          6,
          6,
          6,
          6,
          6,
          6,
          6,
          6,
          6,
          6,
          6,
          6,
          6,
          6,
          6,
          6,
          6,
          6,
          6,
          6,
          6,
          6,
          6,
          6,
          6,
          6,
          6,
          6,
          6,
          6,
          6,
          6,
          6,
          6,
          6,
          6,
          6,
          6,
          6,
          6,
          6,
          6,
          6,
          6,
          6,
          6
         ],
         "z": [
          0,
          0.06305386871099472,
          0.12585680186748505,
          0.18815885484218597,
          0.24971207976341248,
          0.3102715313434601,
          0.3695961534976959,
          0.42744991183280945,
          0.48360246419906616,
          0.5378304719924927,
          0.5899180173873901,
          0.6396577954292297,
          0.686851978302002,
          0.7313125729560852,
          0.7728627920150757,
          0.8113371729850769,
          0.8465826511383057,
          0.8784589767456055,
          0.9068391919136047,
          0.9316104054450989,
          0.952674150466919,
          0.9699463844299316,
          0.9833585023880005,
          0.9928570985794067,
          0.9984043836593628,
          0.999978244304657,
          0.9975724220275879,
          0.9911965727806091,
          0.9808759689331055,
          0.9666517376899719,
          0.9485805034637451,
          0.9267340898513794,
          0.9011995792388916,
          0.8720784187316895,
          0.8394866585731506,
          0.8035540580749512,
          0.7644233703613281,
          0.7222504019737244,
          0.6772032976150513,
          0.6294609308242798,
          0.5792134404182434,
          0.5266609787940979,
          0.47201237082481384,
          0.41548529267311096,
          0.3573048710823059,
          0.29770225286483765,
          0.23691485822200775,
          0.17518481612205505,
          0.1127573698759079,
          0.04988116770982742,
          -0.013193312101066113,
          -0.07621552050113678,
          -0.1389344185590744,
          -0.20110014081001282,
          -0.26246577501296997,
          -0.3227868676185608,
          -0.38182333111763,
          -0.4393400251865387,
          -0.4951084852218628,
          -0.5489065051078796,
          -0.6005198359489441,
          -0.6497434377670288,
          -0.6963812112808228,
          -0.740247368812561,
          -0.7811675667762756,
          -0.8189792037010193,
          -0.8535312414169312,
          -0.8846864700317383,
          -0.9123210310935974,
          -0.9363245964050293,
          -0.9566018581390381,
          -0.9730721712112427,
          -0.9856698513031006,
          -0.9943447709083557,
          -0.9990624785423279,
          -0.9998041987419128,
          -0.996566891670227,
          -0.9893634915351868,
          -0.9782227277755737,
          -0.963188886642456,
          -0.9443216919898987,
          -0.9216964244842529,
          -0.8954030871391296,
          -0.8655460476875305,
          -0.8322445750236511,
          -0.7956309914588928,
          -0.7558507323265076,
          -0.7130626440048218,
          -0.6674367785453796,
          -0.6191543340682983,
          -0.5684081315994263,
          -0.5153998136520386,
          -0.4603399634361267,
          -0.4034484922885895,
          -0.3449513912200928,
          -0.28508099913597107,
          -0.2240765243768692,
          -0.16218028962612152,
          -0.09963814169168472,
          -0.03669993579387665,
          0.026384327560663223,
          0.08936406672000885,
          0.15198767185211182,
          0.2140064239501953,
          0.27517393231391907,
          0.33524587750434875,
          0.3939836025238037,
          0.45115384459495544,
          0.5065281391143799,
          0.5598869919776917,
          0.6110172867774963,
          0.6597158312797546,
          0.7057892084121704,
          0.749053418636322,
          0.789336621761322,
          0.8264787197113037,
          0.8603313565254211,
          0.8907601237297058,
          0.9176440834999084,
          0.9408758282661438,
          0.9603631496429443,
          0.9760286211967468,
          0.9878095984458923,
          0.995659351348877,
          0.9995467066764832,
          0.9994560480117798,
          0.995387852191925,
          0.9873582124710083,
          0.9753992557525635,
          0.9595583081245422,
          0.9398984909057617,
          0.9164984822273254,
          0.8894506692886353,
          0.8588629961013794,
          0.8248578310012817,
          0.7875693440437317,
          0.7471465468406677,
          0.7037509083747864,
          0.6575539112091064,
          0.6087399125099182,
          0.5575041174888611,
          0.504048764705658,
          0.44858741760253906,
          0.3913416862487793,
          0.33253762125968933,
          0.272410124540329,
          0.21119943261146545,
          0.14914728701114655,
          0.0865015760064125,
          0.02351255714893341
         ]
        },
        {
         "mode": "lines+text",
         "name": "Dimension 3",
         "text": [
          "W_Dim_7Po0",
          "W_Dim_7Po2",
          "W_Dim_7Po4",
          "W_Dim_7Po6",
          "W_Dim_7Po8",
          "W_Dim_7Po10",
          "W_Dim_7Po12",
          "W_Dim_7Po14",
          "W_Dim_7Po16",
          "W_Dim_7Po18",
          "W_Dim_7Po20",
          "W_Dim_7Po22",
          "W_Dim_7Po24",
          "W_Dim_7Po26",
          "W_Dim_7Po28",
          "W_Dim_7Po30",
          "W_Dim_7Po32",
          "W_Dim_7Po34",
          "W_Dim_7Po36",
          "W_Dim_7Po38",
          "W_Dim_7Po40",
          "W_Dim_7Po42",
          "W_Dim_7Po44",
          "W_Dim_7Po46",
          "W_Dim_7Po48",
          "W_Dim_7Po50",
          "W_Dim_7Po52",
          "W_Dim_7Po54",
          "W_Dim_7Po56",
          "W_Dim_7Po58",
          "W_Dim_7Po60",
          "W_Dim_7Po62",
          "W_Dim_7Po64",
          "W_Dim_7Po66",
          "W_Dim_7Po68",
          "W_Dim_7Po70",
          "W_Dim_7Po72",
          "W_Dim_7Po74",
          "W_Dim_7Po76",
          "W_Dim_7Po78",
          "W_Dim_7Po80",
          "W_Dim_7Po82",
          "W_Dim_7Po84",
          "W_Dim_7Po86",
          "W_Dim_7Po88",
          "W_Dim_7Po90",
          "W_Dim_7Po92",
          "W_Dim_7Po94",
          "W_Dim_7Po96",
          "W_Dim_7Po98",
          "W_Dim_7Po100",
          "W_Dim_7Po102",
          "W_Dim_7Po104",
          "W_Dim_7Po106",
          "W_Dim_7Po108",
          "W_Dim_7Po110",
          "W_Dim_7Po112",
          "W_Dim_7Po114",
          "W_Dim_7Po116",
          "W_Dim_7Po118",
          "W_Dim_7Po120",
          "W_Dim_7Po122",
          "W_Dim_7Po124",
          "W_Dim_7Po126",
          "W_Dim_7Po128",
          "W_Dim_7Po130",
          "W_Dim_7Po132",
          "W_Dim_7Po134",
          "W_Dim_7Po136",
          "W_Dim_7Po138",
          "W_Dim_7Po140",
          "W_Dim_7Po142",
          "W_Dim_7Po144",
          "W_Dim_7Po146",
          "W_Dim_7Po148"
         ],
         "type": "scatter3d",
         "x": [
          0,
          1,
          2,
          3,
          4,
          5,
          6,
          7,
          8,
          9,
          10,
          11,
          12,
          13,
          14,
          15,
          16,
          17,
          18,
          19,
          20,
          21,
          22,
          23,
          24,
          25,
          26,
          27,
          28,
          29,
          30,
          31,
          32,
          33,
          34,
          35,
          36,
          37,
          38,
          39,
          40,
          41,
          42,
          43,
          44,
          45,
          46,
          47,
          48,
          49,
          50,
          51,
          52,
          53,
          54,
          55,
          56,
          57,
          58,
          59,
          60,
          61,
          62,
          63,
          64,
          65,
          66,
          67,
          68,
          69,
          70,
          71,
          72,
          73,
          74,
          75,
          76,
          77,
          78,
          79,
          80,
          81,
          82,
          83,
          84,
          85,
          86,
          87,
          88,
          89,
          90,
          91,
          92,
          93,
          94,
          95,
          96,
          97,
          98,
          99,
          100,
          101,
          102,
          103,
          104,
          105,
          106,
          107,
          108,
          109,
          110,
          111,
          112,
          113,
          114,
          115,
          116,
          117,
          118,
          119,
          120,
          121,
          122,
          123,
          124,
          125,
          126,
          127,
          128,
          129,
          130,
          131,
          132,
          133,
          134,
          135,
          136,
          137,
          138,
          139,
          140,
          141,
          142,
          143,
          144,
          145,
          146,
          147,
          148,
          149
         ],
         "y": [
          7,
          7,
          7,
          7,
          7,
          7,
          7,
          7,
          7,
          7,
          7,
          7,
          7,
          7,
          7,
          7,
          7,
          7,
          7,
          7,
          7,
          7,
          7,
          7,
          7,
          7,
          7,
          7,
          7,
          7,
          7,
          7,
          7,
          7,
          7,
          7,
          7,
          7,
          7,
          7,
          7,
          7,
          7,
          7,
          7,
          7,
          7,
          7,
          7,
          7,
          7,
          7,
          7,
          7,
          7,
          7,
          7,
          7,
          7,
          7,
          7,
          7,
          7,
          7,
          7,
          7,
          7,
          7,
          7,
          7,
          7,
          7,
          7,
          7,
          7,
          7,
          7,
          7,
          7,
          7,
          7,
          7,
          7,
          7,
          7,
          7,
          7,
          7,
          7,
          7,
          7,
          7,
          7,
          7,
          7,
          7,
          7,
          7,
          7,
          7,
          7,
          7,
          7,
          7,
          7,
          7,
          7,
          7,
          7,
          7,
          7,
          7,
          7,
          7,
          7,
          7,
          7,
          7,
          7,
          7,
          7,
          7,
          7,
          7,
          7,
          7,
          7,
          7,
          7,
          7,
          7,
          7,
          7,
          7,
          7,
          7,
          7,
          7,
          7,
          7,
          7,
          7,
          7,
          7,
          7,
          7,
          7,
          7,
          7,
          7
         ],
         "z": [
          1,
          0.9980100989341736,
          0.992048442363739,
          0.9821386337280273,
          0.9683201313018799,
          0.9506480097770691,
          0.9291924834251404,
          0.9040390253067017,
          0.8752877712249756,
          0.8430530428886414,
          0.8074631690979004,
          0.7686598300933838,
          0.726797342300415,
          0.6820424199104309,
          0.6345731616020203,
          0.5845784544944763,
          0.5322573184967041,
          0.4778178036212921,
          0.421476811170578,
          0.36345842480659485,
          0.30399346351623535,
          0.2433188110589981,
          0.18167579174041748,
          0.11930964142084122,
          0.05646878853440285,
          -0.006596799474209547,
          -0.0696362555027008,
          -0.13239845633506775,
          -0.1946338564157486,
          -0.2560945451259613,
          -0.3165360391139984,
          -0.3757179379463196,
          -0.4334043264389038,
          -0.4893660843372345,
          -0.5433803200721741,
          -0.595231831073761,
          -0.6447145938873291,
          -0.6916316151618958,
          -0.7357959747314453,
          -0.7770321369171143,
          -0.8151759505271912,
          -0.8500754237174988,
          -0.8815919160842896,
          -0.9095999002456665,
          -0.9339877963066101,
          -0.9546588063240051,
          -0.9715304374694824,
          -0.9845355749130249,
          -0.9936225414276123,
          -0.998755156993866,
          -0.9999129772186279,
          -0.9970913529396057,
          -0.9903016090393066,
          -0.9795706868171692,
          -0.9649413228034973,
          -0.9464716911315918,
          -0.9242353439331055,
          -0.8983208537101746,
          -0.8688311576843262,
          -0.8358837366104126,
          -0.7996098399162292,
          -0.760153591632843,
          -0.7176720499992371,
          -0.672334611415863,
          -0.6243214011192322,
          -0.5738231539726257,
          -0.5210416316986084,
          -0.4661865234375,
          -0.4094756841659546,
          -0.35113564133644104,
          -0.29139819741249084,
          -0.23050059378147125,
          -0.16868610680103302,
          -0.10620030760765076,
          -0.043291375041007996,
          0.01978936977684498,
          0.08279135823249817,
          0.14546433091163635,
          0.20755791664123535,
          0.2688254714012146,
          0.3290236294269562,
          0.38791191577911377,
          0.44525641202926636,
          0.5008293390274048,
          0.554408609867096,
          0.6057815551757812,
          0.6547439694404602,
          0.7011002898216248,
          0.7446664571762085,
          0.7852693200111389,
          0.822746753692627,
          0.8569498062133789,
          0.8877426981925964,
          0.9150023460388184,
          0.9386205673217773,
          0.9585034251213074,
          0.9745715856552124,
          0.9867611527442932,
          0.9950237274169922,
          0.9993263483047485,
          0.9996518492698669,
          0.9959990382194519,
          0.9883823990821838,
          0.9768322706222534,
          0.9613944888114929,
          0.9421306848526001,
          0.9191174507141113,
          0.8924462199211121,
          0.8622234463691711,
          0.8285689949989319,
          0.7916172742843628,
          0.7515151500701904,
          0.7084218859672546,
          0.662509560585022,
          0.6139606833457947,
          0.5629679560661316,
          0.5097351670265198,
          0.4544737935066223,
          0.3974032998085022,
          0.3387516438961029,
          0.27875185012817383,
          0.21764224767684937,
          0.15566694736480713,
          0.09307212382555008,
          0.030106425285339355,
          -0.032978612929582596,
          -0.09593240916728973,
          -0.1585048884153366,
          -0.22044561803340912,
          -0.28150996565818787,
          -0.3414539694786072,
          -0.4000381827354431,
          -0.4570311903953552,
          -0.5122053623199463,
          -0.5653402209281921,
          -0.6162260174751282,
          -0.664659321308136,
          -0.7104467749595642,
          -0.7534074783325195,
          -0.7933698296546936,
          -0.8301742076873779,
          -0.8636751770973206,
          -0.8937389850616455,
          -0.9202454686164856,
          -0.94309002161026,
          -0.9621812105178833,
          -0.9774429798126221,
          -0.9888150095939636,
          -0.9962517023086548,
          -0.9997235536575317
         ]
        }
       ],
       "layout": {
        "autosize": false,
        "height": 900,
        "template": {
         "data": {
          "bar": [
           {
            "error_x": {
             "color": "#2a3f5f"
            },
            "error_y": {
             "color": "#2a3f5f"
            },
            "marker": {
             "line": {
              "color": "#E5ECF6",
              "width": 0.5
             },
             "pattern": {
              "fillmode": "overlay",
              "size": 10,
              "solidity": 0.2
             }
            },
            "type": "bar"
           }
          ],
          "barpolar": [
           {
            "marker": {
             "line": {
              "color": "#E5ECF6",
              "width": 0.5
             },
             "pattern": {
              "fillmode": "overlay",
              "size": 10,
              "solidity": 0.2
             }
            },
            "type": "barpolar"
           }
          ],
          "carpet": [
           {
            "aaxis": {
             "endlinecolor": "#2a3f5f",
             "gridcolor": "white",
             "linecolor": "white",
             "minorgridcolor": "white",
             "startlinecolor": "#2a3f5f"
            },
            "baxis": {
             "endlinecolor": "#2a3f5f",
             "gridcolor": "white",
             "linecolor": "white",
             "minorgridcolor": "white",
             "startlinecolor": "#2a3f5f"
            },
            "type": "carpet"
           }
          ],
          "choropleth": [
           {
            "colorbar": {
             "outlinewidth": 0,
             "ticks": ""
            },
            "type": "choropleth"
           }
          ],
          "contour": [
           {
            "colorbar": {
             "outlinewidth": 0,
             "ticks": ""
            },
            "colorscale": [
             [
              0,
              "#0d0887"
             ],
             [
              0.1111111111111111,
              "#46039f"
             ],
             [
              0.2222222222222222,
              "#7201a8"
             ],
             [
              0.3333333333333333,
              "#9c179e"
             ],
             [
              0.4444444444444444,
              "#bd3786"
             ],
             [
              0.5555555555555556,
              "#d8576b"
             ],
             [
              0.6666666666666666,
              "#ed7953"
             ],
             [
              0.7777777777777778,
              "#fb9f3a"
             ],
             [
              0.8888888888888888,
              "#fdca26"
             ],
             [
              1,
              "#f0f921"
             ]
            ],
            "type": "contour"
           }
          ],
          "contourcarpet": [
           {
            "colorbar": {
             "outlinewidth": 0,
             "ticks": ""
            },
            "type": "contourcarpet"
           }
          ],
          "heatmap": [
           {
            "colorbar": {
             "outlinewidth": 0,
             "ticks": ""
            },
            "colorscale": [
             [
              0,
              "#0d0887"
             ],
             [
              0.1111111111111111,
              "#46039f"
             ],
             [
              0.2222222222222222,
              "#7201a8"
             ],
             [
              0.3333333333333333,
              "#9c179e"
             ],
             [
              0.4444444444444444,
              "#bd3786"
             ],
             [
              0.5555555555555556,
              "#d8576b"
             ],
             [
              0.6666666666666666,
              "#ed7953"
             ],
             [
              0.7777777777777778,
              "#fb9f3a"
             ],
             [
              0.8888888888888888,
              "#fdca26"
             ],
             [
              1,
              "#f0f921"
             ]
            ],
            "type": "heatmap"
           }
          ],
          "heatmapgl": [
           {
            "colorbar": {
             "outlinewidth": 0,
             "ticks": ""
            },
            "colorscale": [
             [
              0,
              "#0d0887"
             ],
             [
              0.1111111111111111,
              "#46039f"
             ],
             [
              0.2222222222222222,
              "#7201a8"
             ],
             [
              0.3333333333333333,
              "#9c179e"
             ],
             [
              0.4444444444444444,
              "#bd3786"
             ],
             [
              0.5555555555555556,
              "#d8576b"
             ],
             [
              0.6666666666666666,
              "#ed7953"
             ],
             [
              0.7777777777777778,
              "#fb9f3a"
             ],
             [
              0.8888888888888888,
              "#fdca26"
             ],
             [
              1,
              "#f0f921"
             ]
            ],
            "type": "heatmapgl"
           }
          ],
          "histogram": [
           {
            "marker": {
             "pattern": {
              "fillmode": "overlay",
              "size": 10,
              "solidity": 0.2
             }
            },
            "type": "histogram"
           }
          ],
          "histogram2d": [
           {
            "colorbar": {
             "outlinewidth": 0,
             "ticks": ""
            },
            "colorscale": [
             [
              0,
              "#0d0887"
             ],
             [
              0.1111111111111111,
              "#46039f"
             ],
             [
              0.2222222222222222,
              "#7201a8"
             ],
             [
              0.3333333333333333,
              "#9c179e"
             ],
             [
              0.4444444444444444,
              "#bd3786"
             ],
             [
              0.5555555555555556,
              "#d8576b"
             ],
             [
              0.6666666666666666,
              "#ed7953"
             ],
             [
              0.7777777777777778,
              "#fb9f3a"
             ],
             [
              0.8888888888888888,
              "#fdca26"
             ],
             [
              1,
              "#f0f921"
             ]
            ],
            "type": "histogram2d"
           }
          ],
          "histogram2dcontour": [
           {
            "colorbar": {
             "outlinewidth": 0,
             "ticks": ""
            },
            "colorscale": [
             [
              0,
              "#0d0887"
             ],
             [
              0.1111111111111111,
              "#46039f"
             ],
             [
              0.2222222222222222,
              "#7201a8"
             ],
             [
              0.3333333333333333,
              "#9c179e"
             ],
             [
              0.4444444444444444,
              "#bd3786"
             ],
             [
              0.5555555555555556,
              "#d8576b"
             ],
             [
              0.6666666666666666,
              "#ed7953"
             ],
             [
              0.7777777777777778,
              "#fb9f3a"
             ],
             [
              0.8888888888888888,
              "#fdca26"
             ],
             [
              1,
              "#f0f921"
             ]
            ],
            "type": "histogram2dcontour"
           }
          ],
          "mesh3d": [
           {
            "colorbar": {
             "outlinewidth": 0,
             "ticks": ""
            },
            "type": "mesh3d"
           }
          ],
          "parcoords": [
           {
            "line": {
             "colorbar": {
              "outlinewidth": 0,
              "ticks": ""
             }
            },
            "type": "parcoords"
           }
          ],
          "pie": [
           {
            "automargin": true,
            "type": "pie"
           }
          ],
          "scatter": [
           {
            "fillpattern": {
             "fillmode": "overlay",
             "size": 10,
             "solidity": 0.2
            },
            "type": "scatter"
           }
          ],
          "scatter3d": [
           {
            "line": {
             "colorbar": {
              "outlinewidth": 0,
              "ticks": ""
             }
            },
            "marker": {
             "colorbar": {
              "outlinewidth": 0,
              "ticks": ""
             }
            },
            "type": "scatter3d"
           }
          ],
          "scattercarpet": [
           {
            "marker": {
             "colorbar": {
              "outlinewidth": 0,
              "ticks": ""
             }
            },
            "type": "scattercarpet"
           }
          ],
          "scattergeo": [
           {
            "marker": {
             "colorbar": {
              "outlinewidth": 0,
              "ticks": ""
             }
            },
            "type": "scattergeo"
           }
          ],
          "scattergl": [
           {
            "marker": {
             "colorbar": {
              "outlinewidth": 0,
              "ticks": ""
             }
            },
            "type": "scattergl"
           }
          ],
          "scattermapbox": [
           {
            "marker": {
             "colorbar": {
              "outlinewidth": 0,
              "ticks": ""
             }
            },
            "type": "scattermapbox"
           }
          ],
          "scatterpolar": [
           {
            "marker": {
             "colorbar": {
              "outlinewidth": 0,
              "ticks": ""
             }
            },
            "type": "scatterpolar"
           }
          ],
          "scatterpolargl": [
           {
            "marker": {
             "colorbar": {
              "outlinewidth": 0,
              "ticks": ""
             }
            },
            "type": "scatterpolargl"
           }
          ],
          "scatterternary": [
           {
            "marker": {
             "colorbar": {
              "outlinewidth": 0,
              "ticks": ""
             }
            },
            "type": "scatterternary"
           }
          ],
          "surface": [
           {
            "colorbar": {
             "outlinewidth": 0,
             "ticks": ""
            },
            "colorscale": [
             [
              0,
              "#0d0887"
             ],
             [
              0.1111111111111111,
              "#46039f"
             ],
             [
              0.2222222222222222,
              "#7201a8"
             ],
             [
              0.3333333333333333,
              "#9c179e"
             ],
             [
              0.4444444444444444,
              "#bd3786"
             ],
             [
              0.5555555555555556,
              "#d8576b"
             ],
             [
              0.6666666666666666,
              "#ed7953"
             ],
             [
              0.7777777777777778,
              "#fb9f3a"
             ],
             [
              0.8888888888888888,
              "#fdca26"
             ],
             [
              1,
              "#f0f921"
             ]
            ],
            "type": "surface"
           }
          ],
          "table": [
           {
            "cells": {
             "fill": {
              "color": "#EBF0F8"
             },
             "line": {
              "color": "white"
             }
            },
            "header": {
             "fill": {
              "color": "#C8D4E3"
             },
             "line": {
              "color": "white"
             }
            },
            "type": "table"
           }
          ]
         },
         "layout": {
          "annotationdefaults": {
           "arrowcolor": "#2a3f5f",
           "arrowhead": 0,
           "arrowwidth": 1
          },
          "autotypenumbers": "strict",
          "coloraxis": {
           "colorbar": {
            "outlinewidth": 0,
            "ticks": ""
           }
          },
          "colorscale": {
           "diverging": [
            [
             0,
             "#8e0152"
            ],
            [
             0.1,
             "#c51b7d"
            ],
            [
             0.2,
             "#de77ae"
            ],
            [
             0.3,
             "#f1b6da"
            ],
            [
             0.4,
             "#fde0ef"
            ],
            [
             0.5,
             "#f7f7f7"
            ],
            [
             0.6,
             "#e6f5d0"
            ],
            [
             0.7,
             "#b8e186"
            ],
            [
             0.8,
             "#7fbc41"
            ],
            [
             0.9,
             "#4d9221"
            ],
            [
             1,
             "#276419"
            ]
           ],
           "sequential": [
            [
             0,
             "#0d0887"
            ],
            [
             0.1111111111111111,
             "#46039f"
            ],
            [
             0.2222222222222222,
             "#7201a8"
            ],
            [
             0.3333333333333333,
             "#9c179e"
            ],
            [
             0.4444444444444444,
             "#bd3786"
            ],
            [
             0.5555555555555556,
             "#d8576b"
            ],
            [
             0.6666666666666666,
             "#ed7953"
            ],
            [
             0.7777777777777778,
             "#fb9f3a"
            ],
            [
             0.8888888888888888,
             "#fdca26"
            ],
            [
             1,
             "#f0f921"
            ]
           ],
           "sequentialminus": [
            [
             0,
             "#0d0887"
            ],
            [
             0.1111111111111111,
             "#46039f"
            ],
            [
             0.2222222222222222,
             "#7201a8"
            ],
            [
             0.3333333333333333,
             "#9c179e"
            ],
            [
             0.4444444444444444,
             "#bd3786"
            ],
            [
             0.5555555555555556,
             "#d8576b"
            ],
            [
             0.6666666666666666,
             "#ed7953"
            ],
            [
             0.7777777777777778,
             "#fb9f3a"
            ],
            [
             0.8888888888888888,
             "#fdca26"
            ],
            [
             1,
             "#f0f921"
            ]
           ]
          },
          "colorway": [
           "#636efa",
           "#EF553B",
           "#00cc96",
           "#ab63fa",
           "#FFA15A",
           "#19d3f3",
           "#FF6692",
           "#B6E880",
           "#FF97FF",
           "#FECB52"
          ],
          "font": {
           "color": "#2a3f5f"
          },
          "geo": {
           "bgcolor": "white",
           "lakecolor": "white",
           "landcolor": "#E5ECF6",
           "showlakes": true,
           "showland": true,
           "subunitcolor": "white"
          },
          "hoverlabel": {
           "align": "left"
          },
          "hovermode": "closest",
          "mapbox": {
           "style": "light"
          },
          "paper_bgcolor": "white",
          "plot_bgcolor": "#E5ECF6",
          "polar": {
           "angularaxis": {
            "gridcolor": "white",
            "linecolor": "white",
            "ticks": ""
           },
           "bgcolor": "#E5ECF6",
           "radialaxis": {
            "gridcolor": "white",
            "linecolor": "white",
            "ticks": ""
           }
          },
          "scene": {
           "xaxis": {
            "backgroundcolor": "#E5ECF6",
            "gridcolor": "white",
            "gridwidth": 2,
            "linecolor": "white",
            "showbackground": true,
            "ticks": "",
            "zerolinecolor": "white"
           },
           "yaxis": {
            "backgroundcolor": "#E5ECF6",
            "gridcolor": "white",
            "gridwidth": 2,
            "linecolor": "white",
            "showbackground": true,
            "ticks": "",
            "zerolinecolor": "white"
           },
           "zaxis": {
            "backgroundcolor": "#E5ECF6",
            "gridcolor": "white",
            "gridwidth": 2,
            "linecolor": "white",
            "showbackground": true,
            "ticks": "",
            "zerolinecolor": "white"
           }
          },
          "shapedefaults": {
           "line": {
            "color": "#2a3f5f"
           }
          },
          "ternary": {
           "aaxis": {
            "gridcolor": "white",
            "linecolor": "white",
            "ticks": ""
           },
           "baxis": {
            "gridcolor": "white",
            "linecolor": "white",
            "ticks": ""
           },
           "bgcolor": "#E5ECF6",
           "caxis": {
            "gridcolor": "white",
            "linecolor": "white",
            "ticks": ""
           }
          },
          "title": {
           "x": 0.05
          },
          "xaxis": {
           "automargin": true,
           "gridcolor": "white",
           "linecolor": "white",
           "ticks": "",
           "title": {
            "standoff": 15
           },
           "zerolinecolor": "white",
           "zerolinewidth": 2
          },
          "yaxis": {
           "automargin": true,
           "gridcolor": "white",
           "linecolor": "white",
           "ticks": "",
           "title": {
            "standoff": 15
           },
           "zerolinecolor": "white",
           "zerolinewidth": 2
          }
         }
        },
        "width": 1400
       }
      }
     },
     "metadata": {},
     "output_type": "display_data"
    }
   ],
   "source": [
    "fig = go.Figure()\n",
    "f,t = 4,8\n",
    "for num, key_ in enumerate(list(Word_i_SinCos.keys())[f:t]):\n",
    "    # Adding Text\n",
    "    text_ = [f\"{key_}Po{position}\" for position in range(0,len(SinCosPosEncOutput.columns),2)]\n",
    "\n",
    "    # Multiplot Scattter3D\n",
    "    fig.add_scatter3d(x = Word_i_SinCos[key_]['x'],y = Word_i_SinCos[key_]['y'],z = Word_i_SinCos[key_]['z'], text=text_ ,mode='lines+text',name = f\"Dimension {num}\")\n",
    "\n",
    "fig.update_layout(autosize=False,width=1400,height=900,)\n",
    "fig.show()"
   ]
  },
  {
   "cell_type": "markdown",
   "metadata": {},
   "source": [
    "##### 3D Plotting Using Our Embedding Output"
   ]
  },
  {
   "cell_type": "code",
   "execution_count": 128,
   "metadata": {},
   "outputs": [
    {
     "data": {
      "text/html": [
       "<div>\n",
       "<style scoped>\n",
       "    .dataframe tbody tr th:only-of-type {\n",
       "        vertical-align: middle;\n",
       "    }\n",
       "\n",
       "    .dataframe tbody tr th {\n",
       "        vertical-align: top;\n",
       "    }\n",
       "\n",
       "    .dataframe thead th {\n",
       "        text-align: right;\n",
       "    }\n",
       "</style>\n",
       "<table border=\"1\" class=\"dataframe\">\n",
       "  <thead>\n",
       "    <tr style=\"text-align: right;\">\n",
       "      <th></th>\n",
       "      <th>Hello</th>\n",
       "      <th>this</th>\n",
       "      <th>is</th>\n",
       "      <th>Marvin</th>\n",
       "      <th>&lt;pad&gt;</th>\n",
       "      <th>&lt;pad&gt;</th>\n",
       "      <th>explaining</th>\n",
       "      <th>attention</th>\n",
       "      <th>is</th>\n",
       "      <th>all</th>\n",
       "      <th>you</th>\n",
       "      <th>need</th>\n",
       "    </tr>\n",
       "  </thead>\n",
       "  <tbody>\n",
       "    <tr>\n",
       "      <th>Dim_1</th>\n",
       "      <td>1.440728</td>\n",
       "      <td>1.383382</td>\n",
       "      <td>1.326216</td>\n",
       "      <td>0.488814</td>\n",
       "      <td>-1.576802</td>\n",
       "      <td>-1.778924</td>\n",
       "      <td>1.866949</td>\n",
       "      <td>-0.732002</td>\n",
       "      <td>1.326216</td>\n",
       "      <td>-1.503743</td>\n",
       "      <td>0.510343</td>\n",
       "      <td>-2.673751</td>\n",
       "    </tr>\n",
       "    <tr>\n",
       "      <th>Dim_2</th>\n",
       "      <td>3.973674</td>\n",
       "      <td>-2.448056</td>\n",
       "      <td>-1.422869</td>\n",
       "      <td>-0.541337</td>\n",
       "      <td>-3.581009</td>\n",
       "      <td>-2.643703</td>\n",
       "      <td>-0.135921</td>\n",
       "      <td>1.955835</td>\n",
       "      <td>-1.422869</td>\n",
       "      <td>-1.686437</td>\n",
       "      <td>-1.138418</td>\n",
       "      <td>-5.498075</td>\n",
       "    </tr>\n",
       "    <tr>\n",
       "      <th>Dim_3</th>\n",
       "      <td>-1.430465</td>\n",
       "      <td>0.938725</td>\n",
       "      <td>-1.204520</td>\n",
       "      <td>-1.038527</td>\n",
       "      <td>-1.898675</td>\n",
       "      <td>-1.888685</td>\n",
       "      <td>0.918973</td>\n",
       "      <td>-0.267066</td>\n",
       "      <td>-1.204520</td>\n",
       "      <td>-1.054601</td>\n",
       "      <td>-3.723803</td>\n",
       "      <td>-1.320194</td>\n",
       "    </tr>\n",
       "    <tr>\n",
       "      <th>Dim_4</th>\n",
       "      <td>1.848117</td>\n",
       "      <td>1.479626</td>\n",
       "      <td>3.232892</td>\n",
       "      <td>2.702341</td>\n",
       "      <td>2.093474</td>\n",
       "      <td>2.093024</td>\n",
       "      <td>1.535263</td>\n",
       "      <td>0.899220</td>\n",
       "      <td>3.232892</td>\n",
       "      <td>-2.644461</td>\n",
       "      <td>2.213198</td>\n",
       "      <td>-0.991135</td>\n",
       "    </tr>\n",
       "  </tbody>\n",
       "</table>\n",
       "</div>"
      ],
      "text/plain": [
       "          Hello      this        is    Marvin     <pad>     <pad>  explaining  \\\n",
       "Dim_1  1.440728  1.383382  1.326216  0.488814 -1.576802 -1.778924    1.866949   \n",
       "Dim_2  3.973674 -2.448056 -1.422869 -0.541337 -3.581009 -2.643703   -0.135921   \n",
       "Dim_3 -1.430465  0.938725 -1.204520 -1.038527 -1.898675 -1.888685    0.918973   \n",
       "Dim_4  1.848117  1.479626  3.232892  2.702341  2.093474  2.093024    1.535263   \n",
       "\n",
       "       attention        is       all       you      need  \n",
       "Dim_1  -0.732002  1.326216 -1.503743  0.510343 -2.673751  \n",
       "Dim_2   1.955835 -1.422869 -1.686437 -1.138418 -5.498075  \n",
       "Dim_3  -0.267066 -1.204520 -1.054601 -3.723803 -1.320194  \n",
       "Dim_4   0.899220  3.232892 -2.644461  2.213198 -0.991135  "
      ]
     },
     "execution_count": 128,
     "metadata": {},
     "output_type": "execute_result"
    }
   ],
   "source": [
    "# Plotting  \n",
    "PositionEncoderOutput = pd.DataFrame(index = INDEX,data = OutPosEnc.view(12,4).detach().numpy(), columns = COLS).T\n",
    "PositionEncoderOutput"
   ]
  },
  {
   "cell_type": "code",
   "execution_count": 129,
   "metadata": {},
   "outputs": [],
   "source": [
    "# Creating Coor for 3D Graphics\n",
    "Word_i_our_embedding = {f\"W_{key}\":{'x':[],'y':[] ,'z':[]} for _, key in enumerate(PositionEncoderOutput.index)}\n",
    "pad_ = 0\n",
    "for index_, key_ in enumerate(Word_i_our_embedding.keys()):\n",
    "    for position_ in range(len(PositionEncoderOutput.columns)):\n",
    "        Word_i_our_embedding[key_]['z'].append(PositionEncoderOutput.iloc[index_,position_])\n",
    "        Word_i_our_embedding[key_]['x'].append(position_)\n",
    "        Word_i_our_embedding[key_]['y'].append(index_)"
   ]
  },
  {
   "cell_type": "code",
   "execution_count": 130,
   "metadata": {},
   "outputs": [
    {
     "data": {
      "application/vnd.plotly.v1+json": {
       "config": {
        "plotlyServerURL": "https://plot.ly"
       },
       "data": [
        {
         "mode": "lines+text",
         "name": "Dimension 0",
         "text": [
          "Hello_Po0",
          "this_Po1",
          "is_Po2",
          "Marvin_Po3",
          "<pad>_Po4",
          "<pad>_Po5",
          "explaining_Po6",
          "attention_Po7",
          "is_Po8",
          "all_Po9",
          "you_Po10",
          "need_Po11"
         ],
         "type": "scatter3d",
         "x": [
          0,
          1,
          2,
          3,
          4,
          5,
          6,
          7,
          8,
          9,
          10,
          11
         ],
         "y": [
          0,
          0,
          0,
          0,
          0,
          0,
          0,
          0,
          0,
          0,
          0,
          0
         ],
         "z": [
          1.4407278299331665,
          1.3833816051483154,
          1.326216220855713,
          0.48881393671035767,
          -1.5768016576766968,
          -1.778923511505127,
          1.8669486045837402,
          -0.732001781463623,
          1.326216220855713,
          -1.5037429332733154,
          0.510342538356781,
          -2.67375111579895
         ]
        },
        {
         "mode": "lines+text",
         "name": "Dimension 1",
         "text": [
          "Hello_Po0",
          "this_Po1",
          "is_Po2",
          "Marvin_Po3",
          "<pad>_Po4",
          "<pad>_Po5",
          "explaining_Po6",
          "attention_Po7",
          "is_Po8",
          "all_Po9",
          "you_Po10",
          "need_Po11"
         ],
         "type": "scatter3d",
         "x": [
          0,
          1,
          2,
          3,
          4,
          5,
          6,
          7,
          8,
          9,
          10,
          11
         ],
         "y": [
          1,
          1,
          1,
          1,
          1,
          1,
          1,
          1,
          1,
          1,
          1,
          1
         ],
         "z": [
          3.9736740589141846,
          -2.448056221008301,
          -1.4228686094284058,
          -0.5413365960121155,
          -3.5810093879699707,
          -2.6437034606933594,
          -0.13592088222503662,
          1.9558353424072266,
          -1.4228686094284058,
          -1.686436653137207,
          -1.1384177207946777,
          -5.498075485229492
         ]
        },
        {
         "mode": "lines+text",
         "name": "Dimension 2",
         "text": [
          "Hello_Po0",
          "this_Po1",
          "is_Po2",
          "Marvin_Po3",
          "<pad>_Po4",
          "<pad>_Po5",
          "explaining_Po6",
          "attention_Po7",
          "is_Po8",
          "all_Po9",
          "you_Po10",
          "need_Po11"
         ],
         "type": "scatter3d",
         "x": [
          0,
          1,
          2,
          3,
          4,
          5,
          6,
          7,
          8,
          9,
          10,
          11
         ],
         "y": [
          2,
          2,
          2,
          2,
          2,
          2,
          2,
          2,
          2,
          2,
          2,
          2
         ],
         "z": [
          -1.4304646253585815,
          0.9387245178222656,
          -1.2045197486877441,
          -1.038527250289917,
          -1.8986749649047852,
          -1.8886851072311401,
          0.9189730286598206,
          -0.26706647872924805,
          -1.2045197486877441,
          -1.054600715637207,
          -3.7238028049468994,
          -1.3201935291290283
         ]
        },
        {
         "mode": "lines+text",
         "name": "Dimension 3",
         "text": [
          "Hello_Po0",
          "this_Po1",
          "is_Po2",
          "Marvin_Po3",
          "<pad>_Po4",
          "<pad>_Po5",
          "explaining_Po6",
          "attention_Po7",
          "is_Po8",
          "all_Po9",
          "you_Po10",
          "need_Po11"
         ],
         "type": "scatter3d",
         "x": [
          0,
          1,
          2,
          3,
          4,
          5,
          6,
          7,
          8,
          9,
          10,
          11
         ],
         "y": [
          3,
          3,
          3,
          3,
          3,
          3,
          3,
          3,
          3,
          3,
          3,
          3
         ],
         "z": [
          1.8481171131134033,
          1.4796257019042969,
          3.232891798019409,
          2.702340841293335,
          2.0934739112854004,
          2.093024253845215,
          1.5352627038955688,
          0.8992195725440979,
          3.232891798019409,
          -2.644461154937744,
          2.21319842338562,
          -0.99113529920578
         ]
        }
       ],
       "layout": {
        "autosize": false,
        "height": 900,
        "template": {
         "data": {
          "bar": [
           {
            "error_x": {
             "color": "#2a3f5f"
            },
            "error_y": {
             "color": "#2a3f5f"
            },
            "marker": {
             "line": {
              "color": "#E5ECF6",
              "width": 0.5
             },
             "pattern": {
              "fillmode": "overlay",
              "size": 10,
              "solidity": 0.2
             }
            },
            "type": "bar"
           }
          ],
          "barpolar": [
           {
            "marker": {
             "line": {
              "color": "#E5ECF6",
              "width": 0.5
             },
             "pattern": {
              "fillmode": "overlay",
              "size": 10,
              "solidity": 0.2
             }
            },
            "type": "barpolar"
           }
          ],
          "carpet": [
           {
            "aaxis": {
             "endlinecolor": "#2a3f5f",
             "gridcolor": "white",
             "linecolor": "white",
             "minorgridcolor": "white",
             "startlinecolor": "#2a3f5f"
            },
            "baxis": {
             "endlinecolor": "#2a3f5f",
             "gridcolor": "white",
             "linecolor": "white",
             "minorgridcolor": "white",
             "startlinecolor": "#2a3f5f"
            },
            "type": "carpet"
           }
          ],
          "choropleth": [
           {
            "colorbar": {
             "outlinewidth": 0,
             "ticks": ""
            },
            "type": "choropleth"
           }
          ],
          "contour": [
           {
            "colorbar": {
             "outlinewidth": 0,
             "ticks": ""
            },
            "colorscale": [
             [
              0,
              "#0d0887"
             ],
             [
              0.1111111111111111,
              "#46039f"
             ],
             [
              0.2222222222222222,
              "#7201a8"
             ],
             [
              0.3333333333333333,
              "#9c179e"
             ],
             [
              0.4444444444444444,
              "#bd3786"
             ],
             [
              0.5555555555555556,
              "#d8576b"
             ],
             [
              0.6666666666666666,
              "#ed7953"
             ],
             [
              0.7777777777777778,
              "#fb9f3a"
             ],
             [
              0.8888888888888888,
              "#fdca26"
             ],
             [
              1,
              "#f0f921"
             ]
            ],
            "type": "contour"
           }
          ],
          "contourcarpet": [
           {
            "colorbar": {
             "outlinewidth": 0,
             "ticks": ""
            },
            "type": "contourcarpet"
           }
          ],
          "heatmap": [
           {
            "colorbar": {
             "outlinewidth": 0,
             "ticks": ""
            },
            "colorscale": [
             [
              0,
              "#0d0887"
             ],
             [
              0.1111111111111111,
              "#46039f"
             ],
             [
              0.2222222222222222,
              "#7201a8"
             ],
             [
              0.3333333333333333,
              "#9c179e"
             ],
             [
              0.4444444444444444,
              "#bd3786"
             ],
             [
              0.5555555555555556,
              "#d8576b"
             ],
             [
              0.6666666666666666,
              "#ed7953"
             ],
             [
              0.7777777777777778,
              "#fb9f3a"
             ],
             [
              0.8888888888888888,
              "#fdca26"
             ],
             [
              1,
              "#f0f921"
             ]
            ],
            "type": "heatmap"
           }
          ],
          "heatmapgl": [
           {
            "colorbar": {
             "outlinewidth": 0,
             "ticks": ""
            },
            "colorscale": [
             [
              0,
              "#0d0887"
             ],
             [
              0.1111111111111111,
              "#46039f"
             ],
             [
              0.2222222222222222,
              "#7201a8"
             ],
             [
              0.3333333333333333,
              "#9c179e"
             ],
             [
              0.4444444444444444,
              "#bd3786"
             ],
             [
              0.5555555555555556,
              "#d8576b"
             ],
             [
              0.6666666666666666,
              "#ed7953"
             ],
             [
              0.7777777777777778,
              "#fb9f3a"
             ],
             [
              0.8888888888888888,
              "#fdca26"
             ],
             [
              1,
              "#f0f921"
             ]
            ],
            "type": "heatmapgl"
           }
          ],
          "histogram": [
           {
            "marker": {
             "pattern": {
              "fillmode": "overlay",
              "size": 10,
              "solidity": 0.2
             }
            },
            "type": "histogram"
           }
          ],
          "histogram2d": [
           {
            "colorbar": {
             "outlinewidth": 0,
             "ticks": ""
            },
            "colorscale": [
             [
              0,
              "#0d0887"
             ],
             [
              0.1111111111111111,
              "#46039f"
             ],
             [
              0.2222222222222222,
              "#7201a8"
             ],
             [
              0.3333333333333333,
              "#9c179e"
             ],
             [
              0.4444444444444444,
              "#bd3786"
             ],
             [
              0.5555555555555556,
              "#d8576b"
             ],
             [
              0.6666666666666666,
              "#ed7953"
             ],
             [
              0.7777777777777778,
              "#fb9f3a"
             ],
             [
              0.8888888888888888,
              "#fdca26"
             ],
             [
              1,
              "#f0f921"
             ]
            ],
            "type": "histogram2d"
           }
          ],
          "histogram2dcontour": [
           {
            "colorbar": {
             "outlinewidth": 0,
             "ticks": ""
            },
            "colorscale": [
             [
              0,
              "#0d0887"
             ],
             [
              0.1111111111111111,
              "#46039f"
             ],
             [
              0.2222222222222222,
              "#7201a8"
             ],
             [
              0.3333333333333333,
              "#9c179e"
             ],
             [
              0.4444444444444444,
              "#bd3786"
             ],
             [
              0.5555555555555556,
              "#d8576b"
             ],
             [
              0.6666666666666666,
              "#ed7953"
             ],
             [
              0.7777777777777778,
              "#fb9f3a"
             ],
             [
              0.8888888888888888,
              "#fdca26"
             ],
             [
              1,
              "#f0f921"
             ]
            ],
            "type": "histogram2dcontour"
           }
          ],
          "mesh3d": [
           {
            "colorbar": {
             "outlinewidth": 0,
             "ticks": ""
            },
            "type": "mesh3d"
           }
          ],
          "parcoords": [
           {
            "line": {
             "colorbar": {
              "outlinewidth": 0,
              "ticks": ""
             }
            },
            "type": "parcoords"
           }
          ],
          "pie": [
           {
            "automargin": true,
            "type": "pie"
           }
          ],
          "scatter": [
           {
            "fillpattern": {
             "fillmode": "overlay",
             "size": 10,
             "solidity": 0.2
            },
            "type": "scatter"
           }
          ],
          "scatter3d": [
           {
            "line": {
             "colorbar": {
              "outlinewidth": 0,
              "ticks": ""
             }
            },
            "marker": {
             "colorbar": {
              "outlinewidth": 0,
              "ticks": ""
             }
            },
            "type": "scatter3d"
           }
          ],
          "scattercarpet": [
           {
            "marker": {
             "colorbar": {
              "outlinewidth": 0,
              "ticks": ""
             }
            },
            "type": "scattercarpet"
           }
          ],
          "scattergeo": [
           {
            "marker": {
             "colorbar": {
              "outlinewidth": 0,
              "ticks": ""
             }
            },
            "type": "scattergeo"
           }
          ],
          "scattergl": [
           {
            "marker": {
             "colorbar": {
              "outlinewidth": 0,
              "ticks": ""
             }
            },
            "type": "scattergl"
           }
          ],
          "scattermapbox": [
           {
            "marker": {
             "colorbar": {
              "outlinewidth": 0,
              "ticks": ""
             }
            },
            "type": "scattermapbox"
           }
          ],
          "scatterpolar": [
           {
            "marker": {
             "colorbar": {
              "outlinewidth": 0,
              "ticks": ""
             }
            },
            "type": "scatterpolar"
           }
          ],
          "scatterpolargl": [
           {
            "marker": {
             "colorbar": {
              "outlinewidth": 0,
              "ticks": ""
             }
            },
            "type": "scatterpolargl"
           }
          ],
          "scatterternary": [
           {
            "marker": {
             "colorbar": {
              "outlinewidth": 0,
              "ticks": ""
             }
            },
            "type": "scatterternary"
           }
          ],
          "surface": [
           {
            "colorbar": {
             "outlinewidth": 0,
             "ticks": ""
            },
            "colorscale": [
             [
              0,
              "#0d0887"
             ],
             [
              0.1111111111111111,
              "#46039f"
             ],
             [
              0.2222222222222222,
              "#7201a8"
             ],
             [
              0.3333333333333333,
              "#9c179e"
             ],
             [
              0.4444444444444444,
              "#bd3786"
             ],
             [
              0.5555555555555556,
              "#d8576b"
             ],
             [
              0.6666666666666666,
              "#ed7953"
             ],
             [
              0.7777777777777778,
              "#fb9f3a"
             ],
             [
              0.8888888888888888,
              "#fdca26"
             ],
             [
              1,
              "#f0f921"
             ]
            ],
            "type": "surface"
           }
          ],
          "table": [
           {
            "cells": {
             "fill": {
              "color": "#EBF0F8"
             },
             "line": {
              "color": "white"
             }
            },
            "header": {
             "fill": {
              "color": "#C8D4E3"
             },
             "line": {
              "color": "white"
             }
            },
            "type": "table"
           }
          ]
         },
         "layout": {
          "annotationdefaults": {
           "arrowcolor": "#2a3f5f",
           "arrowhead": 0,
           "arrowwidth": 1
          },
          "autotypenumbers": "strict",
          "coloraxis": {
           "colorbar": {
            "outlinewidth": 0,
            "ticks": ""
           }
          },
          "colorscale": {
           "diverging": [
            [
             0,
             "#8e0152"
            ],
            [
             0.1,
             "#c51b7d"
            ],
            [
             0.2,
             "#de77ae"
            ],
            [
             0.3,
             "#f1b6da"
            ],
            [
             0.4,
             "#fde0ef"
            ],
            [
             0.5,
             "#f7f7f7"
            ],
            [
             0.6,
             "#e6f5d0"
            ],
            [
             0.7,
             "#b8e186"
            ],
            [
             0.8,
             "#7fbc41"
            ],
            [
             0.9,
             "#4d9221"
            ],
            [
             1,
             "#276419"
            ]
           ],
           "sequential": [
            [
             0,
             "#0d0887"
            ],
            [
             0.1111111111111111,
             "#46039f"
            ],
            [
             0.2222222222222222,
             "#7201a8"
            ],
            [
             0.3333333333333333,
             "#9c179e"
            ],
            [
             0.4444444444444444,
             "#bd3786"
            ],
            [
             0.5555555555555556,
             "#d8576b"
            ],
            [
             0.6666666666666666,
             "#ed7953"
            ],
            [
             0.7777777777777778,
             "#fb9f3a"
            ],
            [
             0.8888888888888888,
             "#fdca26"
            ],
            [
             1,
             "#f0f921"
            ]
           ],
           "sequentialminus": [
            [
             0,
             "#0d0887"
            ],
            [
             0.1111111111111111,
             "#46039f"
            ],
            [
             0.2222222222222222,
             "#7201a8"
            ],
            [
             0.3333333333333333,
             "#9c179e"
            ],
            [
             0.4444444444444444,
             "#bd3786"
            ],
            [
             0.5555555555555556,
             "#d8576b"
            ],
            [
             0.6666666666666666,
             "#ed7953"
            ],
            [
             0.7777777777777778,
             "#fb9f3a"
            ],
            [
             0.8888888888888888,
             "#fdca26"
            ],
            [
             1,
             "#f0f921"
            ]
           ]
          },
          "colorway": [
           "#636efa",
           "#EF553B",
           "#00cc96",
           "#ab63fa",
           "#FFA15A",
           "#19d3f3",
           "#FF6692",
           "#B6E880",
           "#FF97FF",
           "#FECB52"
          ],
          "font": {
           "color": "#2a3f5f"
          },
          "geo": {
           "bgcolor": "white",
           "lakecolor": "white",
           "landcolor": "#E5ECF6",
           "showlakes": true,
           "showland": true,
           "subunitcolor": "white"
          },
          "hoverlabel": {
           "align": "left"
          },
          "hovermode": "closest",
          "mapbox": {
           "style": "light"
          },
          "paper_bgcolor": "white",
          "plot_bgcolor": "#E5ECF6",
          "polar": {
           "angularaxis": {
            "gridcolor": "white",
            "linecolor": "white",
            "ticks": ""
           },
           "bgcolor": "#E5ECF6",
           "radialaxis": {
            "gridcolor": "white",
            "linecolor": "white",
            "ticks": ""
           }
          },
          "scene": {
           "xaxis": {
            "backgroundcolor": "#E5ECF6",
            "gridcolor": "white",
            "gridwidth": 2,
            "linecolor": "white",
            "showbackground": true,
            "ticks": "",
            "zerolinecolor": "white"
           },
           "yaxis": {
            "backgroundcolor": "#E5ECF6",
            "gridcolor": "white",
            "gridwidth": 2,
            "linecolor": "white",
            "showbackground": true,
            "ticks": "",
            "zerolinecolor": "white"
           },
           "zaxis": {
            "backgroundcolor": "#E5ECF6",
            "gridcolor": "white",
            "gridwidth": 2,
            "linecolor": "white",
            "showbackground": true,
            "ticks": "",
            "zerolinecolor": "white"
           }
          },
          "shapedefaults": {
           "line": {
            "color": "#2a3f5f"
           }
          },
          "ternary": {
           "aaxis": {
            "gridcolor": "white",
            "linecolor": "white",
            "ticks": ""
           },
           "baxis": {
            "gridcolor": "white",
            "linecolor": "white",
            "ticks": ""
           },
           "bgcolor": "#E5ECF6",
           "caxis": {
            "gridcolor": "white",
            "linecolor": "white",
            "ticks": ""
           }
          },
          "title": {
           "x": 0.05
          },
          "xaxis": {
           "automargin": true,
           "gridcolor": "white",
           "linecolor": "white",
           "ticks": "",
           "title": {
            "standoff": 15
           },
           "zerolinecolor": "white",
           "zerolinewidth": 2
          },
          "yaxis": {
           "automargin": true,
           "gridcolor": "white",
           "linecolor": "white",
           "ticks": "",
           "title": {
            "standoff": 15
           },
           "zerolinecolor": "white",
           "zerolinewidth": 2
          }
         }
        },
        "width": 1400
       }
      }
     },
     "metadata": {},
     "output_type": "display_data"
    }
   ],
   "source": [
    "fig = go.Figure()\n",
    "for num, key_ in enumerate(list(Word_i.keys())):\n",
    "    # Adding Text\n",
    "    text_ = [f\"{INDEX[position]}_Po{position}\" for position in range(0,len(PositionEncoderOutput.columns))]\n",
    "\n",
    "    # Multiplot Scattter3D\n",
    "    fig.add_scatter3d(x = Word_i_our_embedding[key_]['x'],y = Word_i_our_embedding[key_]['y'],z = Word_i_our_embedding[key_]['z'], text=text_ ,mode='lines+text',name = f\"Dimension {num}\")\n",
    "\n",
    "fig.update_layout(autosize=False,width=1400,height=900,)\n",
    "fig.show()"
   ]
  },
  {
   "cell_type": "markdown",
   "metadata": {},
   "source": [
    "#### $Wave\\ Into\\ circumference$ \n",
    "- In my limited Understanding the wave are supposed to be displayed in the circumferences and each position the value of a word segmented in N position, think of it like a cluster where each point is a differente representation of the same word but they are the same "
   ]
  },
  {
   "cell_type": "code",
   "execution_count": 131,
   "metadata": {},
   "outputs": [],
   "source": [
    "# Trying to project wave into the Circle \n",
    "def finding_r (abj_, opos_):\n",
    "    r_ =  np.sqrt(abj_**2 + opos_**2)\n",
    "    teta_ = float(opos_)/float(abj_)\n",
    "    teta_ = np.arctan(teta_) * 180/math.pi\n",
    "    return r_*np.cos(teta_), r_*np.sin(teta_)"
   ]
  },
  {
   "cell_type": "markdown",
   "metadata": {},
   "source": [
    "![Sin Cos Wave](https://upload.wikimedia.org/wikipedia/commons/b/bd/Sine_and_cosine_animation.gif)"
   ]
  },
  {
   "cell_type": "markdown",
   "metadata": {},
   "source": [
    "##### 3D Plotting Sin Cos Circumference (Our Own Embedding)"
   ]
  },
  {
   "cell_type": "code",
   "execution_count": 132,
   "metadata": {},
   "outputs": [
    {
     "data": {
      "application/vnd.plotly.v1+json": {
       "config": {
        "plotlyServerURL": "https://plot.ly"
       },
       "data": [
        {
         "mode": "markers+text",
         "name": "Hello",
         "text": [
          "Hello_po_1",
          "Hello_po_2",
          "Hello_po_3",
          "Hello_po_4"
         ],
         "type": "scatter3d",
         "x": [
          1,
          1,
          1,
          1
         ],
         "y": [
          0.4472316957499845,
          3.6415897485806776,
          0.11467153823413541,
          0.6640171570360742
         ],
         "z": [
          -1.6957831495390336,
          1.878539227570095,
          1.7415738522156572,
          -1.9936444213912246
         ]
        },
        {
         "mode": "markers+text",
         "name": "this",
         "text": [
          "this_po_1",
          "this_po_2",
          "this_po_3",
          "this_po_4"
         ],
         "type": "scatter3d",
         "x": [
          2,
          2,
          2,
          2
         ],
         "y": [
          -1.2708223194168322,
          0.6192434808536793,
          0.9628467916234272,
          1.472592345687377
         ],
         "z": [
          -1.139629456417634,
          2.570898047888648,
          -0.9767956675892444,
          -1.010328659970968
         ]
        }
       ],
       "layout": {
        "autosize": false,
        "height": 900,
        "template": {
         "data": {
          "bar": [
           {
            "error_x": {
             "color": "#2a3f5f"
            },
            "error_y": {
             "color": "#2a3f5f"
            },
            "marker": {
             "line": {
              "color": "#E5ECF6",
              "width": 0.5
             },
             "pattern": {
              "fillmode": "overlay",
              "size": 10,
              "solidity": 0.2
             }
            },
            "type": "bar"
           }
          ],
          "barpolar": [
           {
            "marker": {
             "line": {
              "color": "#E5ECF6",
              "width": 0.5
             },
             "pattern": {
              "fillmode": "overlay",
              "size": 10,
              "solidity": 0.2
             }
            },
            "type": "barpolar"
           }
          ],
          "carpet": [
           {
            "aaxis": {
             "endlinecolor": "#2a3f5f",
             "gridcolor": "white",
             "linecolor": "white",
             "minorgridcolor": "white",
             "startlinecolor": "#2a3f5f"
            },
            "baxis": {
             "endlinecolor": "#2a3f5f",
             "gridcolor": "white",
             "linecolor": "white",
             "minorgridcolor": "white",
             "startlinecolor": "#2a3f5f"
            },
            "type": "carpet"
           }
          ],
          "choropleth": [
           {
            "colorbar": {
             "outlinewidth": 0,
             "ticks": ""
            },
            "type": "choropleth"
           }
          ],
          "contour": [
           {
            "colorbar": {
             "outlinewidth": 0,
             "ticks": ""
            },
            "colorscale": [
             [
              0,
              "#0d0887"
             ],
             [
              0.1111111111111111,
              "#46039f"
             ],
             [
              0.2222222222222222,
              "#7201a8"
             ],
             [
              0.3333333333333333,
              "#9c179e"
             ],
             [
              0.4444444444444444,
              "#bd3786"
             ],
             [
              0.5555555555555556,
              "#d8576b"
             ],
             [
              0.6666666666666666,
              "#ed7953"
             ],
             [
              0.7777777777777778,
              "#fb9f3a"
             ],
             [
              0.8888888888888888,
              "#fdca26"
             ],
             [
              1,
              "#f0f921"
             ]
            ],
            "type": "contour"
           }
          ],
          "contourcarpet": [
           {
            "colorbar": {
             "outlinewidth": 0,
             "ticks": ""
            },
            "type": "contourcarpet"
           }
          ],
          "heatmap": [
           {
            "colorbar": {
             "outlinewidth": 0,
             "ticks": ""
            },
            "colorscale": [
             [
              0,
              "#0d0887"
             ],
             [
              0.1111111111111111,
              "#46039f"
             ],
             [
              0.2222222222222222,
              "#7201a8"
             ],
             [
              0.3333333333333333,
              "#9c179e"
             ],
             [
              0.4444444444444444,
              "#bd3786"
             ],
             [
              0.5555555555555556,
              "#d8576b"
             ],
             [
              0.6666666666666666,
              "#ed7953"
             ],
             [
              0.7777777777777778,
              "#fb9f3a"
             ],
             [
              0.8888888888888888,
              "#fdca26"
             ],
             [
              1,
              "#f0f921"
             ]
            ],
            "type": "heatmap"
           }
          ],
          "heatmapgl": [
           {
            "colorbar": {
             "outlinewidth": 0,
             "ticks": ""
            },
            "colorscale": [
             [
              0,
              "#0d0887"
             ],
             [
              0.1111111111111111,
              "#46039f"
             ],
             [
              0.2222222222222222,
              "#7201a8"
             ],
             [
              0.3333333333333333,
              "#9c179e"
             ],
             [
              0.4444444444444444,
              "#bd3786"
             ],
             [
              0.5555555555555556,
              "#d8576b"
             ],
             [
              0.6666666666666666,
              "#ed7953"
             ],
             [
              0.7777777777777778,
              "#fb9f3a"
             ],
             [
              0.8888888888888888,
              "#fdca26"
             ],
             [
              1,
              "#f0f921"
             ]
            ],
            "type": "heatmapgl"
           }
          ],
          "histogram": [
           {
            "marker": {
             "pattern": {
              "fillmode": "overlay",
              "size": 10,
              "solidity": 0.2
             }
            },
            "type": "histogram"
           }
          ],
          "histogram2d": [
           {
            "colorbar": {
             "outlinewidth": 0,
             "ticks": ""
            },
            "colorscale": [
             [
              0,
              "#0d0887"
             ],
             [
              0.1111111111111111,
              "#46039f"
             ],
             [
              0.2222222222222222,
              "#7201a8"
             ],
             [
              0.3333333333333333,
              "#9c179e"
             ],
             [
              0.4444444444444444,
              "#bd3786"
             ],
             [
              0.5555555555555556,
              "#d8576b"
             ],
             [
              0.6666666666666666,
              "#ed7953"
             ],
             [
              0.7777777777777778,
              "#fb9f3a"
             ],
             [
              0.8888888888888888,
              "#fdca26"
             ],
             [
              1,
              "#f0f921"
             ]
            ],
            "type": "histogram2d"
           }
          ],
          "histogram2dcontour": [
           {
            "colorbar": {
             "outlinewidth": 0,
             "ticks": ""
            },
            "colorscale": [
             [
              0,
              "#0d0887"
             ],
             [
              0.1111111111111111,
              "#46039f"
             ],
             [
              0.2222222222222222,
              "#7201a8"
             ],
             [
              0.3333333333333333,
              "#9c179e"
             ],
             [
              0.4444444444444444,
              "#bd3786"
             ],
             [
              0.5555555555555556,
              "#d8576b"
             ],
             [
              0.6666666666666666,
              "#ed7953"
             ],
             [
              0.7777777777777778,
              "#fb9f3a"
             ],
             [
              0.8888888888888888,
              "#fdca26"
             ],
             [
              1,
              "#f0f921"
             ]
            ],
            "type": "histogram2dcontour"
           }
          ],
          "mesh3d": [
           {
            "colorbar": {
             "outlinewidth": 0,
             "ticks": ""
            },
            "type": "mesh3d"
           }
          ],
          "parcoords": [
           {
            "line": {
             "colorbar": {
              "outlinewidth": 0,
              "ticks": ""
             }
            },
            "type": "parcoords"
           }
          ],
          "pie": [
           {
            "automargin": true,
            "type": "pie"
           }
          ],
          "scatter": [
           {
            "fillpattern": {
             "fillmode": "overlay",
             "size": 10,
             "solidity": 0.2
            },
            "type": "scatter"
           }
          ],
          "scatter3d": [
           {
            "line": {
             "colorbar": {
              "outlinewidth": 0,
              "ticks": ""
             }
            },
            "marker": {
             "colorbar": {
              "outlinewidth": 0,
              "ticks": ""
             }
            },
            "type": "scatter3d"
           }
          ],
          "scattercarpet": [
           {
            "marker": {
             "colorbar": {
              "outlinewidth": 0,
              "ticks": ""
             }
            },
            "type": "scattercarpet"
           }
          ],
          "scattergeo": [
           {
            "marker": {
             "colorbar": {
              "outlinewidth": 0,
              "ticks": ""
             }
            },
            "type": "scattergeo"
           }
          ],
          "scattergl": [
           {
            "marker": {
             "colorbar": {
              "outlinewidth": 0,
              "ticks": ""
             }
            },
            "type": "scattergl"
           }
          ],
          "scattermapbox": [
           {
            "marker": {
             "colorbar": {
              "outlinewidth": 0,
              "ticks": ""
             }
            },
            "type": "scattermapbox"
           }
          ],
          "scatterpolar": [
           {
            "marker": {
             "colorbar": {
              "outlinewidth": 0,
              "ticks": ""
             }
            },
            "type": "scatterpolar"
           }
          ],
          "scatterpolargl": [
           {
            "marker": {
             "colorbar": {
              "outlinewidth": 0,
              "ticks": ""
             }
            },
            "type": "scatterpolargl"
           }
          ],
          "scatterternary": [
           {
            "marker": {
             "colorbar": {
              "outlinewidth": 0,
              "ticks": ""
             }
            },
            "type": "scatterternary"
           }
          ],
          "surface": [
           {
            "colorbar": {
             "outlinewidth": 0,
             "ticks": ""
            },
            "colorscale": [
             [
              0,
              "#0d0887"
             ],
             [
              0.1111111111111111,
              "#46039f"
             ],
             [
              0.2222222222222222,
              "#7201a8"
             ],
             [
              0.3333333333333333,
              "#9c179e"
             ],
             [
              0.4444444444444444,
              "#bd3786"
             ],
             [
              0.5555555555555556,
              "#d8576b"
             ],
             [
              0.6666666666666666,
              "#ed7953"
             ],
             [
              0.7777777777777778,
              "#fb9f3a"
             ],
             [
              0.8888888888888888,
              "#fdca26"
             ],
             [
              1,
              "#f0f921"
             ]
            ],
            "type": "surface"
           }
          ],
          "table": [
           {
            "cells": {
             "fill": {
              "color": "#EBF0F8"
             },
             "line": {
              "color": "white"
             }
            },
            "header": {
             "fill": {
              "color": "#C8D4E3"
             },
             "line": {
              "color": "white"
             }
            },
            "type": "table"
           }
          ]
         },
         "layout": {
          "annotationdefaults": {
           "arrowcolor": "#2a3f5f",
           "arrowhead": 0,
           "arrowwidth": 1
          },
          "autotypenumbers": "strict",
          "coloraxis": {
           "colorbar": {
            "outlinewidth": 0,
            "ticks": ""
           }
          },
          "colorscale": {
           "diverging": [
            [
             0,
             "#8e0152"
            ],
            [
             0.1,
             "#c51b7d"
            ],
            [
             0.2,
             "#de77ae"
            ],
            [
             0.3,
             "#f1b6da"
            ],
            [
             0.4,
             "#fde0ef"
            ],
            [
             0.5,
             "#f7f7f7"
            ],
            [
             0.6,
             "#e6f5d0"
            ],
            [
             0.7,
             "#b8e186"
            ],
            [
             0.8,
             "#7fbc41"
            ],
            [
             0.9,
             "#4d9221"
            ],
            [
             1,
             "#276419"
            ]
           ],
           "sequential": [
            [
             0,
             "#0d0887"
            ],
            [
             0.1111111111111111,
             "#46039f"
            ],
            [
             0.2222222222222222,
             "#7201a8"
            ],
            [
             0.3333333333333333,
             "#9c179e"
            ],
            [
             0.4444444444444444,
             "#bd3786"
            ],
            [
             0.5555555555555556,
             "#d8576b"
            ],
            [
             0.6666666666666666,
             "#ed7953"
            ],
            [
             0.7777777777777778,
             "#fb9f3a"
            ],
            [
             0.8888888888888888,
             "#fdca26"
            ],
            [
             1,
             "#f0f921"
            ]
           ],
           "sequentialminus": [
            [
             0,
             "#0d0887"
            ],
            [
             0.1111111111111111,
             "#46039f"
            ],
            [
             0.2222222222222222,
             "#7201a8"
            ],
            [
             0.3333333333333333,
             "#9c179e"
            ],
            [
             0.4444444444444444,
             "#bd3786"
            ],
            [
             0.5555555555555556,
             "#d8576b"
            ],
            [
             0.6666666666666666,
             "#ed7953"
            ],
            [
             0.7777777777777778,
             "#fb9f3a"
            ],
            [
             0.8888888888888888,
             "#fdca26"
            ],
            [
             1,
             "#f0f921"
            ]
           ]
          },
          "colorway": [
           "#636efa",
           "#EF553B",
           "#00cc96",
           "#ab63fa",
           "#FFA15A",
           "#19d3f3",
           "#FF6692",
           "#B6E880",
           "#FF97FF",
           "#FECB52"
          ],
          "font": {
           "color": "#2a3f5f"
          },
          "geo": {
           "bgcolor": "white",
           "lakecolor": "white",
           "landcolor": "#E5ECF6",
           "showlakes": true,
           "showland": true,
           "subunitcolor": "white"
          },
          "hoverlabel": {
           "align": "left"
          },
          "hovermode": "closest",
          "mapbox": {
           "style": "light"
          },
          "paper_bgcolor": "white",
          "plot_bgcolor": "#E5ECF6",
          "polar": {
           "angularaxis": {
            "gridcolor": "white",
            "linecolor": "white",
            "ticks": ""
           },
           "bgcolor": "#E5ECF6",
           "radialaxis": {
            "gridcolor": "white",
            "linecolor": "white",
            "ticks": ""
           }
          },
          "scene": {
           "xaxis": {
            "backgroundcolor": "#E5ECF6",
            "gridcolor": "white",
            "gridwidth": 2,
            "linecolor": "white",
            "showbackground": true,
            "ticks": "",
            "zerolinecolor": "white"
           },
           "yaxis": {
            "backgroundcolor": "#E5ECF6",
            "gridcolor": "white",
            "gridwidth": 2,
            "linecolor": "white",
            "showbackground": true,
            "ticks": "",
            "zerolinecolor": "white"
           },
           "zaxis": {
            "backgroundcolor": "#E5ECF6",
            "gridcolor": "white",
            "gridwidth": 2,
            "linecolor": "white",
            "showbackground": true,
            "ticks": "",
            "zerolinecolor": "white"
           }
          },
          "shapedefaults": {
           "line": {
            "color": "#2a3f5f"
           }
          },
          "ternary": {
           "aaxis": {
            "gridcolor": "white",
            "linecolor": "white",
            "ticks": ""
           },
           "baxis": {
            "gridcolor": "white",
            "linecolor": "white",
            "ticks": ""
           },
           "bgcolor": "#E5ECF6",
           "caxis": {
            "gridcolor": "white",
            "linecolor": "white",
            "ticks": ""
           }
          },
          "title": {
           "x": 0.05
          },
          "xaxis": {
           "automargin": true,
           "gridcolor": "white",
           "linecolor": "white",
           "ticks": "",
           "title": {
            "standoff": 15
           },
           "zerolinecolor": "white",
           "zerolinewidth": 2
          },
          "yaxis": {
           "automargin": true,
           "gridcolor": "white",
           "linecolor": "white",
           "ticks": "",
           "title": {
            "standoff": 15
           },
           "zerolinecolor": "white",
           "zerolinewidth": 2
          }
         }
        },
        "width": 1400
       }
      }
     },
     "metadata": {},
     "output_type": "display_data"
    }
   ],
   "source": [
    "r1, teta1 = [], []\n",
    "r2, teta2 = [], []\n",
    "\n",
    "# Projecting Word_1     \n",
    "for i in PositionEncoderOutput.T.columns:\n",
    "    x, y = finding_r(1,PositionEncoderOutput.T.loc[PositionEncoderOutput.T.index[0],i])\n",
    "    r1.append(x),teta1.append(y)\n",
    "\n",
    "# Projecting Word_2    \n",
    "for i in PositionEncoderOutput.T.columns:\n",
    "    x, y = finding_r(1,PositionEncoderOutput.T.loc[PositionEncoderOutput.T.index[1],i])\n",
    "    r2.append(x),teta2.append(y)\n",
    "\n",
    "\n",
    "fig = go.Figure()\n",
    "\n",
    "# Adding First Word \n",
    "fig.add_scatter3d(x = [1]*len(r1) ,y = r1, z= teta1  , text=[f\"{PositionEncoderOutput.T.index[0]}_po_{n+1}\" for n in range(len(PositionEncoderOutput.index))],mode='markers+text', name=PositionEncoderOutput.T.index[0])\n",
    "\n",
    "# Adding second Word \n",
    "fig.add_scatter3d(x = [2]*len(r2) ,y = r2, z= teta2  , text=[f\"{PositionEncoderOutput.T.index[1]}_po_{n+1}\" for n in range(len(PositionEncoderOutput.index))],mode='markers+text', name=PositionEncoderOutput.T.index[1])\n",
    "\n",
    "# Plotting\n",
    "fig.update_layout(autosize=False,width=1400,height=900,)\n",
    "fig.show()"
   ]
  },
  {
   "cell_type": "markdown",
   "metadata": {},
   "source": [
    "##### 3D Plotting Sin Cos Circumference (Large Embedding)"
   ]
  },
  {
   "cell_type": "code",
   "execution_count": null,
   "metadata": {},
   "outputs": [],
   "source": [
    "r1, teta1 = [], []\n",
    "r2, teta2 = [], []\n",
    "\n",
    "# Projecting Word_1     \n",
    "for i in SinCosPosEncOutput.T.columns[1:]:\n",
    "    x, y = finding_r(1,SinCosPosEncOutput.T.loc[f\"Word_{1}\",i])\n",
    "    r1.append(x),teta1.append(y)\n",
    "\n",
    "# Projecting Word_2    \n",
    "for i in SinCosPosEncOutput.T.columns[1:]:\n",
    "    x, y = finding_r(1,SinCosPosEncOutput.T.loc[f\"Word_{2}\",i])\n",
    "    r2.append(x),teta2.append(y)\n",
    "\n",
    "\n",
    "fig = go.Figure()\n",
    "\n",
    "# Adding First Word \n",
    "fig.add_scatter3d(x = [1]*len(r1) ,y = r1, z= teta1  , text=[f\"Word1_Po{po}\" for po in SinCosPosEncOutput.T.index[1:]],mode='markers+text', name=\"Word_1\")\n",
    "\n",
    "# Adding second Word \n",
    "fig.add_scatter3d(x = [2]*len(r2) ,y = r2, z= teta2  , text=[f\"Word2_Po{po}\" for po in SinCosPosEncOutput.T.index[1:]],mode='markers+text', name=\"Word_2\")\n",
    "\n",
    "# Plotting\n",
    "fig.update_layout(autosize=False,width=1400,height=900,)\n",
    "fig.show()"
   ]
  },
  {
   "cell_type": "markdown",
   "metadata": {},
   "source": [
    "Note : These are the projection of Word1 and Word2 into a Sin Cos Circumferences, this might be wrong but I am just trying to imagine how it looks , because I understand things if i can see them.\n",
    "if you find the right way to display them let me know"
   ]
  },
  {
   "cell_type": "markdown",
   "metadata": {},
   "source": [
    "----------------------------------------------------------------------------------------------------------------------------------------"
   ]
  },
  {
   "cell_type": "markdown",
   "metadata": {},
   "source": [
    "###  $Embedding + Positional \\ Encoder$"
   ]
  },
  {
   "cell_type": "code",
   "execution_count": 134,
   "metadata": {},
   "outputs": [
    {
     "name": "stdout",
     "output_type": "stream",
     "text": [
      "Positional Encoder + Embedding = torch.Size([2, 6, 4])\n"
     ]
    },
    {
     "data": {
      "text/html": [
       "<div>\n",
       "<style scoped>\n",
       "    .dataframe tbody tr th:only-of-type {\n",
       "        vertical-align: middle;\n",
       "    }\n",
       "\n",
       "    .dataframe tbody tr th {\n",
       "        vertical-align: top;\n",
       "    }\n",
       "\n",
       "    .dataframe thead th {\n",
       "        text-align: right;\n",
       "    }\n",
       "</style>\n",
       "<table border=\"1\" class=\"dataframe\">\n",
       "  <thead>\n",
       "    <tr style=\"text-align: right;\">\n",
       "      <th></th>\n",
       "      <th>0</th>\n",
       "      <th>1</th>\n",
       "      <th>2</th>\n",
       "      <th>3</th>\n",
       "    </tr>\n",
       "  </thead>\n",
       "  <tbody>\n",
       "    <tr>\n",
       "      <th>Hello</th>\n",
       "      <td>1.440728</td>\n",
       "      <td>4.973674</td>\n",
       "      <td>-1.430465</td>\n",
       "      <td>2.848117</td>\n",
       "    </tr>\n",
       "    <tr>\n",
       "      <th>this</th>\n",
       "      <td>2.224853</td>\n",
       "      <td>-1.907754</td>\n",
       "      <td>0.948724</td>\n",
       "      <td>2.479576</td>\n",
       "    </tr>\n",
       "    <tr>\n",
       "      <th>is</th>\n",
       "      <td>2.235514</td>\n",
       "      <td>-1.839015</td>\n",
       "      <td>-1.184521</td>\n",
       "      <td>4.232692</td>\n",
       "    </tr>\n",
       "    <tr>\n",
       "      <th>Marvin</th>\n",
       "      <td>0.629934</td>\n",
       "      <td>-1.531329</td>\n",
       "      <td>-1.008532</td>\n",
       "      <td>3.701891</td>\n",
       "    </tr>\n",
       "    <tr>\n",
       "      <th>&lt;pad&gt;</th>\n",
       "      <td>-2.333604</td>\n",
       "      <td>-4.234653</td>\n",
       "      <td>-1.858686</td>\n",
       "      <td>3.092674</td>\n",
       "    </tr>\n",
       "    <tr>\n",
       "      <th>&lt;pad&gt;</th>\n",
       "      <td>-2.737848</td>\n",
       "      <td>-2.360041</td>\n",
       "      <td>-1.838706</td>\n",
       "      <td>3.091774</td>\n",
       "    </tr>\n",
       "    <tr>\n",
       "      <th>explaining</th>\n",
       "      <td>1.866949</td>\n",
       "      <td>0.864079</td>\n",
       "      <td>0.918973</td>\n",
       "      <td>2.535263</td>\n",
       "    </tr>\n",
       "    <tr>\n",
       "      <th>attention</th>\n",
       "      <td>0.109469</td>\n",
       "      <td>2.496138</td>\n",
       "      <td>-0.257067</td>\n",
       "      <td>1.899170</td>\n",
       "    </tr>\n",
       "    <tr>\n",
       "      <th>is</th>\n",
       "      <td>2.235514</td>\n",
       "      <td>-1.839015</td>\n",
       "      <td>-1.184521</td>\n",
       "      <td>4.232692</td>\n",
       "    </tr>\n",
       "    <tr>\n",
       "      <th>all</th>\n",
       "      <td>-1.362623</td>\n",
       "      <td>-2.676429</td>\n",
       "      <td>-1.024605</td>\n",
       "      <td>-1.644911</td>\n",
       "    </tr>\n",
       "    <tr>\n",
       "      <th>you</th>\n",
       "      <td>-0.246460</td>\n",
       "      <td>-1.792061</td>\n",
       "      <td>-3.683814</td>\n",
       "      <td>3.212399</td>\n",
       "    </tr>\n",
       "    <tr>\n",
       "      <th>need</th>\n",
       "      <td>-3.632675</td>\n",
       "      <td>-5.214413</td>\n",
       "      <td>-1.270214</td>\n",
       "      <td>0.007615</td>\n",
       "    </tr>\n",
       "  </tbody>\n",
       "</table>\n",
       "</div>"
      ],
      "text/plain": [
       "                   0         1         2         3\n",
       "Hello       1.440728  4.973674 -1.430465  2.848117\n",
       "this        2.224853 -1.907754  0.948724  2.479576\n",
       "is          2.235514 -1.839015 -1.184521  4.232692\n",
       "Marvin      0.629934 -1.531329 -1.008532  3.701891\n",
       "<pad>      -2.333604 -4.234653 -1.858686  3.092674\n",
       "<pad>      -2.737848 -2.360041 -1.838706  3.091774\n",
       "explaining  1.866949  0.864079  0.918973  2.535263\n",
       "attention   0.109469  2.496138 -0.257067  1.899170\n",
       "is          2.235514 -1.839015 -1.184521  4.232692\n",
       "all        -1.362623 -2.676429 -1.024605 -1.644911\n",
       "you        -0.246460 -1.792061 -3.683814  3.212399\n",
       "need       -3.632675 -5.214413 -1.270214  0.007615"
      ]
     },
     "execution_count": 134,
     "metadata": {},
     "output_type": "execute_result"
    }
   ],
   "source": [
    "# Applying Positional Encoder\n",
    "Positional = PositionalEncoderLayer(EmbDim=EmbDim, Dropout=0.0)\n",
    "PositionalOut = Positional(OutPosEnc)\n",
    "\n",
    "print(f\"Positional Encoder + Embedding = {PositionalOut.size()}\")\n",
    "pd.DataFrame(index= INDEX,  data = PositionalOut.reshape(12,-1).detach().numpy())"
   ]
  },
  {
   "cell_type": "markdown",
   "metadata": {},
   "source": [
    "####  $Plotting: \\ Embedding\\ versus \\ \"Embedding\\ + \\ Positional\\:Encoder\"$"
   ]
  },
  {
   "cell_type": "markdown",
   "metadata": {},
   "source": [
    "--------------------------------------------------------------------------------"
   ]
  },
  {
   "cell_type": "code",
   "execution_count": 135,
   "metadata": {},
   "outputs": [
    {
     "name": "stdout",
     "output_type": "stream",
     "text": [
      "------------------------------- Continue -------------------------------\n"
     ]
    }
   ],
   "source": [
    "Data4Pandas # This is the output of the Embedding layer , already reshape and detach\n",
    "PositionalOut # This is the Positional Encoder Output , [batch_size, Seq.Maxlegth, EmbDim] -> torch.Tensor\n",
    "print(\"------------------------------- Continue -------------------------------\")"
   ]
  },
  {
   "cell_type": "markdown",
   "metadata": {},
   "source": [
    "--------------------------------------------------------------------------------------------------------"
   ]
  },
  {
   "cell_type": "markdown",
   "metadata": {},
   "source": [
    "the blue point are the original embedding position and the red ones are the new position that is the outcome of Encoder +  Embedding However they are not a single point but many of them in different position around the same point"
   ]
  },
  {
   "cell_type": "code",
   "execution_count": null,
   "metadata": {},
   "outputs": [],
   "source": [
    "# Reducing Dimensionality  \n",
    "D3 = PCA(n_components=3)\n",
    "D3 = D3.fit(Data4Pandas) # Only Fit because this will be used to transformed The Positional Encoder\n",
    "\n",
    "# Transforming - Creating Pandas for Visualization Purpose\n",
    "EmbOut3D = pd.DataFrame( index = INDEX,data =  D3.transform(Data4Pandas)) # Embout :  Output from the Embedding\n",
    "EmbEnc3D = pd.DataFrame( index = INDEX,data =  D3.transform(PositionalOut.reshape(12,-1).detach().numpy())) # EmbEnc3D : Embedding + Encoder\n",
    "\n",
    "# Plotting W2V\n",
    "fig = go.Figure()\n",
    "fig.add_scatter3d (x =EmbOut3D[0], y=EmbOut3D[1], z=EmbOut3D[2],  name=\"Embedding\", mode='markers+text', text = EmbOut3D.index)\n",
    "fig.add_scatter3d (x =EmbEnc3D[0], y=EmbEnc3D[1], z=EmbEnc3D[2],  name=\"Encoder+Embedding\", mode='markers+text', text = EmbEnc3D.index)\n",
    "\n",
    "\n",
    "fig.update_layout(autosize=False,width=1400,height=900,)\n",
    "fig.show()\n",
    "\n"
   ]
  },
  {
   "cell_type": "code",
   "execution_count": 137,
   "metadata": {},
   "outputs": [
    {
     "name": "stdout",
     "output_type": "stream",
     "text": [
      "-------------------------------------- Lines Coordinates Created --------------------------------------\n"
     ]
    }
   ],
   "source": [
    "# Parameters\n",
    "f,t = 0,4 # f: First Word, t: Last word\n",
    "\n",
    "\n",
    "# Projecting Word f ~ Word ~ t , # WRx: Word and Radio x, WT0: Word and Teta x , WTxt0: Word and Text x\n",
    "WR0, WT0, WTxt0 = [], [], [] \n",
    "WR1, WT1, WTxt1 = [], [], []\n",
    "WR2, WT2, WTxt2 = [], [], []\n",
    "\n",
    "for i in range(len(EmbEnc3D.index)):\n",
    "    x, y = finding_r(1,EmbEnc3D.iloc[i,1])\n",
    "    WR0.append(x),WT0.append(y), WTxt0.append(f\"{EmbEnc3D.index[0]}_pos{i}\")\n",
    "\n",
    "    x, y = finding_r(1,EmbEnc3D.iloc[i,1])\n",
    "    WR1.append(x),WT1.append(y), WTxt1.append(f\"{EmbEnc3D.index[1]}_pos{i}\")\n",
    "\n",
    "    x, y = finding_r(1,EmbEnc3D.iloc[i,2])\n",
    "    WR2.append(x),WT2.append(y), WTxt2.append(f\"{EmbEnc3D.index[2]}_pos{i}\")\n",
    "\n",
    "\n",
    "# Lines Embeddings\n",
    "lines = {word:{} for word in EmbEnc3D.index}\n",
    "for idx, word in enumerate(EmbEnc3D.index):\n",
    "    for col in EmbEnc3D.columns:\n",
    "        lines[word].update({f\"po_{col}\":{'x':[],'y':[],'z':[]}})\n",
    "\n",
    "\n",
    "for idx_, word in enumerate(lines.keys()):\n",
    "    for num, pos_ in enumerate(lines[word].keys()):\n",
    "        if num == 0 :\n",
    "            radio_, teta_ = WR0, WT0\n",
    "        elif num == 1 :\n",
    "            radio_, teta_ = WR1, WT1\n",
    "        else:\n",
    "            radio_, teta_ = WR2, WT2\n",
    "  \n",
    "\n",
    "        # Imputing X Embeddings\n",
    "        lines[word][pos_]['x'].extend((EmbEnc3D.iloc[idx_,0] , num))\n",
    "        lines[word][pos_]['y'].extend((EmbEnc3D.iloc[idx_,1], radio_[idx_]))\n",
    "        lines[word][pos_]['z'].extend((EmbEnc3D.iloc[idx_,2] , teta_[idx_]))\n",
    "\n",
    "print(\"-------------------------------------- Lines Coordinates Created --------------------------------------\")"
   ]
  },
  {
   "cell_type": "code",
   "execution_count": null,
   "metadata": {},
   "outputs": [],
   "source": [
    "fig = go.Figure()\n",
    "\n",
    "# Adding Embedding  +  Encoder \n",
    "fig.add_scatter3d (x =EmbEnc3D[0], y=EmbEnc3D[1], z=EmbEnc3D[2],  name=\"Encoder+Embedding\", mode='markers+text', text = EmbOut3D.index,marker=dict(size=10))\n",
    "\n",
    "# Adding Line \n",
    "for Word in list(lines.keys())[f:t]:\n",
    "    for num, WordPostition in enumerate(lines[Word].keys()):\n",
    "        fig.add_scatter3d(x = lines[Word][WordPostition]['x'] ,\n",
    "        y = lines[Word][WordPostition]['y'] ,\n",
    "         z= lines[Word][WordPostition]['z'],\n",
    "          marker=dict(size=5),\n",
    "           mode='markers+text+lines',\n",
    "           text =[None,f\"{Word}_Pos_{num}\"],\n",
    "           showlegend=False)\n",
    "\n",
    "\n",
    "\n",
    "# Plotting\n",
    "fig.update_layout(autosize=False,width=1400,height=900,)\n",
    "fig.show()\n"
   ]
  },
  {
   "cell_type": "markdown",
   "metadata": {},
   "source": [
    "Note: The graph is not perfect and perhaps the word representation position is not the best one (because the model has not been trained).\n",
    "The blue dots are the Embedding + Positional Encoding , however due to the Sinusoidal and Cosinusoidal transformation each word now has different vector positions in a space but they all the same (is like a cluster).\n",
    "\n",
    "- If I have the Sentences \"Hello this is Marvin\" and if I want to measure the cosine similarity in between 'Marvin' and 'this' , I have to remember that `this` is position 2, and `Marvin` position 5, but because they all have equal number of position I should measure the word `this_position_5` vs `Marvin_pos_5` or `this_position_2` vs `Marvin_pos_2`"
   ]
  },
  {
   "cell_type": "markdown",
   "metadata": {},
   "source": [
    "----------------------------------------------"
   ]
  },
  {
   "cell_type": "markdown",
   "metadata": {},
   "source": [
    "###  $Attention\\ Mechanism $"
   ]
  },
  {
   "cell_type": "markdown",
   "metadata": {},
   "source": [
    "![self-attention](https://raw.githubusercontent.com/cuicaihao/Annotated-Transformer-English-to-Chinese-Translator/8e3cdc490c4425606cdf1d0cbf229f86bc8173e6/document/images/self-attention.png)"
   ]
  },
  {
   "cell_type": "markdown",
   "metadata": {},
   "source": [
    "![dimension](https://i.stack.imgur.com/Ogb7B.png)"
   ]
  },
  {
   "cell_type": "code",
   "execution_count": 139,
   "metadata": {},
   "outputs": [],
   "source": [
    "def AttentionUnit (Q: torch.Tensor, K : torch.Tensor, V : torch.Tensor, mask = None, dropout = None) -> torch.Tensor:\n",
    "    \"\"\"\n",
    "    Compute scaled dot product, 'Note: Q, K, V : are the same Tensor before computation is done'\n",
    "\n",
    "    Parameters\n",
    "    -------------------------------------------------------------------------------------\n",
    "        \n",
    "    Args:\n",
    "        Q : Query,\n",
    "        K : Keys,\n",
    "        V: Values, \n",
    "        mask : Mask for Decoder Block\n",
    "        dropout : dropout setting \n",
    "        \n",
    "    Return:\n",
    "    --------------------------------------------------------------------------------\n",
    "        \n",
    "        Attention : Final Matrix Multiplication \n",
    "       \n",
    "    \"\"\"\n",
    "\n",
    "    # Model Dimension \n",
    "    d_k = Q.size(-1) # take the last Dimension of the input : [batch_size, Seq.Maxlength, Emb_dimension]\n",
    "    K_Transpose = K.transpose (-2,-1) # k.T (transpose) can be used as well but check the Documentation\n",
    "    QKMatMul = torch.matmul(Q, K_Transpose)\n",
    "    Scale = QKMatMul / math.sqrt(d_k)  # Inner part of the Formula \n",
    "\n",
    "    if mask is not None:\n",
    "        Scale = Scale.mask_filled(mask == 0, -1e9) # check the mask Section\n",
    "    \n",
    "    # Applying soft-max \"check the image above : [batch_size : dim0 or dim-3; Seq.Maxlength : dim 1 or dim -2, Emb_dimension : dim 2 or dim -1]\n",
    "    AttentionMask = torch.nn.functional.softmax(Scale, dim=-1)  \n",
    "\n",
    "    if dropout is not None:\n",
    "        AttentionMask = nn.Dropout(p=dropout)(AttentionMask)\n",
    "    \n",
    "    AttentionOutput = torch.matmul(AttentionMask, V) # Last part of the Equation softmax(attention) x Values (Matrix)\n",
    "    return AttentionOutput, AttentionMask"
   ]
  },
  {
   "cell_type": "markdown",
   "metadata": {},
   "source": [
    "##### $Self \\ Attention \\ Unit: \\ Step \\ by \\ Step$"
   ]
  },
  {
   "cell_type": "markdown",
   "metadata": {},
   "source": [
    "- I will use a pre-train Embedding model \"WORD2VECTOR\", using the same Sentences to get the Word-Vector and pass it to the Self Attention unit"
   ]
  },
  {
   "cell_type": "markdown",
   "metadata": {},
   "source": [
    "![scaled dot-product self-attention](https://images.prismic.io/peltarionv2/a7445eec-3dd8-4e62-948c-e3c3f9b3a987_self-attention_head.svg?auto=compress%2Cformat&rect=0%2C0%2C148%2C150&w=1720&h=1743)"
   ]
  },
  {
   "cell_type": "code",
   "execution_count": 140,
   "metadata": {},
   "outputs": [
    {
     "data": {
      "text/html": [
       "<div>\n",
       "<style scoped>\n",
       "    .dataframe tbody tr th:only-of-type {\n",
       "        vertical-align: middle;\n",
       "    }\n",
       "\n",
       "    .dataframe tbody tr th {\n",
       "        vertical-align: top;\n",
       "    }\n",
       "\n",
       "    .dataframe thead th {\n",
       "        text-align: right;\n",
       "    }\n",
       "</style>\n",
       "<table border=\"1\" class=\"dataframe\">\n",
       "  <thead>\n",
       "    <tr style=\"text-align: right;\">\n",
       "      <th></th>\n",
       "      <th>0</th>\n",
       "      <th>1</th>\n",
       "      <th>2</th>\n",
       "      <th>3</th>\n",
       "    </tr>\n",
       "  </thead>\n",
       "  <tbody>\n",
       "    <tr>\n",
       "      <th>Hello</th>\n",
       "      <td>0.201936</td>\n",
       "      <td>-0.148272</td>\n",
       "      <td>0.001129</td>\n",
       "      <td>-0.118843</td>\n",
       "    </tr>\n",
       "    <tr>\n",
       "      <th>this</th>\n",
       "      <td>0.238490</td>\n",
       "      <td>-0.182981</td>\n",
       "      <td>-0.058415</td>\n",
       "      <td>-0.048524</td>\n",
       "    </tr>\n",
       "    <tr>\n",
       "      <th>is</th>\n",
       "      <td>-0.232574</td>\n",
       "      <td>-0.177920</td>\n",
       "      <td>0.161472</td>\n",
       "      <td>0.224325</td>\n",
       "    </tr>\n",
       "    <tr>\n",
       "      <th>Marvin</th>\n",
       "      <td>-0.188041</td>\n",
       "      <td>-0.098403</td>\n",
       "      <td>-0.187790</td>\n",
       "      <td>-0.023251</td>\n",
       "    </tr>\n",
       "    <tr>\n",
       "      <th>&lt;pad&gt;</th>\n",
       "      <td>-0.013406</td>\n",
       "      <td>0.005911</td>\n",
       "      <td>0.127584</td>\n",
       "      <td>0.225232</td>\n",
       "    </tr>\n",
       "    <tr>\n",
       "      <th>&lt;pad&gt;</th>\n",
       "      <td>-0.013406</td>\n",
       "      <td>0.005911</td>\n",
       "      <td>0.127584</td>\n",
       "      <td>0.225232</td>\n",
       "    </tr>\n",
       "    <tr>\n",
       "      <th>explaining</th>\n",
       "      <td>0.158772</td>\n",
       "      <td>-0.085134</td>\n",
       "      <td>-0.023660</td>\n",
       "      <td>0.144214</td>\n",
       "    </tr>\n",
       "    <tr>\n",
       "      <th>attention</th>\n",
       "      <td>0.182794</td>\n",
       "      <td>0.126757</td>\n",
       "      <td>0.168942</td>\n",
       "      <td>0.019072</td>\n",
       "    </tr>\n",
       "    <tr>\n",
       "      <th>is</th>\n",
       "      <td>-0.232574</td>\n",
       "      <td>-0.177920</td>\n",
       "      <td>0.161472</td>\n",
       "      <td>0.224325</td>\n",
       "    </tr>\n",
       "    <tr>\n",
       "      <th>all</th>\n",
       "      <td>0.071918</td>\n",
       "      <td>0.024798</td>\n",
       "      <td>-0.207142</td>\n",
       "      <td>-0.236233</td>\n",
       "    </tr>\n",
       "    <tr>\n",
       "      <th>you</th>\n",
       "      <td>-0.113415</td>\n",
       "      <td>0.163851</td>\n",
       "      <td>-0.121504</td>\n",
       "      <td>-0.045400</td>\n",
       "    </tr>\n",
       "    <tr>\n",
       "      <th>need</th>\n",
       "      <td>-0.125386</td>\n",
       "      <td>-0.094084</td>\n",
       "      <td>0.184513</td>\n",
       "      <td>-0.038337</td>\n",
       "    </tr>\n",
       "  </tbody>\n",
       "</table>\n",
       "</div>"
      ],
      "text/plain": [
       "                   0         1         2         3\n",
       "Hello       0.201936 -0.148272  0.001129 -0.118843\n",
       "this        0.238490 -0.182981 -0.058415 -0.048524\n",
       "is         -0.232574 -0.177920  0.161472  0.224325\n",
       "Marvin     -0.188041 -0.098403 -0.187790 -0.023251\n",
       "<pad>      -0.013406  0.005911  0.127584  0.225232\n",
       "<pad>      -0.013406  0.005911  0.127584  0.225232\n",
       "explaining  0.158772 -0.085134 -0.023660  0.144214\n",
       "attention   0.182794  0.126757  0.168942  0.019072\n",
       "is         -0.232574 -0.177920  0.161472  0.224325\n",
       "all         0.071918  0.024798 -0.207142 -0.236233\n",
       "you        -0.113415  0.163851 -0.121504 -0.045400\n",
       "need       -0.125386 -0.094084  0.184513 -0.038337"
      ]
     },
     "execution_count": 140,
     "metadata": {},
     "output_type": "execute_result"
    }
   ],
   "source": [
    "# Loading Model \n",
    "MySentences = [INDEX]\n",
    "Model = Word2Vec(MySentences, vector_size =4,min_count=1,window=6)\n",
    "\n",
    "W2V = []\n",
    "for word in INDEX:\n",
    "    W2V.append(Model.wv.get_vector(word))\n",
    "\n",
    "W2VEmbedding = pd.DataFrame(W2V, index = INDEX)\n",
    "W2VEmbedding"
   ]
  },
  {
   "cell_type": "code",
   "execution_count": 141,
   "metadata": {},
   "outputs": [],
   "source": [
    "# Initiating Positional Encoder\n",
    "PosEnc = PositionalEncoderLayer(EmbDim = W2VEmbedding.shape[1], Dropout = 0)\n",
    "PosEncOut = PosEnc(torch.from_numpy(W2VEmbedding.values.reshape(2,6,4)))  # Values to get number, shape to change into batches and from_numpy to transform into Tensors"
   ]
  },
  {
   "cell_type": "code",
   "execution_count": 142,
   "metadata": {},
   "outputs": [
    {
     "name": "stdout",
     "output_type": "stream",
     "text": [
      "Positional Encoder + Embedding Original size = torch.Size([2, 6, 4])\n"
     ]
    },
    {
     "data": {
      "text/html": [
       "<div>\n",
       "<style scoped>\n",
       "    .dataframe tbody tr th:only-of-type {\n",
       "        vertical-align: middle;\n",
       "    }\n",
       "\n",
       "    .dataframe tbody tr th {\n",
       "        vertical-align: top;\n",
       "    }\n",
       "\n",
       "    .dataframe thead th {\n",
       "        text-align: right;\n",
       "    }\n",
       "</style>\n",
       "<table border=\"1\" class=\"dataframe\">\n",
       "  <thead>\n",
       "    <tr style=\"text-align: right;\">\n",
       "      <th></th>\n",
       "      <th>0</th>\n",
       "      <th>1</th>\n",
       "      <th>2</th>\n",
       "      <th>3</th>\n",
       "    </tr>\n",
       "  </thead>\n",
       "  <tbody>\n",
       "    <tr>\n",
       "      <th>Hello</th>\n",
       "      <td>0.403872</td>\n",
       "      <td>1.703455</td>\n",
       "      <td>0.002258</td>\n",
       "      <td>1.762313</td>\n",
       "    </tr>\n",
       "    <tr>\n",
       "      <th>this</th>\n",
       "      <td>2.159921</td>\n",
       "      <td>0.714643</td>\n",
       "      <td>-0.096831</td>\n",
       "      <td>1.902852</td>\n",
       "    </tr>\n",
       "    <tr>\n",
       "      <th>is</th>\n",
       "      <td>1.353447</td>\n",
       "      <td>-1.188134</td>\n",
       "      <td>0.362941</td>\n",
       "      <td>2.448249</td>\n",
       "    </tr>\n",
       "    <tr>\n",
       "      <th>Marvin</th>\n",
       "      <td>-0.093842</td>\n",
       "      <td>-2.176790</td>\n",
       "      <td>-0.315588</td>\n",
       "      <td>1.952598</td>\n",
       "    </tr>\n",
       "    <tr>\n",
       "      <th>&lt;pad&gt;</th>\n",
       "      <td>-1.540416</td>\n",
       "      <td>-1.295466</td>\n",
       "      <td>0.335146</td>\n",
       "      <td>2.448864</td>\n",
       "    </tr>\n",
       "    <tr>\n",
       "      <th>&lt;pad&gt;</th>\n",
       "      <td>-1.944660</td>\n",
       "      <td>0.579146</td>\n",
       "      <td>0.355126</td>\n",
       "      <td>2.447964</td>\n",
       "    </tr>\n",
       "    <tr>\n",
       "      <th>explaining</th>\n",
       "      <td>0.317544</td>\n",
       "      <td>1.829732</td>\n",
       "      <td>-0.047320</td>\n",
       "      <td>2.288429</td>\n",
       "    </tr>\n",
       "    <tr>\n",
       "      <th>attention</th>\n",
       "      <td>2.048530</td>\n",
       "      <td>1.334118</td>\n",
       "      <td>0.357884</td>\n",
       "      <td>2.038043</td>\n",
       "    </tr>\n",
       "    <tr>\n",
       "      <th>is</th>\n",
       "      <td>1.353447</td>\n",
       "      <td>-1.188134</td>\n",
       "      <td>0.362941</td>\n",
       "      <td>2.448249</td>\n",
       "    </tr>\n",
       "    <tr>\n",
       "      <th>all</th>\n",
       "      <td>0.426077</td>\n",
       "      <td>-1.930389</td>\n",
       "      <td>-0.354292</td>\n",
       "      <td>1.526633</td>\n",
       "    </tr>\n",
       "    <tr>\n",
       "      <th>you</th>\n",
       "      <td>-1.740436</td>\n",
       "      <td>-0.979585</td>\n",
       "      <td>-0.163029</td>\n",
       "      <td>1.907599</td>\n",
       "    </tr>\n",
       "    <tr>\n",
       "      <th>need</th>\n",
       "      <td>-2.168620</td>\n",
       "      <td>0.379156</td>\n",
       "      <td>0.468984</td>\n",
       "      <td>1.920827</td>\n",
       "    </tr>\n",
       "  </tbody>\n",
       "</table>\n",
       "</div>"
      ],
      "text/plain": [
       "                   0         1         2         3\n",
       "Hello       0.403872  1.703455  0.002258  1.762313\n",
       "this        2.159921  0.714643 -0.096831  1.902852\n",
       "is          1.353447 -1.188134  0.362941  2.448249\n",
       "Marvin     -0.093842 -2.176790 -0.315588  1.952598\n",
       "<pad>      -1.540416 -1.295466  0.335146  2.448864\n",
       "<pad>      -1.944660  0.579146  0.355126  2.447964\n",
       "explaining  0.317544  1.829732 -0.047320  2.288429\n",
       "attention   2.048530  1.334118  0.357884  2.038043\n",
       "is          1.353447 -1.188134  0.362941  2.448249\n",
       "all         0.426077 -1.930389 -0.354292  1.526633\n",
       "you        -1.740436 -0.979585 -0.163029  1.907599\n",
       "need       -2.168620  0.379156  0.468984  1.920827"
      ]
     },
     "execution_count": 142,
     "metadata": {},
     "output_type": "execute_result"
    }
   ],
   "source": [
    "# Outcome from Embedding +  Encoder \n",
    "print(f\"Positional Encoder + Embedding Original size = {PosEncOut.size()}\")\n",
    "pd.DataFrame(index= INDEX,  data = PosEncOut.reshape(12,-1).detach().numpy() * math.sqrt(4))"
   ]
  },
  {
   "cell_type": "code",
   "execution_count": 143,
   "metadata": {},
   "outputs": [
    {
     "data": {
      "text/plain": [
       "4"
      ]
     },
     "execution_count": 143,
     "metadata": {},
     "output_type": "execute_result"
    }
   ],
   "source": [
    "# Taking Q, V, K Dimension (Q=K=V)\n",
    "Q_= K = V = PosEncOut\n",
    "d_k_ = PosEncOut.size(-1) # take the last Dimension of the input : [batch_size, Seq.Maxlength, Emb_dimension]\n",
    "d_k_"
   ]
  },
  {
   "cell_type": "code",
   "execution_count": 144,
   "metadata": {},
   "outputs": [
    {
     "data": {
      "text/html": [
       "<div>\n",
       "<style scoped>\n",
       "    .dataframe tbody tr th:only-of-type {\n",
       "        vertical-align: middle;\n",
       "    }\n",
       "\n",
       "    .dataframe tbody tr th {\n",
       "        vertical-align: top;\n",
       "    }\n",
       "\n",
       "    .dataframe thead th {\n",
       "        text-align: right;\n",
       "    }\n",
       "</style>\n",
       "<table border=\"1\" class=\"dataframe\">\n",
       "  <thead>\n",
       "    <tr style=\"text-align: right;\">\n",
       "      <th></th>\n",
       "      <th>Hello</th>\n",
       "      <th>this</th>\n",
       "      <th>is</th>\n",
       "      <th>Marvin</th>\n",
       "      <th>&lt;pad&gt;</th>\n",
       "      <th>&lt;pad&gt;</th>\n",
       "      <th>explaining</th>\n",
       "      <th>attention</th>\n",
       "      <th>is</th>\n",
       "      <th>all</th>\n",
       "      <th>you</th>\n",
       "      <th>need</th>\n",
       "    </tr>\n",
       "  </thead>\n",
       "  <tbody>\n",
       "    <tr>\n",
       "      <th>0</th>\n",
       "      <td>1.440728</td>\n",
       "      <td>2.224853</td>\n",
       "      <td>2.235514</td>\n",
       "      <td>0.629934</td>\n",
       "      <td>-2.333604</td>\n",
       "      <td>-2.737848</td>\n",
       "      <td>1.866949</td>\n",
       "      <td>0.109469</td>\n",
       "      <td>2.235514</td>\n",
       "      <td>-1.362623</td>\n",
       "      <td>-0.246460</td>\n",
       "      <td>-3.632675</td>\n",
       "    </tr>\n",
       "    <tr>\n",
       "      <th>1</th>\n",
       "      <td>4.973674</td>\n",
       "      <td>-1.907754</td>\n",
       "      <td>-1.839015</td>\n",
       "      <td>-1.531329</td>\n",
       "      <td>-4.234653</td>\n",
       "      <td>-2.360041</td>\n",
       "      <td>0.864079</td>\n",
       "      <td>2.496138</td>\n",
       "      <td>-1.839015</td>\n",
       "      <td>-2.676429</td>\n",
       "      <td>-1.792061</td>\n",
       "      <td>-5.214413</td>\n",
       "    </tr>\n",
       "    <tr>\n",
       "      <th>2</th>\n",
       "      <td>-1.430465</td>\n",
       "      <td>0.948724</td>\n",
       "      <td>-1.184521</td>\n",
       "      <td>-1.008532</td>\n",
       "      <td>-1.858686</td>\n",
       "      <td>-1.838706</td>\n",
       "      <td>0.918973</td>\n",
       "      <td>-0.257067</td>\n",
       "      <td>-1.184521</td>\n",
       "      <td>-1.024605</td>\n",
       "      <td>-3.683814</td>\n",
       "      <td>-1.270214</td>\n",
       "    </tr>\n",
       "    <tr>\n",
       "      <th>3</th>\n",
       "      <td>2.848117</td>\n",
       "      <td>2.479576</td>\n",
       "      <td>4.232692</td>\n",
       "      <td>3.701891</td>\n",
       "      <td>3.092674</td>\n",
       "      <td>3.091774</td>\n",
       "      <td>2.535263</td>\n",
       "      <td>1.899170</td>\n",
       "      <td>4.232692</td>\n",
       "      <td>-1.644911</td>\n",
       "      <td>3.212399</td>\n",
       "      <td>0.007615</td>\n",
       "    </tr>\n",
       "  </tbody>\n",
       "</table>\n",
       "</div>"
      ],
      "text/plain": [
       "      Hello      this        is    Marvin     <pad>     <pad>  explaining  \\\n",
       "0  1.440728  2.224853  2.235514  0.629934 -2.333604 -2.737848    1.866949   \n",
       "1  4.973674 -1.907754 -1.839015 -1.531329 -4.234653 -2.360041    0.864079   \n",
       "2 -1.430465  0.948724 -1.184521 -1.008532 -1.858686 -1.838706    0.918973   \n",
       "3  2.848117  2.479576  4.232692  3.701891  3.092674  3.091774    2.535263   \n",
       "\n",
       "   attention        is       all       you      need  \n",
       "0   0.109469  2.235514 -1.362623 -0.246460 -3.632675  \n",
       "1   2.496138 -1.839015 -2.676429 -1.792061 -5.214413  \n",
       "2  -0.257067 -1.184521 -1.024605 -3.683814 -1.270214  \n",
       "3   1.899170  4.232692 -1.644911  3.212399  0.007615  "
      ]
     },
     "execution_count": 144,
     "metadata": {},
     "output_type": "execute_result"
    }
   ],
   "source": [
    "# K_Transpose\n",
    "\n",
    "K_Transpose = PosEncOut.transpose(-2,-1)\n",
    "\n",
    "# K Transpose # Notice This step is applied to each Batch\n",
    "pd.DataFrame(index=np.arange(0,4),  data = PositionalOut.reshape(12,-1).transpose(-2,-1).detach().numpy(), columns=INDEX)"
   ]
  },
  {
   "cell_type": "code",
   "execution_count": 145,
   "metadata": {},
   "outputs": [
    {
     "data": {
      "text/plain": [
       "tensor([[[ 0.7713,  0.6804,  0.3548, -0.0382,  0.1859,  0.5645],\n",
       "         [ 0.6804,  1.1008,  0.8372,  0.2485,  0.0468,  0.1047],\n",
       "         [ 0.3548,  0.8372,  1.1711,  0.8907,  0.6964,  0.3503],\n",
       "         [-0.0382,  0.2485,  0.8907,  1.0824,  0.9550,  0.4487],\n",
       "         [ 0.1859,  0.0468,  0.6964,  0.9550,  1.2700,  1.0449],\n",
       "         [ 0.5645,  0.1047,  0.3503,  0.4487,  1.0449,  1.2795]],\n",
       "\n",
       "        [[ 1.0860,  0.9673,  0.4802,  0.0142,  0.2535,  0.5473],\n",
       "         [ 0.9673,  1.2823,  0.7884,  0.1603, -0.1303,  0.0182],\n",
       "         [ 0.4802,  0.7884,  1.1711,  0.8099,  0.4274,  0.1859],\n",
       "         [ 0.0142,  0.1603,  0.8099,  0.7955,  0.5149,  0.1388],\n",
       "         [ 0.2535, -0.1303,  0.4274,  0.5149,  0.9568,  0.8738],\n",
       "         [ 0.5473,  0.0182,  0.1859,  0.1388,  0.8738,  1.0945]]])"
      ]
     },
     "execution_count": 145,
     "metadata": {},
     "output_type": "execute_result"
    }
   ],
   "source": [
    "# QKMatMul \n",
    "QKMatMul_ = torch.matmul(Q_, K_Transpose) / math.sqrt(d_k_)\n",
    "QKMatMul_"
   ]
  },
  {
   "cell_type": "code",
   "execution_count": 146,
   "metadata": {},
   "outputs": [
    {
     "data": {
      "image/png": "[encoded data removed]",
      "text/plain": [
       "<Figure size 2000x1000 with 4 Axes>"
      ]
     },
     "metadata": {},
     "output_type": "display_data"
    }
   ],
   "source": [
    "fig, ax = plt.subplots(nrows =1 , ncols =2, figsize =  (20,10))\n",
    "\n",
    "# ==== First MatMul Before Softmax ====\n",
    "\n",
    "# First Batch \n",
    "sns.heatmap(QKMatMul_[0].detach().numpy(), ax=ax[0], xticklabels=INDEX[:6], yticklabels=INDEX[:6] ,annot=True, linewidth=.5, cmap='viridis')\n",
    "ax[0].set_title(\"First Batch word2Word Relationship\"); \n",
    "\n",
    "# 2nd Batch \n",
    "sns.heatmap(QKMatMul_[1].detach().numpy(), ax=ax[1], xticklabels=INDEX[6:], yticklabels=INDEX[6:] ,annot=True, linewidth=.5,cmap='viridis')\n",
    "ax[1].set_title(\"Second Batch word2Word Relationship\"); "
   ]
  },
  {
   "cell_type": "code",
   "execution_count": 147,
   "metadata": {},
   "outputs": [
    {
     "data": {
      "image/png": "[encoded data removed]",
      "text/plain": [
       "<Figure size 2000x1000 with 4 Axes>"
      ]
     },
     "metadata": {},
     "output_type": "display_data"
    }
   ],
   "source": [
    "# Applying Softmax \n",
    "AfterSoftMax = torch.nn.functional.softmax(QKMatMul_, dim=-1)\n",
    "\n",
    "fig, ax = plt.subplots(nrows =1 , ncols =2, figsize =  (20,10))\n",
    "\n",
    "# ==== Softmax ====\n",
    "\n",
    "# First Batch \n",
    "sns.heatmap(AfterSoftMax[0].detach().numpy(), ax=ax[0], xticklabels=INDEX[:6], yticklabels=INDEX[:6] ,annot=True, linewidth=.5, cmap='viridis')\n",
    "ax[0].set_title(\"First Batch AfterSoftMax\"); \n",
    "\n",
    "# 2nd Batch \n",
    "sns.heatmap(AfterSoftMax[1].detach().numpy(), ax=ax[1], xticklabels=INDEX[6:], yticklabels=INDEX[6:] ,annot=True, linewidth=.5,cmap='viridis')\n",
    "ax[1].set_title(\"Second Batch AfterSoftMax\"); "
   ]
  },
  {
   "cell_type": "code",
   "execution_count": 149,
   "metadata": {},
   "outputs": [
    {
     "data": {
      "image/png": "[encoded data removed]",
      "text/plain": [
       "<Figure size 2000x1000 with 4 Axes>"
      ]
     },
     "metadata": {},
     "output_type": "display_data"
    }
   ],
   "source": [
    "# Multiplying by Values at the end of the Attention Block \n",
    "UnitAttentionOut = torch.matmul(AfterSoftMax, V)\n",
    "\n",
    "fig, ax = plt.subplots(nrows =1 , ncols =2, figsize =  (20,10))\n",
    "\n",
    "# ==== Softmax ====\n",
    "\n",
    "# First Batch \n",
    "sns.heatmap(UnitAttentionOut[0].detach().numpy(), ax=ax[0], xticklabels=[f\"Dim_{n}\" for n in range(0,4)], yticklabels=INDEX[:6] ,annot=True, linewidth=.5, cmap='viridis')\n",
    "ax[0].set_title(\"First Batch Output to Linear Layer\"); \n",
    "\n",
    "# 2nd Batch \n",
    "sns.heatmap(UnitAttentionOut[1].detach().numpy(), ax=ax[1], xticklabels=[f\"Dim_{n}\" for n in range(0,4)], yticklabels=INDEX[6:] ,annot=True, linewidth=.5,cmap='viridis')\n",
    "ax[1].set_title(\"Second Batch Output to Linear Layer\"); "
   ]
  },
  {
   "cell_type": "markdown",
   "metadata": {},
   "source": [
    "##### $Multi \\ Head \\ Attention: \\ Step \\ by \\ Step$"
   ]
  },
  {
   "cell_type": "markdown",
   "metadata": {},
   "source": [
    "$ \\mathrm{MultiHead}(Q, K, V) = \\mathrm{Concat}(\\mathrm{head_1}, ...,\n",
    "\\mathrm{head_h})W^O    \\\\\n",
    "    \\text{where}~\\mathrm{head_i} = \\mathrm{Attention}(QW^Q_i, KW^K_i, VW^V_i)$\n",
    "\n",
    "Where: \n",
    "\n",
    "\n",
    "\\begin{align}\n",
    "W_i^Q & \\in \\mathbb{R}^{d_\\text{model} \\times d_k}, \\\\\n",
    "W_i^K & \\in \\mathbb{R}^{d_\\text{model} \\times d_k}, \\\\\n",
    "W_i^V & \\in \\mathbb{R}^{d_\\text{model} \\times d_v}, \\\\\n",
    "W_i^O & \\in \\mathbb{R}^{hd_v \\times d_{\\text{model}}}.\n",
    "\\end{align}\n",
    "\n",
    "\n",
    "**Understading 4 Dimension Tensor**\n",
    "\n",
    "\n",
    "![4Dimension](https://i.stack.imgur.com/1gypX.png)\n"
   ]
  },
  {
   "cell_type": "code",
   "execution_count": 247,
   "metadata": {},
   "outputs": [],
   "source": [
    "class MultiHeadAttentionLayer(nn.Module):\n",
    "    \"\"\" Multi-Head Attention\"\"\"\n",
    "    def __init__ (self, emb_dim:int, heads:int, dropout :float = 0.1)-> None:\n",
    "        \"\"\" General Multihead Attention\n",
    "        \n",
    "        Paramaters\n",
    "        ---------------------------------------------------------------\n",
    "        \n",
    "        Args:\n",
    "            emb_dim: Number of Dimension in Embedding Layer\n",
    "            heads :  Number of Self-Attention Heads\n",
    "            dropout: dropout settings\n",
    "        \n",
    "        Return \n",
    "        ---------------------------------------------------------------\n",
    "            LinearOuput : Multi-head attention concatenated\n",
    "        \n",
    "        \"\"\"\n",
    "        super(MultiHeadAttentionLayer,self).__init__()\n",
    "        assert (heads % 2 == 0), f\"Number of head must be divisible by 2, given {heads} is not\"\n",
    "        self.emb_dim = emb_dim\n",
    "        self.heads = heads\n",
    "        self.d_k = emb_dim // heads # Head size\n",
    "        self.dropout = dropout\n",
    "        self.QKVO_Weight = nn.ModuleList(nn.Linear(in_features = self.emb_dim, out_features = self.emb_dim) for _ in range(4))\n",
    "\n",
    "        # Reset Weights at starting each block \n",
    "        self._ResetParameters() # YOu can check this explanation : https://www.youtube.com/watch?v=tYFO434Lpm0\n",
    "\n",
    "    def _ResetParameters(self, mask:torch.Tensor = None) -> None:\n",
    "        \"\"\" Initiate Weights and bias\"\"\"\n",
    "        for param_ in self.QKVO_Weight:\n",
    "            # Initiating Weights\n",
    "            nn.init.xavier_uniform_(tensor = param_.weight)\n",
    "\n",
    "            # Initiating Bias\n",
    "            param_.bias.data.fill_(0)\n",
    "            \n",
    "\n",
    "    def forward(self, X:torch.Tensor, mask: Optional[torch.Tensor] = None, return_attention:Optional[bool]=False)-> torch.Tensor:\n",
    "\n",
    "        if mask is not None:\n",
    "            mask = mask.unsqueeze(1)\n",
    "\n",
    "        # Dimension\n",
    "        nbatch_ = X.size(0) # batch_size\n",
    "\n",
    "        # Separate Q, K, V from linear output\n",
    "        Q_ = K_ = V_ = X\n",
    "\n",
    "        # Linear Calculations and Reshaping : -----------------> Check the Explanation <---------------------------\n",
    "        Q_, K_, V_ = [Linear_(X_).view(nbatch_, -1, self.heads, self.d_k).transpose(1, 2)  for Linear_, X_ in zip(self.QKVO_Weight, (Q_, K_, V_))]\n",
    "\n",
    "        # Apply attention on all the projected vectors in batch.\n",
    "        X, self.attn = AttentionUnit(Q= Q_ , K= K_,  V=V_,  mask = mask, dropout=self.dropout)\n",
    "\n",
    "        # Contenating Batches \n",
    "        X = X.transpose(1,2).contiguous().view(nbatch_, -1, self.heads * self.d_k)\n",
    "\n",
    "        Output = self.QKVO_Weight[-1](X) # self.QKVO_Weight[-1] refers to the last Matrix Weight created at init which is \"Weight for Wo\"\n",
    "\n",
    "        if return_attention:\n",
    "            return Output, self.attn\n",
    "        else:\n",
    "            return Output\n",
    "\n"
   ]
  },
  {
   "cell_type": "code",
   "execution_count": 227,
   "metadata": {},
   "outputs": [],
   "source": [
    "class MultiHeadAttention1(nn.Module):\n",
    "    def __init__(self, d_model=4, num_heads=2, dropout=0.3):\n",
    "        super().__init__()\n",
    "\n",
    "        # d_q, d_k, d_v\n",
    "        self.d = d_model//num_heads\n",
    "\n",
    "\n",
    "        self.d_model = d_model\n",
    "        self.num_heads = num_heads\n",
    "\n",
    "        self.dropout = nn.Dropout(dropout)\n",
    "\n",
    "        ##create a list of layers for K, and a list of layers for V\n",
    "        \n",
    "        self.linear_Qs = nn.ModuleList([nn.Linear(d_model, self.d)\n",
    "                                        for _ in range(num_heads)])\n",
    "        self.linear_Ks = nn.ModuleList([nn.Linear(d_model, self.d)\n",
    "                                        for _ in range(num_heads)])\n",
    "        self.linear_Vs = nn.ModuleList([nn.Linear(d_model, self.d)\n",
    "                                        for _ in range(num_heads)])\n",
    "\n",
    "        self.mha_linear = nn.Linear(d_model, d_model)\n",
    "\n",
    "    def scaled_dot_product_attention(self, Q, K, V, mask=None):\n",
    "        # shape(Q) = [B x seq_len x D/num_heads]\n",
    "        # shape(K, V) = [B x seq_len x D/num_heads]\n",
    "\n",
    "        Q_K_matmul = torch.matmul(Q, K.permute(0, 2, 1))\n",
    "        scores = Q_K_matmul/math.sqrt(self.d)\n",
    "        # shape(scores) = [B x seq_len x seq_len]\n",
    "        \n",
    "        if mask is not None:\n",
    "            scores = scores.masked_fill(mask == 0, -1e9)\n",
    "\n",
    "        attention_weights = F.softmax(scores, dim=-1)\n",
    "        # shape(attention_weights) = [B x seq_len x seq_len]\n",
    "\n",
    "        output = torch.matmul(attention_weights, V)\n",
    "        # shape(output) = [B x seq_len x D/num_heads]\n",
    "\n",
    "        return output, attention_weights\n",
    "\n",
    "    def forward(self, pre_q, pre_k, pre_v, mask=None):\n",
    "        # shape(x) = [B x seq_len x D]\n",
    "\n",
    "        Q = [linear_Q(pre_q) for linear_Q in self.linear_Qs]\n",
    "        K = [linear_K(pre_k) for linear_K in self.linear_Ks]\n",
    "        V = [linear_V(pre_v) for linear_V in self.linear_Vs]\n",
    "        # shape(Q, K, V) = [B x seq_len x D/num_heads] * num_heads\n",
    "\n",
    "        output_per_head = []\n",
    "        attn_weights_per_head = []\n",
    "        # shape(output_per_head) = [B x seq_len x D/num_heads] * num_heads\n",
    "        # shape(attn_weights_per_head) = [B x seq_len x seq_len] * num_heads\n",
    "        \n",
    "        for Q_, K_, V_ in zip(Q, K, V):\n",
    "            \n",
    "            ##run scaled_dot_product_attention\n",
    "            output, attn_weight = self.scaled_dot_product_attention(Q_, K_, V_, mask)\n",
    "            # shape(output) = [B x seq_len x D/num_heads]\n",
    "            # shape(attn_weights_per_head) = [B x seq_len x seq_len]\n",
    "            output_per_head.append(output)\n",
    "            attn_weights_per_head.append(attn_weight)\n",
    "\n",
    "        output = torch.cat(output_per_head, -1)\n",
    "        attn_weights = torch.stack(attn_weights_per_head).permute(1, 0, 2, 3)\n",
    "        # shape(output) = [B x seq_len x D]\n",
    "        # shape(attn_weights) = [B x num_heads x seq_len x seq_len]\n",
    "        \n",
    "        projection = self.dropout(self.mha_linear(output))\n",
    "\n",
    "        return projection, attn_weights"
   ]
  },
  {
   "cell_type": "markdown",
   "metadata": {},
   "source": [
    "###  $Layer\\ Normalization $"
   ]
  },
  {
   "cell_type": "markdown",
   "metadata": {},
   "source": [
    "\n",
    "\\begin{align}\n",
    "LayerNorm(x)= \\alpha \\odot \\frac{x_{ij}-\\mu_{i}}\n",
    "{\\sqrt{\\sigma^{2}_{i}+\\epsilon}} + \\beta \\tag{eq.5}\n",
    "\\end{align}"
   ]
  },
  {
   "cell_type": "markdown",
   "metadata": {},
   "source": [
    " ${\\epsilon}$  is to avoid $0$ division;  ${\\alpha, \\beta}$ are parameter, ${\\odot}$ denotes element-wise product. Normally, we initialize ${\\alpha}$ as 1s and ${\\beta}$ as 0s."
   ]
  },
  {
   "cell_type": "code",
   "execution_count": 164,
   "metadata": {},
   "outputs": [],
   "source": [
    "class NormLayer (nn.Module):\n",
    "    \"\"\" Normalization by Layer similar to :attr:`torch.nn.LayerNorm` from pytorch\"\"\"\n",
    "    def __init__(self, input_shape:torch.Tensor, eps:float = 1e-05)-> None:\n",
    "        \"\"\" \n",
    "        Parameters\n",
    "        ---------------------------------------------------------\n",
    "            Args:\n",
    "                input_shape: input_shape usually Emb_model\n",
    "                eps: value for numerical stability \n",
    "        \"\"\"\n",
    "\n",
    "        super(NormLayer, self).__init__()\n",
    "        self.alpha = nn.Parameter(torch.ones(input_shape))\n",
    "        self.beta = nn.Parameter(torch.zeros(input_shape))\n",
    "        self.eps = eps\n",
    "\n",
    "    def forward (self, X):\n",
    "        mean_ = X.mean(-1, keepdim = True) # apply to Rows only\n",
    "        std_ = X.std(-1, keepdim = True) # apply to Rows only\n",
    "        X_Zscore = ( X - mean_) / torch.sqrt( std_**2 + self.eps)\n",
    "        return self.alpha * X_Zscore + self.beta"
   ]
  },
  {
   "cell_type": "code",
   "execution_count": 165,
   "metadata": {},
   "outputs": [],
   "source": [
    "class AddNormLayer (nn.Module):\n",
    "    \"\"\" Handle the :attr:`Residual Connection`\"\"\"\n",
    "    def __init__(self, input_shape:torch.Tensor, dropout:float=0.01)-> None:\n",
    "        \"\"\" \n",
    "        Args:\n",
    "            input_shape: input_shape: input_shape usually Emb_model\n",
    "        \"\"\"\n",
    "        super(AddNormLayer, self).__init__()\n",
    "        self.NormLayer_ = nn.LayerNorm(normalized_shape = input_shape)\n",
    "        self.dropout = nn.Dropout(p = dropout)\n",
    "    \n",
    "    def forward (self, X:torch.Tensor, residual:torch.Tensor):\n",
    "        \"\"\" Add ClosesInput to SkippedConnection and then apply Layer Normalization and dropout if it is given\n",
    "        Args:\n",
    "            ClosesInput: Closes Connection to this Layer\n",
    "            SkippedConnection: skipped connection to be added to the layer\"\"\"\n",
    "\n",
    "        LN = self.NormLayer_(X + residual)\n",
    "        return self.dropout(LN)"
   ]
  },
  {
   "cell_type": "markdown",
   "metadata": {},
   "source": [
    "###  $Feed\\ Forward $"
   ]
  },
  {
   "cell_type": "code",
   "execution_count": 183,
   "metadata": {},
   "outputs": [],
   "source": [
    "class FeedForwardLayer(nn.Module):\n",
    "    \"\"\" FeedForward Layer \"\"\"\n",
    "\n",
    "    def __init__(self,Emb_dim:int, OutputShape :int, dropout:float=0.01)-> None:\n",
    "        super(FeedForwardLayer,self).__init__()\n",
    "        self.Emb_dim = Emb_dim\n",
    "        self.OutputShape = OutputShape\n",
    "        self.dropout = nn.Dropout(p = dropout)\n",
    "\n",
    "        self.FirstLayer = nn.Linear(Emb_dim,OutputShape) # Dimension from AddNormalize Layer: shape [Seq.MaxLength, Emd_dim]\n",
    "        self.SecondLayer = nn.Linear(OutputShape,Emb_dim) # Output send to Multi-head Attention shape: shape [Emd_dim, Seq.MaxLength]\n",
    "        self.RELU = nn.ReLU() # https://pytorch.org/docs/stable/generated/torch.nn.ReLU.html\n",
    "\n",
    "\n",
    "    def forward(self, X):\n",
    "        Layer1 = self.FirstLayer(X)\n",
    "        Activation = self.dropout(self.RELU(Layer1))\n",
    "        Layer2 = self.SecondLayer(Activation)\n",
    "\n",
    "        return Layer2"
   ]
  },
  {
   "cell_type": "code",
   "execution_count": 184,
   "metadata": {},
   "outputs": [
    {
     "data": {
      "text/plain": [
       "tensor([[[0.1415, 0.4664, 0.5388, 0.1882],\n",
       "         [0.1449, 0.3569, 0.4735, 0.1537],\n",
       "         [0.1581, 0.3162, 0.4977, 0.1504],\n",
       "         [0.1542, 0.3496, 0.4759, 0.1717],\n",
       "         [0.1586, 0.3918, 0.5170, 0.1737],\n",
       "         [0.1698, 0.2922, 0.5265, 0.2012]]], grad_fn=<ViewBackward0>)"
      ]
     },
     "execution_count": 184,
     "metadata": {},
     "output_type": "execute_result"
    }
   ],
   "source": [
    "TensorToy = torch.rand(1,6,4)\n",
    "\n",
    "FF = FeedForwardLayer(4,6)\n",
    "FF(TensorToy)"
   ]
  },
  {
   "cell_type": "markdown",
   "metadata": {},
   "source": [
    "###  $Testing $"
   ]
  },
  {
   "cell_type": "code",
   "execution_count": 297,
   "metadata": {},
   "outputs": [],
   "source": [
    "Input_ = torch.Tensor([[[1,2,3,4],[5,6,7,8],[-1,-2,-3,-4],[-5,-6,-7,-8],[1,-2,3,-4],[-1,2,-3,4]]])\n",
    "QW = torch.ones(4,4)\n",
    "input_ = torch.matmul(Input_,QW)\n",
    "Q = K = V = input_"
   ]
  },
  {
   "cell_type": "code",
   "execution_count": 335,
   "metadata": {},
   "outputs": [],
   "source": [
    "# Craeting Wegiths\n",
    "Wq = torch.ones(1,4,4)\n",
    "Wk = torch.ones(1,4,4) * -1 \n",
    "Wv = torch.ones(1,4,4) + 1\n",
    "Wo = torch.Tensor([[[1,0,1,0],[0,1,0,1],[0,0,1,1],[1,1,0,0]]])"
   ]
  },
  {
   "cell_type": "code",
   "execution_count": 336,
   "metadata": {},
   "outputs": [],
   "source": [
    "WQ = torch.matmul(Input_, Wq)\n",
    "WK = torch.matmul(Input_, Wk)\n",
    "WV = torch.matmul(Input_, Wv)"
   ]
  },
  {
   "cell_type": "code",
   "execution_count": 340,
   "metadata": {},
   "outputs": [],
   "source": [
    "HWQ = WQ.view(1,-1,2,2).transpose(1,2)\n",
    "HWK = WK.view(1,-1,2,2).transpose(1,2)\n",
    "HWV = WV.view(1,-1,2,2).transpose(1,2)"
   ]
  },
  {
   "cell_type": "code",
   "execution_count": 344,
   "metadata": {},
   "outputs": [
    {
     "data": {
      "text/plain": [
       "tensor([[[[ 20.,  20.],\n",
       "          [ 52.,  52.],\n",
       "          [-20., -20.],\n",
       "          [-52., -52.],\n",
       "          [ -4.,  -4.],\n",
       "          [  4.,   4.]],\n",
       "\n",
       "         [[ 20.,  20.],\n",
       "          [ 52.,  52.],\n",
       "          [-20., -20.],\n",
       "          [-52., -52.],\n",
       "          [ -4.,  -4.],\n",
       "          [  4.,   4.]]]])"
      ]
     },
     "execution_count": 344,
     "metadata": {},
     "output_type": "execute_result"
    }
   ],
   "source": [
    "HWV"
   ]
  },
  {
   "cell_type": "code",
   "execution_count": 345,
   "metadata": {},
   "outputs": [],
   "source": [
    "def attention(query, key, value, mask=None, dropout=None):\n",
    "    \"Compute 'Scaled Dot Product Attention'\"\n",
    "    d_k = query.size(-1) \n",
    "    scores = torch.matmul(query, key.transpose(-2, -1)) / math.sqrt(d_k)\n",
    "    if mask is not None:\n",
    "        scores = scores.masked_fill(mask == 0, -1e9)\n",
    "    p_attn = F.softmax(scores, dim=-1)\n",
    "    if dropout is not None:\n",
    "        p_attn = dropout(p_attn)\n",
    "    return torch.matmul(p_attn, value), p_attn"
   ]
  },
  {
   "cell_type": "code",
   "execution_count": 418,
   "metadata": {},
   "outputs": [],
   "source": [
    "class MultiHeadedAttention_(nn.Module):\n",
    "    def __init__(self, h, d_model, dropout=0.1):\n",
    "        \"Take in model size and number of heads.\"\n",
    "        super(MultiHeadedAttention_, self).__init__()\n",
    "        assert d_model % h == 0 # check the h number\n",
    "        self.d_k = d_model // h\n",
    "        self.h = h\n",
    "        # 4 linear layers: WQ WK WV and final linear mapping WO  \n",
    "        self.linears = nn.ModuleList([nn.Linear(d_model,d_model, bias=False) for _ in range(4)])\n",
    "        self.linears[0].weight.data = torch.ones(4,4)\n",
    "        self.linears[1].weight.data  = torch.ones(4,4) * -1 \n",
    "        self.linears[2].weight.data = torch.ones(4,4) + 1\n",
    "        self.linears[3].weight.data = torch.Tensor([[1,0,1,0],[0,1,0,1],[0,0,1,1],[1,1,0,0]])\n",
    "\n",
    "        \n",
    "        self.attn = None\n",
    "        self.dropout = nn.Dropout(p=dropout)\n",
    "        self.query = None\n",
    "        self.key = None\n",
    "        self.value = None\n",
    "\n",
    "    def forward(self, query, key, value, mask=None):\n",
    "        if mask is not None:\n",
    "            # Same mask applied to all h heads.\n",
    "            mask = mask.unsqueeze(1)\n",
    "        nbatches = query.size(0) # get batch size\n",
    "        # 1) Do all the linear projections in batch from d_model => h x d_k \n",
    "        # parttion into h sections，switch 2,3 axis for computation. \n",
    "        query, key, value = [l(x).view(nbatches, -1, self.h, self.d_k).transpose(1, 2) \n",
    "                             for l, x in zip(self.linears, (query, key, value))]\n",
    "\n",
    "        self.query , self.key, self.value =  query, key, value \n",
    "        # 2) Apply attention on all the projected vectors in batch.\n",
    "        x, self.attn = attention(query, key, value, mask=mask, dropout=self.dropout)\n",
    "        # 3) \"Concat\" using a view and apply a final linear. \n",
    "        x = x.transpose(1, 2).contiguous().view(nbatches, -1, self.h * self.d_k)\n",
    "        return self.linears[-1](x) # final linear layer"
   ]
  },
  {
   "cell_type": "code",
   "execution_count": 419,
   "metadata": {},
   "outputs": [
    {
     "data": {
      "text/plain": [
       "tensor([[[-1.1556e+02, -1.1556e+02, -1.1556e+02, -1.1556e+02],\n",
       "         [-1.1556e+02, -1.1556e+02, -1.1556e+02, -1.1556e+02],\n",
       "         [ 1.1556e+02,  1.1556e+02,  1.1556e+02,  1.1556e+02],\n",
       "         [ 5.7778e+01,  5.7778e+01,  0.0000e+00,  1.1556e+02],\n",
       "         [ 1.1556e+02,  1.1556e+02,  1.1556e+02,  1.1556e+02],\n",
       "         [-5.7778e+01, -5.7778e+01, -9.8603e-19, -1.1556e+02]]],\n",
       "       grad_fn=<UnsafeViewBackward0>)"
      ]
     },
     "execution_count": 419,
     "metadata": {},
     "output_type": "execute_result"
    }
   ],
   "source": [
    "check = MultiHeadedAttention_(2,4)\n",
    "check(Input_, Input_, Input_)"
   ]
  },
  {
   "cell_type": "code",
   "execution_count": 422,
   "metadata": {},
   "outputs": [
    {
     "data": {
      "text/plain": [
       "(tensor([[[[-52., -52.],\n",
       "           [-52., -52.],\n",
       "           [ 52.,  52.],\n",
       "           [ 52.,  52.],\n",
       "           [ 52.,  52.],\n",
       "           [-52., -52.]],\n",
       " \n",
       "          [[-52., -52.],\n",
       "           [-52., -52.],\n",
       "           [ 52.,  52.],\n",
       "           [ 52.,  52.],\n",
       "           [ 52.,  52.],\n",
       "           [-52., -52.]]]], grad_fn=<UnsafeViewBackward0>),\n",
       " tensor([[[[0.0000e+00, 0.0000e+00, 0.0000e+00, 1.0000e+00, 0.0000e+00,\n",
       "            0.0000e+00],\n",
       "           [0.0000e+00, 0.0000e+00, 0.0000e+00, 1.0000e+00, 0.0000e+00,\n",
       "            0.0000e+00],\n",
       "           [0.0000e+00, 1.0000e+00, 0.0000e+00, 0.0000e+00, 0.0000e+00,\n",
       "            0.0000e+00],\n",
       "           [0.0000e+00, 1.0000e+00, 0.0000e+00, 0.0000e+00, 0.0000e+00,\n",
       "            0.0000e+00],\n",
       "           [2.2186e-20, 1.0000e+00, 5.6052e-45, 0.0000e+00, 4.0330e-35,\n",
       "            3.3045e-30],\n",
       "           [5.6052e-45, 0.0000e+00, 2.2186e-20, 1.0000e+00, 3.3045e-30,\n",
       "            4.0330e-35]],\n",
       " \n",
       "          [[0.0000e+00, 0.0000e+00, 0.0000e+00, 1.0000e+00, 0.0000e+00,\n",
       "            0.0000e+00],\n",
       "           [0.0000e+00, 0.0000e+00, 0.0000e+00, 1.0000e+00, 0.0000e+00,\n",
       "            0.0000e+00],\n",
       "           [0.0000e+00, 1.0000e+00, 0.0000e+00, 0.0000e+00, 0.0000e+00,\n",
       "            0.0000e+00],\n",
       "           [0.0000e+00, 1.0000e+00, 0.0000e+00, 0.0000e+00, 0.0000e+00,\n",
       "            0.0000e+00],\n",
       "           [2.2186e-20, 1.0000e+00, 5.6052e-45, 0.0000e+00, 4.0330e-35,\n",
       "            3.3045e-30],\n",
       "           [5.6052e-45, 0.0000e+00, 2.2186e-20, 1.0000e+00, 3.3045e-30,\n",
       "            4.0330e-35]]]], grad_fn=<SoftmaxBackward0>))"
      ]
     },
     "execution_count": 422,
     "metadata": {},
     "output_type": "execute_result"
    }
   ],
   "source": [
    "AttentionUnit(check.query, check.key,check.value)"
   ]
  }
 ],
 "metadata": {
  "kernelspec": {
   "display_name": "Python 3.9.13 ('base')",
   "language": "python",
   "name": "python3"
  },
  "language_info": {
   "codemirror_mode": {
    "name": "ipython",
    "version": 3
   },
   "file_extension": ".py",
   "mimetype": "text/x-python",
   "name": "python",
   "nbconvert_exporter": "python",
   "pygments_lexer": "ipython3",
   "version": "3.9.13"
  },
  "orig_nbformat": 4,
  "vscode": {
   "interpreter": {
    "hash": "32fec40cd58b30964898a2316b7a6c6cca3b94bb6c135d58a9097c7356976a0a"
   }
  }
 },
 "nbformat": 4,
 "nbformat_minor": 2
}
